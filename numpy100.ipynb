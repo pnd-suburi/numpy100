{
 "cells": [
  {
   "cell_type": "markdown",
   "metadata": {},
   "source": [
    "### #1 import the numpy package under the name np"
   ]
  },
  {
   "cell_type": "code",
   "execution_count": 1,
   "metadata": {
    "collapsed": true
   },
   "outputs": [],
   "source": [
    "import numpy as np"
   ]
  },
  {
   "cell_type": "markdown",
   "metadata": {},
   "source": [
    "### #2 print the numpy version and configuration"
   ]
  },
  {
   "cell_type": "code",
   "execution_count": 2,
   "metadata": {},
   "outputs": [
    {
     "name": "stdout",
     "output_type": "stream",
     "text": [
      "1.13.3\n",
      "blas_mkl_info:\n",
      "    libraries = ['mkl_rt']\n",
      "    library_dirs = ['C:/Users/owner/Anaconda3\\\\Library\\\\lib']\n",
      "    define_macros = [('SCIPY_MKL_H', None), ('HAVE_CBLAS', None)]\n",
      "    include_dirs = ['C:\\\\Program Files (x86)\\\\IntelSWTools\\\\compilers_and_libraries_2016.4.246\\\\windows\\\\mkl', 'C:\\\\Program Files (x86)\\\\IntelSWTools\\\\compilers_and_libraries_2016.4.246\\\\windows\\\\mkl\\\\include', 'C:\\\\Program Files (x86)\\\\IntelSWTools\\\\compilers_and_libraries_2016.4.246\\\\windows\\\\mkl\\\\lib', 'C:/Users/owner/Anaconda3\\\\Library\\\\include']\n",
      "blas_opt_info:\n",
      "    libraries = ['mkl_rt']\n",
      "    library_dirs = ['C:/Users/owner/Anaconda3\\\\Library\\\\lib']\n",
      "    define_macros = [('SCIPY_MKL_H', None), ('HAVE_CBLAS', None)]\n",
      "    include_dirs = ['C:\\\\Program Files (x86)\\\\IntelSWTools\\\\compilers_and_libraries_2016.4.246\\\\windows\\\\mkl', 'C:\\\\Program Files (x86)\\\\IntelSWTools\\\\compilers_and_libraries_2016.4.246\\\\windows\\\\mkl\\\\include', 'C:\\\\Program Files (x86)\\\\IntelSWTools\\\\compilers_and_libraries_2016.4.246\\\\windows\\\\mkl\\\\lib', 'C:/Users/owner/Anaconda3\\\\Library\\\\include']\n",
      "lapack_mkl_info:\n",
      "    libraries = ['mkl_rt']\n",
      "    library_dirs = ['C:/Users/owner/Anaconda3\\\\Library\\\\lib']\n",
      "    define_macros = [('SCIPY_MKL_H', None), ('HAVE_CBLAS', None)]\n",
      "    include_dirs = ['C:\\\\Program Files (x86)\\\\IntelSWTools\\\\compilers_and_libraries_2016.4.246\\\\windows\\\\mkl', 'C:\\\\Program Files (x86)\\\\IntelSWTools\\\\compilers_and_libraries_2016.4.246\\\\windows\\\\mkl\\\\include', 'C:\\\\Program Files (x86)\\\\IntelSWTools\\\\compilers_and_libraries_2016.4.246\\\\windows\\\\mkl\\\\lib', 'C:/Users/owner/Anaconda3\\\\Library\\\\include']\n",
      "lapack_opt_info:\n",
      "    libraries = ['mkl_rt']\n",
      "    library_dirs = ['C:/Users/owner/Anaconda3\\\\Library\\\\lib']\n",
      "    define_macros = [('SCIPY_MKL_H', None), ('HAVE_CBLAS', None)]\n",
      "    include_dirs = ['C:\\\\Program Files (x86)\\\\IntelSWTools\\\\compilers_and_libraries_2016.4.246\\\\windows\\\\mkl', 'C:\\\\Program Files (x86)\\\\IntelSWTools\\\\compilers_and_libraries_2016.4.246\\\\windows\\\\mkl\\\\include', 'C:\\\\Program Files (x86)\\\\IntelSWTools\\\\compilers_and_libraries_2016.4.246\\\\windows\\\\mkl\\\\lib', 'C:/Users/owner/Anaconda3\\\\Library\\\\include']\n"
     ]
    }
   ],
   "source": [
    "print(np.__version__)\n",
    "np.show_config()"
   ]
  },
  {
   "cell_type": "markdown",
   "metadata": {},
   "source": [
    "### #3 create null vector of size 10"
   ]
  },
  {
   "cell_type": "code",
   "execution_count": 3,
   "metadata": {},
   "outputs": [
    {
     "name": "stdout",
     "output_type": "stream",
     "text": [
      "[ 0.  0.  0.  0.  0.  0.  0.  0.  0.  0.]\n"
     ]
    }
   ],
   "source": [
    "v = np.zeros(10)\n",
    "print(v)"
   ]
  },
  {
   "cell_type": "markdown",
   "metadata": {},
   "source": [
    "### #4 how to find the memory size of any array"
   ]
  },
  {
   "cell_type": "code",
   "execution_count": 4,
   "metadata": {},
   "outputs": [
    {
     "data": {
      "text/plain": [
       "80"
      ]
     },
     "execution_count": 4,
     "metadata": {},
     "output_type": "execute_result"
    }
   ],
   "source": [
    "v.itemsize * v.size"
   ]
  },
  {
   "cell_type": "markdown",
   "metadata": {},
   "source": [
    "### #6 create a null vector of size 10 but the fifth value which is 1"
   ]
  },
  {
   "cell_type": "code",
   "execution_count": 5,
   "metadata": {},
   "outputs": [
    {
     "name": "stdout",
     "output_type": "stream",
     "text": [
      "[ 0.  0.  0.  0.  1.  0.  0.  0.  0.  0.]\n"
     ]
    }
   ],
   "source": [
    "v5 = np.zeros(10)\n",
    "v5[4] = 1\n",
    "print(v5)"
   ]
  },
  {
   "cell_type": "markdown",
   "metadata": {},
   "source": [
    "### #7 create a vector with values ranging from 10 to 49 "
   ]
  },
  {
   "cell_type": "code",
   "execution_count": 6,
   "metadata": {},
   "outputs": [
    {
     "name": "stdout",
     "output_type": "stream",
     "text": [
      "[10 11 12 13 14 15 16 17 18 19 20 21 22 23 24 25 26 27 28 29 30 31 32 33 34\n",
      " 35 36 37 38 39 40 41 42 43 44 45 46 47 48 49]\n"
     ]
    }
   ],
   "source": [
    "v7 = np.arange(10, 50)\n",
    "print(v7)"
   ]
  },
  {
   "cell_type": "markdown",
   "metadata": {},
   "source": [
    "### #8 reverse a vector"
   ]
  },
  {
   "cell_type": "code",
   "execution_count": 7,
   "metadata": {},
   "outputs": [
    {
     "name": "stdout",
     "output_type": "stream",
     "text": [
      "[49 48 47 46 45 44 43 42 41 40 39 38 37 36 35 34 33 32 31 30 29 28 27 26 25\n",
      " 24 23 22 21 20 19 18 17 16 15 14 13 12 11 10]\n"
     ]
    }
   ],
   "source": [
    "v8 = v7[::-1]\n",
    "print(v8)"
   ]
  },
  {
   "cell_type": "markdown",
   "metadata": {},
   "source": [
    "### #9 create a 3*3 matirix with values ranging from 0 to 8"
   ]
  },
  {
   "cell_type": "code",
   "execution_count": 8,
   "metadata": {},
   "outputs": [
    {
     "data": {
      "text/plain": [
       "array([[0, 1, 2],\n",
       "       [3, 4, 5],\n",
       "       [6, 7, 8]])"
      ]
     },
     "execution_count": 8,
     "metadata": {},
     "output_type": "execute_result"
    }
   ],
   "source": [
    "v9 = np.arange(0, 9).reshape(3, 3)\n",
    "v9"
   ]
  },
  {
   "cell_type": "markdown",
   "metadata": {},
   "source": [
    "### #10 find indices of non-zero elements from [1,2,0,0,4,0]"
   ]
  },
  {
   "cell_type": "code",
   "execution_count": 9,
   "metadata": {},
   "outputs": [
    {
     "name": "stdout",
     "output_type": "stream",
     "text": [
      "(array([0, 1, 4], dtype=int64),)\n"
     ]
    }
   ],
   "source": [
    "v10 = np.nonzero([1, 2, 0, 0, 4, 0])\n",
    "print(v10)"
   ]
  },
  {
   "cell_type": "markdown",
   "metadata": {},
   "source": [
    "### #11 create a 3*3 identity matrix"
   ]
  },
  {
   "cell_type": "code",
   "execution_count": 10,
   "metadata": {},
   "outputs": [
    {
     "name": "stdout",
     "output_type": "stream",
     "text": [
      "[[ 1.  0.  0.]\n",
      " [ 0.  1.  0.]\n",
      " [ 0.  0.  1.]]\n"
     ]
    }
   ],
   "source": [
    "v11 = np.eye(3)\n",
    "print(v11)"
   ]
  },
  {
   "cell_type": "markdown",
   "metadata": {},
   "source": [
    "### #12 create a 3*3*3 array with random values"
   ]
  },
  {
   "cell_type": "code",
   "execution_count": 11,
   "metadata": {},
   "outputs": [
    {
     "name": "stdout",
     "output_type": "stream",
     "text": [
      "[[[ 0.16553517  0.9170792   0.6802623 ]\n",
      "  [ 0.59412448  0.47422429  0.72147801]\n",
      "  [ 0.83990066  0.29417284  0.00267399]]\n",
      "\n",
      " [[ 0.13364429  0.43818334  0.55015465]\n",
      "  [ 0.82923907  0.00693051  0.77094044]\n",
      "  [ 0.31369573  0.38614678  0.12889479]]\n",
      "\n",
      " [[ 0.27379147  0.24096598  0.30755517]\n",
      "  [ 0.15609902  0.0571157   0.34427864]\n",
      "  [ 0.86325675  0.88018281  0.90873092]]]\n"
     ]
    }
   ],
   "source": [
    "v12 = np.random.random((3, 3, 3))\n",
    "print(v12)"
   ]
  },
  {
   "cell_type": "markdown",
   "metadata": {},
   "source": [
    "### #13 create a 10*10 array with random values and find the minimum and maximum values"
   ]
  },
  {
   "cell_type": "code",
   "execution_count": 12,
   "metadata": {},
   "outputs": [
    {
     "name": "stdout",
     "output_type": "stream",
     "text": [
      "[[ 0.150043    0.60316657  0.63610336  0.33349458  0.76444749  0.86277742\n",
      "   0.83733694  0.64731613  0.69394359  0.22244952]\n",
      " [ 0.17822353  0.5469356   0.27344761  0.64973111  0.06006025  0.75359459\n",
      "   0.70238014  0.83676037  0.78847466  0.08441831]\n",
      " [ 0.05023547  0.02293747  0.65882755  0.20680162  0.18776867  0.38304141\n",
      "   0.47459191  0.66422375  0.24865429  0.69134233]\n",
      " [ 0.17430299  0.72489995  0.18639755  0.83114605  0.58611833  0.03967815\n",
      "   0.48507829  0.52259638  0.4729302   0.15175323]\n",
      " [ 0.03172841  0.88887217  0.98645862  0.06870123  0.7485692   0.68036888\n",
      "   0.05907348  0.64087283  0.28984593  0.76055572]\n",
      " [ 0.32479306  0.71457579  0.03595595  0.76247454  0.65401346  0.41241718\n",
      "   0.67524871  0.3840511   0.09681849  0.05516349]\n",
      " [ 0.7202785   0.9207773   0.27879485  0.07762563  0.1777103   0.01517417\n",
      "   0.14891039  0.7600344   0.21478011  0.08383524]\n",
      " [ 0.41273115  0.35527733  0.45874798  0.06218455  0.30055612  0.91737213\n",
      "   0.64259349  0.46649105  0.48960352  0.90777093]\n",
      " [ 0.77905775  0.73395724  0.0977534   0.22364276  0.23092885  0.9456077\n",
      "   0.28418883  0.69762864  0.44448638  0.20424006]\n",
      " [ 0.3267589   0.04709253  0.06627281  0.93477639  0.64745443  0.76512068\n",
      "   0.38975023  0.03847062  0.06530356  0.64247106]]\n",
      "minimum: 0.015174166673559197\n",
      "maximum: 0.9864586164325264\n"
     ]
    }
   ],
   "source": [
    "v13 = np.random.random((10, 10))\n",
    "v_min, v_max = v13.min(), v13.max()\n",
    "print(v13)\n",
    "print(\"minimum: {}\\nmaximum: {}\".format(v_min, v_max))"
   ]
  },
  {
   "cell_type": "markdown",
   "metadata": {},
   "source": [
    "### #14 create a random vector of size 30 and find the mean value"
   ]
  },
  {
   "cell_type": "code",
   "execution_count": 13,
   "metadata": {},
   "outputs": [
    {
     "name": "stdout",
     "output_type": "stream",
     "text": [
      "[ 0.53765896  0.70371523  0.47573803  0.77899219  0.75589075  0.7405702\n",
      "  0.70899524  0.47159298  0.74957444  0.81520293  0.83602488  0.50826034\n",
      "  0.2131564   0.18182732  0.69089752  0.87584702  0.39552297  0.31708719\n",
      "  0.09519608  0.50753416  0.58034096  0.47991543  0.14618442  0.33289754\n",
      "  0.7145508   0.44493964  0.31826084  0.11814466  0.83625536  0.40080348] \n",
      "mean: 0.5243859327674895\n"
     ]
    }
   ],
   "source": [
    "v14 = np.random.random(30)\n",
    "m = v14.mean()\n",
    "print(v14, \"\\nmean: {}\".format(m))"
   ]
  },
  {
   "cell_type": "markdown",
   "metadata": {},
   "source": [
    "### #15 create a 2D array with 1 on the border and 0 inside"
   ]
  },
  {
   "cell_type": "code",
   "execution_count": 14,
   "metadata": {},
   "outputs": [
    {
     "name": "stdout",
     "output_type": "stream",
     "text": [
      "[[ 1.  1.  1.  1.  1.  1.  1.  1.  1.  1.]\n",
      " [ 1.  0.  0.  0.  0.  0.  0.  0.  0.  1.]\n",
      " [ 1.  0.  0.  0.  0.  0.  0.  0.  0.  1.]\n",
      " [ 1.  0.  0.  0.  0.  0.  0.  0.  0.  1.]\n",
      " [ 1.  0.  0.  0.  0.  0.  0.  0.  0.  1.]\n",
      " [ 1.  0.  0.  0.  0.  0.  0.  0.  0.  1.]\n",
      " [ 1.  0.  0.  0.  0.  0.  0.  0.  0.  1.]\n",
      " [ 1.  0.  0.  0.  0.  0.  0.  0.  0.  1.]\n",
      " [ 1.  0.  0.  0.  0.  0.  0.  0.  0.  1.]\n",
      " [ 1.  1.  1.  1.  1.  1.  1.  1.  1.  1.]]\n"
     ]
    }
   ],
   "source": [
    "v15 = np.ones((10, 10))\n",
    "v15[1:-1, 1:-1] = 0\n",
    "print(v15)"
   ]
  },
  {
   "cell_type": "markdown",
   "metadata": {},
   "source": [
    "### #16 how to add a border (filled with 0's) around an existing array ?"
   ]
  },
  {
   "cell_type": "code",
   "execution_count": 15,
   "metadata": {},
   "outputs": [
    {
     "name": "stdout",
     "output_type": "stream",
     "text": [
      "[[ 0.  0.  0.  0.  0.  0.  0.]\n",
      " [ 0.  1.  1.  1.  1.  1.  0.]\n",
      " [ 0.  1.  1.  1.  1.  1.  0.]\n",
      " [ 0.  1.  1.  1.  1.  1.  0.]\n",
      " [ 0.  1.  1.  1.  1.  1.  0.]\n",
      " [ 0.  1.  1.  1.  1.  1.  0.]\n",
      " [ 0.  0.  0.  0.  0.  0.  0.]]\n"
     ]
    }
   ],
   "source": [
    "v16 = np.ones((5, 5))\n",
    "v16 = np.pad(v16, pad_width=1, mode='constant', constant_values=0)\n",
    "print(v16)"
   ]
  },
  {
   "cell_type": "markdown",
   "metadata": {},
   "source": [
    "### #17 what is the result of the following expression ?"
   ]
  },
  {
   "cell_type": "code",
   "execution_count": 16,
   "metadata": {},
   "outputs": [
    {
     "name": "stdout",
     "output_type": "stream",
     "text": [
      "nan\n",
      "False\n",
      "False\n",
      "nan\n",
      "False\n"
     ]
    }
   ],
   "source": [
    "print(0 * np.nan)\n",
    "print(np.nan == np.nan)\n",
    "print(np.inf > np.nan)\n",
    "print(np.nan - np.nan)\n",
    "print(0.3 == 3 * 0.1)"
   ]
  },
  {
   "cell_type": "markdown",
   "metadata": {},
   "source": [
    "### #18 create a 5 * 5 matrix with values 1,2,3,4 just below the diagonal"
   ]
  },
  {
   "cell_type": "code",
   "execution_count": 17,
   "metadata": {},
   "outputs": [
    {
     "name": "stdout",
     "output_type": "stream",
     "text": [
      "[[0 0 0 0 0]\n",
      " [1 0 0 0 0]\n",
      " [0 2 0 0 0]\n",
      " [0 0 3 0 0]\n",
      " [0 0 0 4 0]]\n"
     ]
    }
   ],
   "source": [
    "v18 = np.diag(1+np.arange(4), k=-1)\n",
    "print(v18)"
   ]
  },
  {
   "cell_type": "markdown",
   "metadata": {},
   "source": [
    "### #19 create a 8 * 8 matrix and fill it with a checkerboard pattern"
   ]
  },
  {
   "cell_type": "code",
   "execution_count": 18,
   "metadata": {},
   "outputs": [
    {
     "name": "stdout",
     "output_type": "stream",
     "text": [
      "[[ 0.  1.  0.  1.  0.  1.  0.  1.]\n",
      " [ 1.  0.  1.  0.  1.  0.  1.  0.]\n",
      " [ 0.  1.  0.  1.  0.  1.  0.  1.]\n",
      " [ 1.  0.  1.  0.  1.  0.  1.  0.]\n",
      " [ 0.  1.  0.  1.  0.  1.  0.  1.]\n",
      " [ 1.  0.  1.  0.  1.  0.  1.  0.]\n",
      " [ 0.  1.  0.  1.  0.  1.  0.  1.]\n",
      " [ 1.  0.  1.  0.  1.  0.  1.  0.]]\n"
     ]
    }
   ],
   "source": [
    "v19 = np.zeros((8, 8))\n",
    "v19[1::2, ::2] = 1\n",
    "v19[::2, 1::2] = 1\n",
    "print(v19)"
   ]
  },
  {
   "cell_type": "markdown",
   "metadata": {},
   "source": [
    "### #20 consider a (6,7,8) shape array, what is the index (x,y,z) of the 100th element ? "
   ]
  },
  {
   "cell_type": "code",
   "execution_count": 19,
   "metadata": {},
   "outputs": [
    {
     "name": "stdout",
     "output_type": "stream",
     "text": [
      "(1, 5, 4)\n"
     ]
    }
   ],
   "source": [
    "print(np.unravel_index(100,(6,7,8)))"
   ]
  },
  {
   "cell_type": "markdown",
   "metadata": {},
   "source": [
    "### #21 create a chekerboard 8 * 8 matrix using the tile function"
   ]
  },
  {
   "cell_type": "code",
   "execution_count": 20,
   "metadata": {},
   "outputs": [
    {
     "name": "stdout",
     "output_type": "stream",
     "text": [
      "[[0 1 0 1 0 1 0 1]\n",
      " [1 0 1 0 1 0 1 0]\n",
      " [0 1 0 1 0 1 0 1]\n",
      " [1 0 1 0 1 0 1 0]\n",
      " [0 1 0 1 0 1 0 1]\n",
      " [1 0 1 0 1 0 1 0]\n",
      " [0 1 0 1 0 1 0 1]\n",
      " [1 0 1 0 1 0 1 0]]\n"
     ]
    }
   ],
   "source": [
    "v21 = np.tile(np.array([[0, 1], [1, 0]]), (4, 4))\n",
    "print(v21)"
   ]
  },
  {
   "cell_type": "markdown",
   "metadata": {},
   "source": [
    "### #22 normalize a 5 * 5 random matrix"
   ]
  },
  {
   "cell_type": "code",
   "execution_count": 21,
   "metadata": {},
   "outputs": [
    {
     "name": "stdout",
     "output_type": "stream",
     "text": [
      "[[ 0.29247156  0.34800837  0.15961629  0.11384755  0.14702607]\n",
      " [ 1.          0.82323393  0.40042506  0.49294599  0.        ]\n",
      " [ 0.39645305  0.09428489  0.13463872  0.99848755  0.73221507]\n",
      " [ 0.7976382   0.38690482  0.68243595  0.73468248  0.09461135]\n",
      " [ 0.76959446  0.17422336  0.92467839  0.21136993  0.35307944]]\n"
     ]
    }
   ],
   "source": [
    "v22 = np.random.random((5, 5))\n",
    "v_min, v_max = v22.min(), v22.max()\n",
    "v22 = (v22 - v_min) / (v_max - v_min)\n",
    "print(v22)"
   ]
  },
  {
   "cell_type": "code",
   "execution_count": 22,
   "metadata": {},
   "outputs": [
    {
     "name": "stdout",
     "output_type": "stream",
     "text": [
      "[[ 0.11139129 -0.74965638 -0.11868759 -1.55806213  1.1231727 ]\n",
      " [-1.2200485  -1.50030239  0.43530142 -0.3947081   0.40145786]\n",
      " [ 1.3725158   0.63715176 -0.48325193 -1.03359065 -0.59692997]\n",
      " [ 0.66153482  1.12077841  1.60450666 -0.3873912  -0.22000181]\n",
      " [ 0.548648    1.29374091 -1.41069766  1.60127815 -1.23814947]]\n"
     ]
    }
   ],
   "source": [
    "v22 = np.random.random((5, 5))\n",
    "v_mean, v_sigma = v22.mean(), v22.std()\n",
    "v22 = (v22 - v_mean) / v_sigma\n",
    "print(v22)"
   ]
  },
  {
   "cell_type": "markdown",
   "metadata": {},
   "source": [
    "### #23 create a custom dtype that describes a color as four unsinged bytes "
   ]
  },
  {
   "cell_type": "code",
   "execution_count": 23,
   "metadata": {},
   "outputs": [
    {
     "name": "stdout",
     "output_type": "stream",
     "text": [
      "[('r', 'u1'), ('g', 'u1'), ('b', 'u1'), ('a', 'u1')]\n"
     ]
    }
   ],
   "source": [
    "color = np.dtype([(\"r\", np.ubyte, 1),\n",
    "                  (\"g\", np.ubyte, 1),\n",
    "                  (\"b\", np.ubyte, 1),\n",
    "                  (\"a\", np.ubyte, 1)])\n",
    "print(color)"
   ]
  },
  {
   "cell_type": "markdown",
   "metadata": {},
   "source": [
    "### #24 multiply a 5 * 3 matrix by a 3 * 2 matrix (real matrix product)"
   ]
  },
  {
   "cell_type": "code",
   "execution_count": 24,
   "metadata": {},
   "outputs": [
    {
     "name": "stdout",
     "output_type": "stream",
     "text": [
      "[[ 3.  3.]\n",
      " [ 3.  3.]\n",
      " [ 3.  3.]\n",
      " [ 3.  3.]\n",
      " [ 3.  3.]]\n"
     ]
    }
   ],
   "source": [
    "v24 = np.dot(np.ones((5, 3)), np.ones((3, 2)))\n",
    "v24 = np.ones((5, 3)) @ np.ones((3, 2))\n",
    "print(v24)"
   ]
  },
  {
   "cell_type": "markdown",
   "metadata": {},
   "source": [
    "### #25 given a 1D array, negate all elements which are between 3 and 8, in place"
   ]
  },
  {
   "cell_type": "code",
   "execution_count": 25,
   "metadata": {},
   "outputs": [
    {
     "name": "stdout",
     "output_type": "stream",
     "text": [
      "[ 0  1  2 -3 -4 -5 -6 -7 -8  9]\n"
     ]
    }
   ],
   "source": [
    "v25 = np.arange(10)\n",
    "v25[(3 <= v25) & (v25 <= 8)] *= -1\n",
    "print(v25)"
   ]
  },
  {
   "cell_type": "markdown",
   "metadata": {},
   "source": [
    "### #26 what is the output of the following script ?"
   ]
  },
  {
   "cell_type": "code",
   "execution_count": 26,
   "metadata": {},
   "outputs": [
    {
     "name": "stdout",
     "output_type": "stream",
     "text": [
      "9\n",
      "10\n"
     ]
    }
   ],
   "source": [
    "print(sum(range(5),-1))\n",
    "from numpy import *\n",
    "print(sum(range(5),-1))"
   ]
  },
  {
   "cell_type": "markdown",
   "metadata": {},
   "source": [
    "### #27 consider an integer vector Z, which of these expressions are legal ?"
   ]
  },
  {
   "cell_type": "code",
   "execution_count": 27,
   "metadata": {},
   "outputs": [
    {
     "name": "stdout",
     "output_type": "stream",
     "text": [
      "[ 0  1  4  9 16]\n",
      "[0 1 2 4 8]\n",
      "[False False False False False]\n",
      "[ 0.+0.j  0.+1.j  0.+2.j  0.+3.j  0.+4.j]\n",
      "[ 0.  1.  2.  3.  4.]\n"
     ]
    }
   ],
   "source": [
    "z = np.arange(5)\n",
    "print(z * z)\n",
    "print(2 << z >> 2)\n",
    "print(z <- z)\n",
    "print(1j*z)\n",
    "print(z/1/1)"
   ]
  },
  {
   "cell_type": "markdown",
   "metadata": {},
   "source": [
    "### #28 what are the result of the following expressions ?"
   ]
  },
  {
   "cell_type": "code",
   "execution_count": 28,
   "metadata": {},
   "outputs": [
    {
     "name": "stdout",
     "output_type": "stream",
     "text": [
      "nan\n",
      "0\n",
      "[ -2.14748365e+09]\n"
     ]
    },
    {
     "name": "stderr",
     "output_type": "stream",
     "text": [
      "C:\\Users\\owner\\Anaconda3\\lib\\site-packages\\ipykernel_launcher.py:1: RuntimeWarning: invalid value encountered in true_divide\n",
      "  \"\"\"Entry point for launching an IPython kernel.\n",
      "C:\\Users\\owner\\Anaconda3\\lib\\site-packages\\ipykernel_launcher.py:2: RuntimeWarning: divide by zero encountered in floor_divide\n",
      "  \n"
     ]
    }
   ],
   "source": [
    "print(np.array(0) / np.array(0))\n",
    "print(np.array(0) // np.array(0))\n",
    "print(np.array([np.nan]).astype(int).astype(float))"
   ]
  },
  {
   "cell_type": "markdown",
   "metadata": {},
   "source": [
    "### #29 how to round away from zero a float array ?"
   ]
  },
  {
   "cell_type": "code",
   "execution_count": 29,
   "metadata": {},
   "outputs": [
    {
     "name": "stdout",
     "output_type": "stream",
     "text": [
      "[-4.18649034 -0.29003989 -4.8745195  -3.26242953 -0.63839554  9.52360185\n",
      "  4.58855751  1.66493198 -8.253491   -4.80373973 -3.61527313  5.3057704\n",
      " -2.64799169 -0.75098882  7.21731897 -6.04336915  8.44465061 -2.2208259\n",
      "  3.50516893 -8.95608875]\n",
      "[ -5.  -1.  -5.  -4.  -1.  10.   5.   2.  -9.  -5.  -4.   6.  -3.  -1.   8.\n",
      "  -7.   9.  -3.   4.  -9.]\n"
     ]
    }
   ],
   "source": [
    "v29 = np.random.uniform(-10,10,20)\n",
    "print(v29)\n",
    "print(np.copysign(np.ceil(np.abs(v29)), v29))"
   ]
  },
  {
   "cell_type": "markdown",
   "metadata": {},
   "source": [
    "### #30 how to find common values between two arrays ?"
   ]
  },
  {
   "cell_type": "code",
   "execution_count": 30,
   "metadata": {},
   "outputs": [
    {
     "name": "stdout",
     "output_type": "stream",
     "text": [
      "[-8 -2  6 -5 -7 -9 -5  8  0 -3]\n",
      "[-5 -5  2  9 -3  6  8 -1  3 -6]\n",
      "[-5 -3  6  8]\n"
     ]
    }
   ],
   "source": [
    "v30_1 = np.random.randint(-10, 10, 10)\n",
    "v30_2 = np.random.randint(-10, 10, 10)\n",
    "print(v30_1)\n",
    "print(v30_2)\n",
    "print(np.intersect1d(v30_1, v30_2))"
   ]
  },
  {
   "cell_type": "markdown",
   "metadata": {
    "collapsed": true
   },
   "source": [
    "### #31 how to ignore all numpy warnings"
   ]
  },
  {
   "cell_type": "code",
   "execution_count": 31,
   "metadata": {},
   "outputs": [
    {
     "data": {
      "text/plain": [
       "{'divide': 'ignore', 'invalid': 'ignore', 'over': 'ignore', 'under': 'ignore'}"
      ]
     },
     "execution_count": 31,
     "metadata": {},
     "output_type": "execute_result"
    }
   ],
   "source": [
    "env = np.seterr(all=\"ignore\") #無視\n",
    "np.seterr(**env) #戻す"
   ]
  },
  {
   "cell_type": "markdown",
   "metadata": {},
   "source": [
    "### #32 is the following expressions true ?"
   ]
  },
  {
   "cell_type": "code",
   "execution_count": 32,
   "metadata": {},
   "outputs": [
    {
     "name": "stdout",
     "output_type": "stream",
     "text": [
      "nan\n",
      "1j\n"
     ]
    },
    {
     "name": "stderr",
     "output_type": "stream",
     "text": [
      "C:\\Users\\owner\\Anaconda3\\lib\\site-packages\\ipykernel_launcher.py:1: RuntimeWarning: invalid value encountered in sqrt\n",
      "  \"\"\"Entry point for launching an IPython kernel.\n"
     ]
    }
   ],
   "source": [
    "print(np.sqrt(-1))\n",
    "print(np.emath.sqrt(-1))"
   ]
  },
  {
   "cell_type": "markdown",
   "metadata": {},
   "source": [
    "### #33 how to get the dates of yesterday, today and tomorrow ?"
   ]
  },
  {
   "cell_type": "code",
   "execution_count": 33,
   "metadata": {},
   "outputs": [
    {
     "name": "stdout",
     "output_type": "stream",
     "text": [
      "2017-12-30\n",
      "2017-12-31\n",
      "2018-01-01\n"
     ]
    }
   ],
   "source": [
    "yesterday = np.datetime64('today', 'D') - np.timedelta64(1, 'D')\n",
    "today = np.datetime64('today', 'D')\n",
    "tomorrow = np.datetime64('today', 'D') + np.timedelta64(1, 'D')\n",
    "print(yesterday)\n",
    "print(today)\n",
    "print(tomorrow)"
   ]
  },
  {
   "cell_type": "markdown",
   "metadata": {},
   "source": [
    "### #34 how to get all dates corresponding to the month of july ?"
   ]
  },
  {
   "cell_type": "code",
   "execution_count": 34,
   "metadata": {},
   "outputs": [
    {
     "name": "stdout",
     "output_type": "stream",
     "text": [
      "['2016-07-01' '2016-07-02' '2016-07-03' '2016-07-04' '2016-07-05'\n",
      " '2016-07-06' '2016-07-07' '2016-07-08' '2016-07-09' '2016-07-10'\n",
      " '2016-07-11' '2016-07-12' '2016-07-13' '2016-07-14' '2016-07-15'\n",
      " '2016-07-16' '2016-07-17' '2016-07-18' '2016-07-19' '2016-07-20'\n",
      " '2016-07-21' '2016-07-22' '2016-07-23' '2016-07-24' '2016-07-25'\n",
      " '2016-07-26' '2016-07-27' '2016-07-28' '2016-07-29' '2016-07-30'\n",
      " '2016-07-31']\n"
     ]
    }
   ],
   "source": [
    "v34 = np.arange('2016-07', '2016-08', dtype='datetime64[D]')\n",
    "print(v34)"
   ]
  },
  {
   "cell_type": "markdown",
   "metadata": {},
   "source": [
    "### #35 how to compute ((A+B)*(-A/2)) in place"
   ]
  },
  {
   "cell_type": "code",
   "execution_count": 35,
   "metadata": {},
   "outputs": [
    {
     "name": "stdout",
     "output_type": "stream",
     "text": [
      "[-1.5 -1.5 -1.5]\n"
     ]
    }
   ],
   "source": [
    "a = np.ones(3) * 1\n",
    "b = np.ones(3) * 2\n",
    "c = np.ones(3) * 3\n",
    "np.add(a, b, out=b)\n",
    "np.divide(a, 2, out=a)\n",
    "np.negative(a, out=a)\n",
    "np.multiply(a, b, out=a)\n",
    "print(a)"
   ]
  },
  {
   "cell_type": "markdown",
   "metadata": {},
   "source": [
    "### #36 extract the integer part of a random array using 5 different methods"
   ]
  },
  {
   "cell_type": "code",
   "execution_count": 36,
   "metadata": {},
   "outputs": [
    {
     "name": "stdout",
     "output_type": "stream",
     "text": [
      "[ 0.72230738  4.50776536  2.7631827   4.3040733   7.94957106  6.45926137\n",
      "  3.28916666  6.85641911  3.47483789  3.72693827]\n",
      "[ 0.  4.  2.  4.  7.  6.  3.  6.  3.  3.]\n",
      "[ 0.  4.  2.  4.  7.  6.  3.  6.  3.  3.]\n",
      "[ 0.  4.  2.  4.  7.  6.  3.  6.  3.  3.]\n",
      "[0 4 2 4 7 6 3 6 3 3]\n",
      "[ 0.  4.  2.  4.  7.  6.  3.  6.  3.  3.]\n"
     ]
    }
   ],
   "source": [
    "Z = np.random.uniform(0,10,10)\n",
    "\n",
    "print(Z)\n",
    "print (Z - Z%1)\n",
    "print (np.floor(Z))\n",
    "print (np.ceil(Z)-1)\n",
    "print (Z.astype(int))\n",
    "print (np.trunc(Z))"
   ]
  },
  {
   "cell_type": "markdown",
   "metadata": {},
   "source": [
    "### #37 create a 5 * 5 matrix with row values ranging from 0 to 4"
   ]
  },
  {
   "cell_type": "code",
   "execution_count": 37,
   "metadata": {},
   "outputs": [
    {
     "name": "stdout",
     "output_type": "stream",
     "text": [
      "[[ 0.  1.  2.  3.  4.]\n",
      " [ 0.  1.  2.  3.  4.]\n",
      " [ 0.  1.  2.  3.  4.]\n",
      " [ 0.  1.  2.  3.  4.]\n",
      " [ 0.  1.  2.  3.  4.]]\n"
     ]
    }
   ],
   "source": [
    "v37 = np.zeros((5, 5))\n",
    "v37 += np.arange(5)\n",
    "print(v37)"
   ]
  },
  {
   "cell_type": "markdown",
   "metadata": {},
   "source": [
    "### #38 consider a generator function that generates 10 integers and use it to build an array"
   ]
  },
  {
   "cell_type": "code",
   "execution_count": 38,
   "metadata": {},
   "outputs": [
    {
     "name": "stdout",
     "output_type": "stream",
     "text": [
      "[0 1 2 3 4 5 6 7 8 9]\n"
     ]
    }
   ],
   "source": [
    "iterable = (x for x in range(10))\n",
    "print(np.fromiter(iterable, np.int))"
   ]
  },
  {
   "cell_type": "markdown",
   "metadata": {},
   "source": [
    "### #39 create a vector of size 10 with values ranging from 0 to 1, both excluded"
   ]
  },
  {
   "cell_type": "code",
   "execution_count": 39,
   "metadata": {},
   "outputs": [
    {
     "name": "stdout",
     "output_type": "stream",
     "text": [
      "[ 0.09090909  0.18181818  0.27272727  0.36363636  0.45454545  0.54545455\n",
      "  0.63636364  0.72727273  0.81818182  0.90909091]\n"
     ]
    }
   ],
   "source": [
    "v39 = np.linspace(0, 1, 11, endpoint=False)[1:]\n",
    "print(v39)"
   ]
  },
  {
   "cell_type": "markdown",
   "metadata": {},
   "source": [
    "### #40 create a random vector of size 10 and sort it"
   ]
  },
  {
   "cell_type": "code",
   "execution_count": 40,
   "metadata": {},
   "outputs": [
    {
     "name": "stdout",
     "output_type": "stream",
     "text": [
      "[ 0.12034677  0.40299305  0.41174435  0.539259    0.59385907  0.59750998\n",
      "  0.66968718  0.69553701  0.81666314  0.82010191]\n",
      "[ 0.82010191  0.81666314  0.69553701  0.66968718  0.59750998  0.59385907\n",
      "  0.539259    0.41174435  0.40299305  0.12034677]\n",
      "[ 0.41174435  0.539259    0.40299305  0.81666314  0.12034677  0.66968718\n",
      "  0.59385907  0.82010191  0.59750998  0.69553701]\n"
     ]
    }
   ],
   "source": [
    "v40 = np.random.random(10)\n",
    "print(np.sort(v40))\n",
    "print(np.sort(v40)[::-1])\n",
    "print(v40)"
   ]
  },
  {
   "cell_type": "markdown",
   "metadata": {},
   "source": [
    "### #41 how to sum a small array faster than np.sum ?"
   ]
  },
  {
   "cell_type": "code",
   "execution_count": 41,
   "metadata": {},
   "outputs": [
    {
     "name": "stdout",
     "output_type": "stream",
     "text": [
      "[0 1 2 3 4 5 6 7 8 9]\n",
      "45\n",
      "45\n"
     ]
    }
   ],
   "source": [
    "v41 = np.arange(10)\n",
    "print(v41)\n",
    "print(np.add.reduce(v41))\n",
    "print(np.sum(v41))"
   ]
  },
  {
   "cell_type": "markdown",
   "metadata": {},
   "source": [
    "### #42 consider two random array A and B check if they are equal"
   ]
  },
  {
   "cell_type": "code",
   "execution_count": 42,
   "metadata": {},
   "outputs": [
    {
     "name": "stdout",
     "output_type": "stream",
     "text": [
      "[ 0.18891263  0.63681944  0.60804013  0.10246987  0.55080719  0.99860856\n",
      "  0.51690774  0.04484662  0.69645989  0.96249778]\n",
      "[ 0.96387742  0.66497425  0.46127657  0.38699894  0.41999478  0.03483502\n",
      "  0.75510508  0.76044006  0.11477925  0.31759452]\n",
      "False\n",
      "False\n"
     ]
    }
   ],
   "source": [
    "a = np.random.random(10)\n",
    "b = np.random.random(10)\n",
    "close = np.allclose(a, b)\n",
    "equal = np.array_equal(a, b)\n",
    "print(a)\n",
    "print(b)\n",
    "print(close)\n",
    "print(equal)"
   ]
  },
  {
   "cell_type": "markdown",
   "metadata": {},
   "source": [
    "### #43 make an array immutable (read-only)"
   ]
  },
  {
   "cell_type": "code",
   "execution_count": 43,
   "metadata": {},
   "outputs": [
    {
     "name": "stdout",
     "output_type": "stream",
     "text": [
      "[ 0.01680849  0.9289662   0.02567394  0.65238293  0.39444012  0.74898075\n",
      "  0.37787635  0.43291065  0.68730933  0.16262797]\n"
     ]
    },
    {
     "ename": "ValueError",
     "evalue": "assignment destination is read-only",
     "output_type": "error",
     "traceback": [
      "\u001b[1;31m---------------------------------------------------------------------------\u001b[0m",
      "\u001b[1;31mValueError\u001b[0m                                Traceback (most recent call last)",
      "\u001b[1;32m<ipython-input-43-e8c767370ba0>\u001b[0m in \u001b[0;36m<module>\u001b[1;34m()\u001b[0m\n\u001b[0;32m      2\u001b[0m \u001b[0mv43\u001b[0m\u001b[1;33m.\u001b[0m\u001b[0mflags\u001b[0m\u001b[1;33m.\u001b[0m\u001b[0mwriteable\u001b[0m \u001b[1;33m=\u001b[0m \u001b[1;32mFalse\u001b[0m\u001b[1;33m\u001b[0m\u001b[0m\n\u001b[0;32m      3\u001b[0m \u001b[0mprint\u001b[0m\u001b[1;33m(\u001b[0m\u001b[0mv43\u001b[0m\u001b[1;33m)\u001b[0m\u001b[1;33m\u001b[0m\u001b[0m\n\u001b[1;32m----> 4\u001b[1;33m \u001b[0mv43\u001b[0m\u001b[1;33m[\u001b[0m\u001b[1;36m1\u001b[0m\u001b[1;33m]\u001b[0m \u001b[1;33m=\u001b[0m \u001b[1;36m1\u001b[0m\u001b[1;33m\u001b[0m\u001b[0m\n\u001b[0m",
      "\u001b[1;31mValueError\u001b[0m: assignment destination is read-only"
     ]
    }
   ],
   "source": [
    "v43 = np.random.random(10)\n",
    "v43.flags.writeable = False\n",
    "print(v43)\n",
    "v43[1] = 1"
   ]
  },
  {
   "cell_type": "markdown",
   "metadata": {},
   "source": [
    "### #44 consider a random 10 * 2 matrix representing cartesian coordinates, convert them to polar coordinates"
   ]
  },
  {
   "cell_type": "code",
   "execution_count": null,
   "metadata": {},
   "outputs": [],
   "source": [
    "v44 = np.random.random((10, 2))\n",
    "print(v44)\n",
    "X, Y = v44[:, 0], v44[:, 1]\n",
    "r = np.sqrt(X**2+Y**2)\n",
    "theta = np.arctan2(Y, X)\n",
    "print(\"r: {}\\ntheta: {}\".format(r, theta))"
   ]
  },
  {
   "cell_type": "markdown",
   "metadata": {},
   "source": [
    "### #45 create random vector of size 10 and replace the maximum value by 0"
   ]
  },
  {
   "cell_type": "code",
   "execution_count": null,
   "metadata": {},
   "outputs": [],
   "source": [
    "v45 = np.random.random(10)\n",
    "print(v45)\n",
    "v45[v45.argmax()] = 0\n",
    "print(v45)"
   ]
  },
  {
   "cell_type": "markdown",
   "metadata": {},
   "source": [
    "### #46 Create a structured array with x and y coordinates covering the [0,1]x[0,1] area "
   ]
  },
  {
   "cell_type": "code",
   "execution_count": null,
   "metadata": {},
   "outputs": [],
   "source": [
    "Z = np.zeros((5,5), [('x',float),('y',float)])\n",
    "Z['x'], Z['y'] = np.meshgrid(np.linspace(0,1,5),\n",
    "                             np.linspace(0,1,5))\n",
    "print(Z)"
   ]
  },
  {
   "cell_type": "markdown",
   "metadata": {},
   "source": [
    "### #47 Given two arrays, X and Y, construct the Cauchy matrix C (Cij =1/(xi - yj))"
   ]
  },
  {
   "cell_type": "code",
   "execution_count": null,
   "metadata": {},
   "outputs": [],
   "source": [
    "X = np.arange(8)\n",
    "Y = X + 0.5\n",
    "C = 1.0 / np.subtract.outer(X, Y)\n",
    "print(np.linalg.det(C))"
   ]
  },
  {
   "cell_type": "markdown",
   "metadata": {},
   "source": [
    "### #48 Print the minimum and maximum representable value for each numpy scalar type"
   ]
  },
  {
   "cell_type": "code",
   "execution_count": null,
   "metadata": {},
   "outputs": [],
   "source": [
    "int_types = [np.int8, np.int32, np.int64]\n",
    "float_types = [np.float32, np.float64]\n",
    "\n",
    "for dtype in int_types:\n",
    "   print(\"min: {}\".format(np.iinfo(dtype).min))\n",
    "   print(\"max: {}\".format(np.iinfo(dtype).max))\n",
    "for dtype in float_types:\n",
    "   print(\"min: {}\".format(np.finfo(dtype).min))\n",
    "   print(\"max: {}\".format(np.finfo(dtype).max))\n",
    "   print(\"eps: {}\".format(np.finfo(dtype).eps))"
   ]
  },
  {
   "cell_type": "markdown",
   "metadata": {},
   "source": [
    "### #49 how to print all the values of an array ? "
   ]
  },
  {
   "cell_type": "code",
   "execution_count": null,
   "metadata": {},
   "outputs": [],
   "source": [
    "#np.set_printoptions(threshold=np.nan)\n",
    "Z = np.random.random((16,16))\n",
    "print(Z)"
   ]
  },
  {
   "cell_type": "markdown",
   "metadata": {},
   "source": [
    "### #50 how to find the closest value (to a given scalar) in a vector ?"
   ]
  },
  {
   "cell_type": "code",
   "execution_count": null,
   "metadata": {},
   "outputs": [],
   "source": [
    "Z = np.arange(100)\n",
    "v = np.random.uniform(0,100)\n",
    "index = (np.abs(Z-v)).argmin()\n",
    "print(Z)\n",
    "print(v)\n",
    "print(Z[index])"
   ]
  },
  {
   "cell_type": "markdown",
   "metadata": {},
   "source": [
    "### #51 Create a structured array representing a position (x,y) and a color (r,g,b)"
   ]
  },
  {
   "cell_type": "code",
   "execution_count": null,
   "metadata": {},
   "outputs": [],
   "source": [
    "Z = np.zeros(10, [ ('position', [ ('x', float, 1),\n",
    "                                  ('y', float, 1)]),\n",
    "                   ('color',    [ ('r', float, 1),\n",
    "                                  ('g', float, 1),\n",
    "                                  ('b', float, 1)])])\n",
    "print(Z)"
   ]
  },
  {
   "cell_type": "markdown",
   "metadata": {},
   "source": [
    "### #52 consider a random vector with shape (100, 2) representing coordinates, find point by point distances"
   ]
  },
  {
   "cell_type": "code",
   "execution_count": null,
   "metadata": {},
   "outputs": [],
   "source": [
    "v52 = np.random.random((100, 2))\n",
    "X,Y = np.atleast_2d(v52[:,0], v52[:,1])\n",
    "D = np.sqrt( (X-X.T)**2 + (Y-Y.T)**2)\n",
    "print(D)\n",
    "\n",
    "# Much faster with scipy\n",
    "import scipy\n",
    "# Thanks Gavin Heverly-Coulson (#issue 1)\n",
    "import scipy.spatial\n",
    "\n",
    "Z = np.random.random((10,2))\n",
    "D = scipy.spatial.distance.cdist(Z,Z)\n",
    "print(D)"
   ]
  },
  {
   "cell_type": "markdown",
   "metadata": {},
   "source": [
    "### #53 how to convert a float array into an integer in place ?"
   ]
  },
  {
   "cell_type": "code",
   "execution_count": null,
   "metadata": {},
   "outputs": [],
   "source": [
    "v53 = np.arange(10, dtype=np.int32)\n",
    "v53 = v53.astype(np.float32)\n",
    "print(v53)"
   ]
  },
  {
   "cell_type": "markdown",
   "metadata": {},
   "source": [
    "### #54 how to read the following file ?"
   ]
  },
  {
   "cell_type": "code",
   "execution_count": null,
   "metadata": {
    "collapsed": true
   },
   "outputs": [],
   "source": [
    "from io import StringIO\n",
    " \n",
    "s = StringIO(\"\"\"1, 2, 3, 4, 5\\n\n",
    "                6,  ,  , 7, 8\\n\n",
    "                 ,  , 9,10,11\\n\"\"\")\n",
    "#Z = np.genfromtxt(s, delimiter=\",\", dtype=np.int)\n",
    "#print(Z)"
   ]
  },
  {
   "cell_type": "markdown",
   "metadata": {},
   "source": [
    "### #55 what is the equivalent of enumerate for numpy arrays ?"
   ]
  },
  {
   "cell_type": "code",
   "execution_count": null,
   "metadata": {},
   "outputs": [],
   "source": [
    "Z = np.arange(9).reshape(3,3)\n",
    "for index, value in np.ndenumerate(Z):\n",
    "    print(index, value)\n",
    "print(\"--------------\")\n",
    "for index in np.ndindex(Z.shape):\n",
    "    print(index, Z[index])"
   ]
  },
  {
   "cell_type": "markdown",
   "metadata": {},
   "source": [
    "### #55 generate a generic 2D gaussian-like array"
   ]
  },
  {
   "cell_type": "code",
   "execution_count": 59,
   "metadata": {},
   "outputs": [
    {
     "name": "stdout",
     "output_type": "stream",
     "text": [
      "a:\n",
      "[-1.         -0.77777778 -0.55555556 -0.33333333 -0.11111111  0.11111111\n",
      "  0.33333333  0.55555556  0.77777778  1.        ]\n",
      "X:\n",
      "[[-1.         -0.77777778 -0.55555556 -0.33333333 -0.11111111  0.11111111\n",
      "   0.33333333  0.55555556  0.77777778  1.        ]\n",
      " [-1.         -0.77777778 -0.55555556 -0.33333333 -0.11111111  0.11111111\n",
      "   0.33333333  0.55555556  0.77777778  1.        ]\n",
      " [-1.         -0.77777778 -0.55555556 -0.33333333 -0.11111111  0.11111111\n",
      "   0.33333333  0.55555556  0.77777778  1.        ]\n",
      " [-1.         -0.77777778 -0.55555556 -0.33333333 -0.11111111  0.11111111\n",
      "   0.33333333  0.55555556  0.77777778  1.        ]\n",
      " [-1.         -0.77777778 -0.55555556 -0.33333333 -0.11111111  0.11111111\n",
      "   0.33333333  0.55555556  0.77777778  1.        ]\n",
      " [-1.         -0.77777778 -0.55555556 -0.33333333 -0.11111111  0.11111111\n",
      "   0.33333333  0.55555556  0.77777778  1.        ]\n",
      " [-1.         -0.77777778 -0.55555556 -0.33333333 -0.11111111  0.11111111\n",
      "   0.33333333  0.55555556  0.77777778  1.        ]\n",
      " [-1.         -0.77777778 -0.55555556 -0.33333333 -0.11111111  0.11111111\n",
      "   0.33333333  0.55555556  0.77777778  1.        ]\n",
      " [-1.         -0.77777778 -0.55555556 -0.33333333 -0.11111111  0.11111111\n",
      "   0.33333333  0.55555556  0.77777778  1.        ]\n",
      " [-1.         -0.77777778 -0.55555556 -0.33333333 -0.11111111  0.11111111\n",
      "   0.33333333  0.55555556  0.77777778  1.        ]]\n",
      "Y:\n",
      "[[-1.         -1.         -1.         -1.         -1.         -1.         -1.\n",
      "  -1.         -1.         -1.        ]\n",
      " [-0.77777778 -0.77777778 -0.77777778 -0.77777778 -0.77777778 -0.77777778\n",
      "  -0.77777778 -0.77777778 -0.77777778 -0.77777778]\n",
      " [-0.55555556 -0.55555556 -0.55555556 -0.55555556 -0.55555556 -0.55555556\n",
      "  -0.55555556 -0.55555556 -0.55555556 -0.55555556]\n",
      " [-0.33333333 -0.33333333 -0.33333333 -0.33333333 -0.33333333 -0.33333333\n",
      "  -0.33333333 -0.33333333 -0.33333333 -0.33333333]\n",
      " [-0.11111111 -0.11111111 -0.11111111 -0.11111111 -0.11111111 -0.11111111\n",
      "  -0.11111111 -0.11111111 -0.11111111 -0.11111111]\n",
      " [ 0.11111111  0.11111111  0.11111111  0.11111111  0.11111111  0.11111111\n",
      "   0.11111111  0.11111111  0.11111111  0.11111111]\n",
      " [ 0.33333333  0.33333333  0.33333333  0.33333333  0.33333333  0.33333333\n",
      "   0.33333333  0.33333333  0.33333333  0.33333333]\n",
      " [ 0.55555556  0.55555556  0.55555556  0.55555556  0.55555556  0.55555556\n",
      "   0.55555556  0.55555556  0.55555556  0.55555556]\n",
      " [ 0.77777778  0.77777778  0.77777778  0.77777778  0.77777778  0.77777778\n",
      "   0.77777778  0.77777778  0.77777778  0.77777778]\n",
      " [ 1.          1.          1.          1.          1.          1.          1.\n",
      "   1.          1.          1.        ]]\n",
      "G:\n",
      "[[ 0.36787944  0.44822088  0.51979489  0.57375342  0.60279818  0.60279818\n",
      "   0.57375342  0.51979489  0.44822088  0.36787944]\n",
      " [ 0.44822088  0.54610814  0.63331324  0.69905581  0.73444367  0.73444367\n",
      "   0.69905581  0.63331324  0.54610814  0.44822088]\n",
      " [ 0.51979489  0.63331324  0.73444367  0.81068432  0.85172308  0.85172308\n",
      "   0.81068432  0.73444367  0.63331324  0.51979489]\n",
      " [ 0.57375342  0.69905581  0.81068432  0.89483932  0.9401382   0.9401382\n",
      "   0.89483932  0.81068432  0.69905581  0.57375342]\n",
      " [ 0.60279818  0.73444367  0.85172308  0.9401382   0.98773022  0.98773022\n",
      "   0.9401382   0.85172308  0.73444367  0.60279818]\n",
      " [ 0.60279818  0.73444367  0.85172308  0.9401382   0.98773022  0.98773022\n",
      "   0.9401382   0.85172308  0.73444367  0.60279818]\n",
      " [ 0.57375342  0.69905581  0.81068432  0.89483932  0.9401382   0.9401382\n",
      "   0.89483932  0.81068432  0.69905581  0.57375342]\n",
      " [ 0.51979489  0.63331324  0.73444367  0.81068432  0.85172308  0.85172308\n",
      "   0.81068432  0.73444367  0.63331324  0.51979489]\n",
      " [ 0.44822088  0.54610814  0.63331324  0.69905581  0.73444367  0.73444367\n",
      "   0.69905581  0.63331324  0.54610814  0.44822088]\n",
      " [ 0.36787944  0.44822088  0.51979489  0.57375342  0.60279818  0.60279818\n",
      "   0.57375342  0.51979489  0.44822088  0.36787944]]\n"
     ]
    }
   ],
   "source": [
    "a = np.linspace(-1, 1, 10)\n",
    "X, Y = np.meshgrid(np.linspace(-1, 1, 10), np.linspace(-1, 1, 10))\n",
    "print(\"a:\\n{}\".format(a))\n",
    "print(\"X:\\n{}\".format(X))\n",
    "print(\"Y:\\n{}\".format(Y))\n",
    "D = np.sqrt(X*X+Y*Y)\n",
    "sigma, mu = 1.0, 0.0\n",
    "G = np.exp(-( (D-mu)**2 / ( 2.0 * sigma**2 ) ) )\n",
    "print(\"G:\\n{}\".format(G))"
   ]
  },
  {
   "cell_type": "markdown",
   "metadata": {},
   "source": [
    "### #57 how to randomly place p elements in a 2D array ?"
   ]
  },
  {
   "cell_type": "code",
   "execution_count": 100,
   "metadata": {},
   "outputs": [
    {
     "name": "stdout",
     "output_type": "stream",
     "text": [
      "[[ 0.  0.  0.  0.  0.  0.  0.  0.  0.  0.]\n",
      " [ 0.  0.  0.  0.  0.  0.  0.  0.  0.  0.]\n",
      " [ 0.  0.  0.  0.  0.  0.  0.  0.  0.  0.]\n",
      " [ 0.  0.  0.  0.  0.  0.  0.  0.  0.  0.]\n",
      " [ 0.  0.  0.  0.  0.  0.  0.  0.  0.  0.]\n",
      " [ 0.  0.  0.  0.  0.  0.  0.  0.  0.  0.]\n",
      " [ 0.  0.  0.  0.  0.  0.  0.  0.  0.  0.]\n",
      " [ 0.  1.  0.  0.  1.  0.  0.  0.  0.  0.]\n",
      " [ 0.  0.  0.  0.  0.  0.  1.  0.  0.  0.]\n",
      " [ 0.  0.  0.  0.  0.  0.  0.  0.  0.  0.]]\n"
     ]
    }
   ],
   "source": [
    "n = 10\n",
    "p = 3\n",
    "v57 = np.zeros((n, n))\n",
    "np.put(v57, np.random.choice(range(n*n), p, replace=False), 1)\n",
    "print(v57)"
   ]
  },
  {
   "cell_type": "markdown",
   "metadata": {},
   "source": [
    "### #58 substract the mean of each row of matrix"
   ]
  },
  {
   "cell_type": "code",
   "execution_count": 138,
   "metadata": {},
   "outputs": [
    {
     "name": "stdout",
     "output_type": "stream",
     "text": [
      "v58:\n",
      "[[ 0.37264266  0.11496856  0.02480371  0.74650926  0.43880948  0.01966626\n",
      "   0.8582991   0.7777073   0.62775826  0.98643033]\n",
      " [ 0.97154141  0.97711546  0.87566907  0.97532893  0.91929462  0.20326908\n",
      "   0.30561125  0.12816463  0.36968842  0.21599018]\n",
      " [ 0.02651782  0.81441621  0.63814762  0.04176891  0.187611    0.60148525\n",
      "   0.26969276  0.59517161  0.16486114  0.87964685]\n",
      " [ 0.63668083  0.41523956  0.32391198  0.27048953  0.74301341  0.35092824\n",
      "   0.96619169  0.27683562  0.94970174  0.25518293]\n",
      " [ 0.48750913  0.86573268  0.49924436  0.28668379  0.91056383  0.73341502\n",
      "   0.75874699  0.88738315  0.97338173  0.63734832]]\n",
      "v58_new:\n",
      "[[-0.12411684 -0.38179093 -0.47195578  0.24974977 -0.05795001 -0.47709324\n",
      "   0.3615396   0.28094781  0.13099877  0.48967084]\n",
      " [ 0.3773741   0.38294815  0.28150177  0.38116162  0.32512732 -0.39089822\n",
      "  -0.28855606 -0.46600268 -0.22447888 -0.37817713]\n",
      " [-0.3954141   0.39248429  0.2162157  -0.380163   -0.23432091  0.17955333\n",
      "  -0.15223916  0.17323969 -0.25707078  0.45771493]\n",
      " [ 0.11786328 -0.103578   -0.19490557 -0.24832802  0.22419585 -0.16788931\n",
      "   0.44737413 -0.24198193  0.43088418 -0.26363462]\n",
      " [-0.21649177  0.16173178 -0.20475654 -0.41731711  0.20656293  0.02941412\n",
      "   0.05474609  0.18338225  0.26938083 -0.06665258]]\n"
     ]
    }
   ],
   "source": [
    "v58 = np.random.rand(5, 10)\n",
    "print(\"v58:\\n{}\".format(v58))\n",
    "v58_mean = v58.mean(axis=1, keepdims=True)\n",
    "v58 -= v58_mean\n",
    "print(\"v58_new:\\n{}\".format(v58))"
   ]
  },
  {
   "cell_type": "markdown",
   "metadata": {},
   "source": [
    "### #59 how to i sort an array by the nth column ?"
   ]
  },
  {
   "cell_type": "code",
   "execution_count": 167,
   "metadata": {},
   "outputs": [
    {
     "name": "stdout",
     "output_type": "stream",
     "text": [
      "before:\n",
      "[[ 0.8970022   0.07514485  0.57674863  0.93119525  0.92557705]\n",
      " [ 0.53860165  0.96608098  0.42040336  0.20682414  0.75586909]\n",
      " [ 0.41384678  0.06475181  0.91036738  0.55815191  0.32463748]\n",
      " [ 0.75620228  0.72056548  0.60131563  0.35775672  0.38549831]\n",
      " [ 0.80863533  0.53776179  0.0911316   0.1344051   0.48454792]]\n",
      "after:\n",
      "[[ 0.41384678  0.06475181  0.91036738  0.55815191  0.32463748]\n",
      " [ 0.8970022   0.07514485  0.57674863  0.93119525  0.92557705]\n",
      " [ 0.80863533  0.53776179  0.0911316   0.1344051   0.48454792]\n",
      " [ 0.75620228  0.72056548  0.60131563  0.35775672  0.38549831]\n",
      " [ 0.53860165  0.96608098  0.42040336  0.20682414  0.75586909]]\n"
     ]
    }
   ],
   "source": [
    "v59 = np.random.rand(5, 5)\n",
    "print(\"before:\\n{}\".format(v59))\n",
    "print(\"after:\\n{}\".format(v59[v59[:,1].argsort()]))"
   ]
  },
  {
   "cell_type": "markdown",
   "metadata": {},
   "source": [
    "### #60 how to tell if a given 2D array has null columns ?"
   ]
  },
  {
   "cell_type": "code",
   "execution_count": 299,
   "metadata": {},
   "outputs": [
    {
     "name": "stdout",
     "output_type": "stream",
     "text": [
      "v60:\n",
      "[[2 0 2]\n",
      " [1 0 1]\n",
      " [1 0 2]]\n",
      "True\n"
     ]
    }
   ],
   "source": [
    "v60 = np.random.randint(0, 3, (3, 3))\n",
    "print(\"v60:\\n{}\".format(v60))\n",
    "print((~v60.any(axis=0)).any())"
   ]
  },
  {
   "cell_type": "markdown",
   "metadata": {},
   "source": [
    "### #61 find the nearest value from a given value in an array ?"
   ]
  },
  {
   "cell_type": "code",
   "execution_count": 303,
   "metadata": {},
   "outputs": [
    {
     "name": "stdout",
     "output_type": "stream",
     "text": [
      "[ 0.69255258  0.64077701  0.00511744  0.11889895  0.46138216  0.37446515\n",
      "  0.90256359  0.30384022  0.53665998  0.01556231]\n",
      "0.536659984434\n"
     ]
    }
   ],
   "source": [
    "v61 = np.random.uniform(0,1,10)\n",
    "num = 0.5\n",
    "val = v61.flat[np.abs(v61 - num).argmin()]\n",
    "print(v61)\n",
    "print(val)"
   ]
  },
  {
   "cell_type": "markdown",
   "metadata": {},
   "source": [
    "### #62 considering two arrays with shape (1,3) and (3,1 ), how to compute their sum using an iterator ?"
   ]
  },
  {
   "cell_type": "code",
   "execution_count": 308,
   "metadata": {},
   "outputs": [
    {
     "name": "stdout",
     "output_type": "stream",
     "text": [
      "a:\n",
      "[[0 1 2]]\n",
      "b:\n",
      "[[0]\n",
      " [1]\n",
      " [2]]\n",
      "[[0 1 2]\n",
      " [1 2 3]\n",
      " [2 3 4]]\n"
     ]
    }
   ],
   "source": [
    "a = np.arange(3).reshape(1, 3)\n",
    "b = np.arange(3).reshape(3, 1)\n",
    "print(\"a:\\n{}\".format(a))\n",
    "print(\"b:\\n{}\".format(b))\n",
    "it = np.nditer([a,b,None])\n",
    "for x,y,z in it: z[...] = x + y\n",
    "print(it.operands[2])"
   ]
  },
  {
   "cell_type": "markdown",
   "metadata": {},
   "source": [
    "### #63 create an array class that has a same attribute"
   ]
  },
  {
   "cell_type": "code",
   "execution_count": 315,
   "metadata": {},
   "outputs": [
    {
     "name": "stdout",
     "output_type": "stream",
     "text": [
      "range_10\n"
     ]
    }
   ],
   "source": [
    "class NamedArray(np.ndarray):\n",
    "    def __new__(cls, array, name=\"no name\"):\n",
    "        obj = np.asarray(array).view(cls)\n",
    "        obj.name = name\n",
    "        return obj\n",
    "    def __array_finalize__(self, obj):\n",
    "        if obj is None: return\n",
    "        self.info = getattr(obj, 'name', \"no name\")\n",
    "\n",
    "Z = NamedArray(np.arange(10), \"range_10\")\n",
    "print (Z.name)"
   ]
  },
  {
   "cell_type": "markdown",
   "metadata": {},
   "source": [
    "### #64 consider a given vector, how to add 1 to each element indexed by a second vector "
   ]
  },
  {
   "cell_type": "code",
   "execution_count": 325,
   "metadata": {},
   "outputs": [
    {
     "name": "stdout",
     "output_type": "stream",
     "text": [
      "[ 1.  1.  1.  1.  1.  1.  1.  1.  1.  1.]\n",
      "[9 8 0 2 9]\n",
      "[ 2.  1.  2.  1.  1.  1.  1.  1.  2.  3.]\n"
     ]
    }
   ],
   "source": [
    "a = np.ones(10)\n",
    "b = np.random.randint(0,10,5)\n",
    "print(a)\n",
    "print(b)\n",
    "np.add.at(a,b,1)\n",
    "print(a)"
   ]
  },
  {
   "cell_type": "markdown",
   "metadata": {},
   "source": [
    "### #65 how to accumulate elements of a vector (X) to an array (F) based on an index list (I) ?"
   ]
  },
  {
   "cell_type": "code",
   "execution_count": 327,
   "metadata": {},
   "outputs": [
    {
     "name": "stdout",
     "output_type": "stream",
     "text": [
      "[ 0.  7.  0.  6.  5.  0.  0.  0.  0.  3.]\n"
     ]
    }
   ],
   "source": [
    "X = [1,2,3,4,5,6]\n",
    "I = [1,3,9,3,4,1]\n",
    "F = np.bincount(I,X)\n",
    "print(F)"
   ]
  },
  {
   "cell_type": "markdown",
   "metadata": {},
   "source": [
    "### #66 Considering a (w,h,3) image of (dtype=ubyte), compute the number of unique colors"
   ]
  },
  {
   "cell_type": "code",
   "execution_count": 329,
   "metadata": {},
   "outputs": [
    {
     "name": "stdout",
     "output_type": "stream",
     "text": [
      "[0 1]\n"
     ]
    }
   ],
   "source": [
    "w,h = 16,16\n",
    "I = np.random.randint(0,2,(h,w,3)).astype(np.ubyte)\n",
    "F = I[...,0]*256*256 + I[...,1]*256 +I[...,2]\n",
    "n = len(np.unique(F))\n",
    "print(np.unique(I))"
   ]
  },
  {
   "cell_type": "markdown",
   "metadata": {},
   "source": [
    "### #67 considering a four dimensions array, how to get sum over the last two axis at once ?"
   ]
  },
  {
   "cell_type": "code",
   "execution_count": 333,
   "metadata": {},
   "outputs": [
    {
     "name": "stdout",
     "output_type": "stream",
     "text": [
      "67:\n",
      "[[[[4 3 4 2]\n",
      "   [2 3 1 3]\n",
      "   [3 1 4 2]]\n",
      "\n",
      "  [[1 2 2 4]\n",
      "   [4 2 1 3]\n",
      "   [1 4 0 2]]\n",
      "\n",
      "  [[1 2 3 2]\n",
      "   [3 0 2 0]\n",
      "   [3 4 3 1]]\n",
      "\n",
      "  [[4 4 2 0]\n",
      "   [1 3 1 1]\n",
      "   [2 2 4 1]]]\n",
      "\n",
      "\n",
      " [[[1 3 2 0]\n",
      "   [1 0 3 4]\n",
      "   [4 0 3 2]]\n",
      "\n",
      "  [[0 2 3 3]\n",
      "   [1 2 0 3]\n",
      "   [1 0 0 4]]\n",
      "\n",
      "  [[3 4 1 4]\n",
      "   [1 2 4 4]\n",
      "   [3 1 3 0]]\n",
      "\n",
      "  [[4 1 0 3]\n",
      "   [1 3 2 3]\n",
      "   [4 4 2 4]]]\n",
      "\n",
      "\n",
      " [[[4 2 4 2]\n",
      "   [1 0 4 0]\n",
      "   [3 3 4 2]]\n",
      "\n",
      "  [[3 4 2 2]\n",
      "   [2 0 0 4]\n",
      "   [1 2 4 1]]\n",
      "\n",
      "  [[3 4 2 1]\n",
      "   [2 0 1 3]\n",
      "   [3 2 0 4]]\n",
      "\n",
      "  [[4 4 2 1]\n",
      "   [1 2 0 1]\n",
      "   [3 0 4 0]]]]\n",
      "[[32 26 24 25]\n",
      " [23 19 30 31]\n",
      " [29 25 25 22]]\n"
     ]
    }
   ],
   "source": [
    "print(\"67:\")\n",
    "A = np.random.randint(0,5,(3,4,3,4))\n",
    "print(A)\n",
    "B = A.sum(axis=(-1,-2))\n",
    "print(B)"
   ]
  },
  {
   "cell_type": "markdown",
   "metadata": {},
   "source": [
    "### #68 considering a one-dimensional vector D, how to compute means of subsets of D using a vector S of same size describing subset indices ?"
   ]
  },
  {
   "cell_type": "code",
   "execution_count": 338,
   "metadata": {},
   "outputs": [
    {
     "name": "stdout",
     "output_type": "stream",
     "text": [
      "[ 0.11329981  0.13713545  0.99568261  0.39537813  0.49905292  0.62627051\n",
      "  0.37909792  0.44404426  0.19322901  0.99829218  0.97082215  0.23678102\n",
      "  0.09172192  0.68642511  0.70749698  0.68393424  0.90180752  0.61335331\n",
      "  0.86416292  0.13479966  0.62711325  0.44865741  0.41466404  0.87599677\n",
      "  0.78644237  0.49936067  0.1460894   0.73216279  0.20652422  0.65254863\n",
      "  0.76866124  0.34592479  0.76297318  0.9955919   0.85330918  0.48007275\n",
      "  0.151643    0.28050324  0.18574172  0.79535422  0.56462846  0.36068992\n",
      "  0.62112728  0.89905989  0.50934006  0.97543358  0.82458149  0.5102635\n",
      "  0.35348749  0.83113272  0.42686669  0.19316474  0.02451759  0.25361784\n",
      "  0.61905686  0.03497789  0.34161384  0.59688833  0.30609343  0.66724573\n",
      "  0.81199813  0.02958657  0.74394092  0.53233904  0.99793369  0.35848458\n",
      "  0.90247053  0.99954544  0.85713581  0.76517158  0.04348547  0.26987174\n",
      "  0.11216133  0.26209289  0.03469535  0.83364488  0.03161536  0.57099162\n",
      "  0.43997162  0.90278931  0.73121055  0.07896613  0.7295992   0.87440469\n",
      "  0.45291905  0.96891244  0.18421342  0.26113548  0.1612237   0.24991317\n",
      "  0.08047058  0.41523484  0.37474986  0.78911817  0.75964336  0.13029678\n",
      "  0.74105531  0.0472667   0.51013893  0.15453834]\n",
      "[5 4 9 4 2 3 4 2 5 1 5 9 5 1 3 1 1 5 0 6 2 2 0 5 5 5 2 1 1 4 7 2 1 9 2 2 9\n",
      " 7 7 8 1 1 6 7 9 0 3 6 5 4 9 8 5 3 3 8 2 3 3 5 0 2 2 6 3 5 8 5 0 8 4 0 4 4\n",
      " 4 9 0 9 1 5 3 5 6 6 5 9 7 9 4 4 0 0 3 1 7 2 4 6 7 0]\n",
      "0    0.487513\n",
      "1    0.647866\n",
      "2    0.424142\n",
      "3    0.603790\n",
      "4    0.333327\n",
      "5    0.498886\n",
      "6    0.492829\n",
      "7    0.512566\n",
      "8    0.538228\n",
      "9    0.595059\n",
      "dtype: float64\n"
     ]
    }
   ],
   "source": [
    "D = np.random.uniform(0,1,100)\n",
    "S = np.random.randint(0,10,100)\n",
    "import pandas as pd\n",
    "print(D)\n",
    "print(S)\n",
    "print(pd.Series(D).groupby(S).mean())"
   ]
  },
  {
   "cell_type": "markdown",
   "metadata": {},
   "source": [
    "### #69 how to get the diagonal of a dot product ?"
   ]
  },
  {
   "cell_type": "code",
   "execution_count": 346,
   "metadata": {},
   "outputs": [
    {
     "name": "stdout",
     "output_type": "stream",
     "text": [
      "[ 0.68193518  0.89694426  1.15309839  0.99859267  2.14881217]\n",
      "[ 0.68193518  0.89694426  1.15309839  0.99859267  2.14881217]\n"
     ]
    }
   ],
   "source": [
    "A = np.random.uniform(0,1,(5,5))\n",
    "B = np.random.uniform(0,1,(5,5))\n",
    "print(np.diag(np.dot(A, B)))\n",
    "print(np.sum(A * B.T, axis=1))"
   ]
  },
  {
   "cell_type": "markdown",
   "metadata": {},
   "source": [
    "### #70 consider the vector [1,2,3,4,5], how to build a new vector with 3 consecutive zeros interleaved between each value ?"
   ]
  },
  {
   "cell_type": "code",
   "execution_count": 352,
   "metadata": {},
   "outputs": [
    {
     "name": "stdout",
     "output_type": "stream",
     "text": [
      "[ 1.  0.  0.  0.  2.  0.  0.  0.  3.  0.  0.  0.  4.  0.  0.  0.  5.]\n"
     ]
    }
   ],
   "source": [
    "a = np.array([1,2,3,4,5])\n",
    "nz = 3\n",
    "a0 = np.zeros((len(a)-1)*nz+len(a))\n",
    "a0[::nz+1] = a\n",
    "print(a0)"
   ]
  },
  {
   "cell_type": "markdown",
   "metadata": {},
   "source": [
    "### #71 consider an array of dimension (5,5,3), how to multiply it by an array with dimensions (5,5) ?"
   ]
  },
  {
   "cell_type": "code",
   "execution_count": 355,
   "metadata": {},
   "outputs": [
    {
     "name": "stdout",
     "output_type": "stream",
     "text": [
      "A:\n",
      "[[[ 0.51749296  0.09128034  0.89085769]\n",
      "  [ 0.28525187  0.47037326  0.30095411]\n",
      "  [ 0.08196687  0.61796465  0.14080734]\n",
      "  [ 0.57702089  0.66258102  0.40717728]\n",
      "  [ 0.37466719  0.78125779  0.88746587]]\n",
      "\n",
      " [[ 0.02359015  0.17095349  0.68111313]\n",
      "  [ 0.01534764  0.7150822   0.08869362]\n",
      "  [ 0.7192879   0.50744929  0.91170764]\n",
      "  [ 0.60586091  0.70710674  0.3844004 ]\n",
      "  [ 0.13138554  0.32139747  0.90988684]]\n",
      "\n",
      " [[ 0.0779346   0.14490894  0.98588472]\n",
      "  [ 0.43132875  0.79341676  0.48650674]\n",
      "  [ 0.73967298  0.891824    0.21898668]\n",
      "  [ 0.53236259  0.97003655  0.80611675]\n",
      "  [ 0.55545328  0.31332095  0.14630716]]\n",
      "\n",
      " [[ 0.39575869  0.35900248  0.67908764]\n",
      "  [ 0.15512507  0.97275257  0.31386087]\n",
      "  [ 0.42966107  0.21534219  0.10114453]\n",
      "  [ 0.92143696  0.94728094  0.72416071]\n",
      "  [ 0.5950614   0.2134986   0.88413319]]\n",
      "\n",
      " [[ 0.18828193  0.55475751  0.10689187]\n",
      "  [ 0.87836562  0.99716459  0.53708483]\n",
      "  [ 0.56260471  0.44444484  0.66516062]\n",
      "  [ 0.66115623  0.43757848  0.90773104]\n",
      "  [ 0.64150813  0.04676451  0.51175111]]]\n",
      "B:\n",
      "[[ 0  1  2  3  4]\n",
      " [ 5  6  7  8  9]\n",
      " [10 11 12 13 14]\n",
      " [15 16 17 18 19]\n",
      " [20 21 22 23 24]]\n",
      "[[[  0.           0.           0.        ]\n",
      "  [  0.28525187   0.47037326   0.30095411]\n",
      "  [  0.16393373   1.2359293    0.28161467]\n",
      "  [  1.73106266   1.98774307   1.22153185]\n",
      "  [  1.49866875   3.12503117   3.54986347]]\n",
      "\n",
      " [[  0.11795077   0.85476745   3.40556565]\n",
      "  [  0.09208581   4.29049323   0.53216172]\n",
      "  [  5.03501531   3.55214504   6.38195346]\n",
      "  [  4.84688726   5.65685391   3.07520321]\n",
      "  [  1.18246982   2.89257724   8.18898152]]\n",
      "\n",
      " [[  0.77934604   1.44908938   9.85884721]\n",
      "  [  4.74461623   8.72758431   5.35157415]\n",
      "  [  8.87607575  10.70188798   2.62784019]\n",
      "  [  6.92071365  12.61047513  10.47951778]\n",
      "  [  7.77634595   4.38649337   2.04830017]]\n",
      "\n",
      " [[  5.93638031   5.38503727  10.18631459]\n",
      "  [  2.48200112  15.56404116   5.02177397]\n",
      "  [  7.3042382    3.66081725   1.71945709]\n",
      "  [ 16.58586522  17.05105689  13.03489283]\n",
      "  [ 11.30616651   4.05647349  16.79853062]]\n",
      "\n",
      " [[  3.76563867  11.09515028   2.13783747]\n",
      "  [ 18.4456781   20.94045645  11.27878148]\n",
      "  [ 12.37730366   9.7777864   14.63353364]\n",
      "  [ 15.20659329  10.06430499  20.87781381]\n",
      "  [ 15.39619517   1.12234824  12.28202668]]]\n"
     ]
    }
   ],
   "source": [
    "A = np.random.random((5,5,3))\n",
    "B = np.arange(25).reshape((5,5))\n",
    "print(\"A:\\n{}\".format(A))\n",
    "print(\"B:\\n{}\".format(B))\n",
    "print(A * B[:,:,None])"
   ]
  },
  {
   "cell_type": "markdown",
   "metadata": {},
   "source": [
    "### #72 how to swap two rows of an array ?"
   ]
  },
  {
   "cell_type": "code",
   "execution_count": 363,
   "metadata": {},
   "outputs": [
    {
     "name": "stdout",
     "output_type": "stream",
     "text": [
      "[[ 0  1  2  3]\n",
      " [ 4  5  6  7]\n",
      " [ 8  9 10 11]\n",
      " [12 13 14 15]\n",
      " [16 17 18 19]]\n",
      "swap:\n",
      "[[ 4  5  6  7]\n",
      " [ 0  1  2  3]\n",
      " [ 8  9 10 11]\n",
      " [12 13 14 15]\n",
      " [16 17 18 19]]\n"
     ]
    }
   ],
   "source": [
    "v72 = np.arange(20).reshape(5,4)\n",
    "print(v72)\n",
    "v72[[0,1]] = v72[[1, 0]]\n",
    "print(\"swap:\\n{}\".format(v72))"
   ]
  },
  {
   "cell_type": "code",
   "execution_count": null,
   "metadata": {
    "collapsed": true
   },
   "outputs": [],
   "source": []
  }
 ],
 "metadata": {
  "kernelspec": {
   "display_name": "Python 3",
   "language": "python",
   "name": "python3"
  },
  "language_info": {
   "codemirror_mode": {
    "name": "ipython",
    "version": 3
   },
   "file_extension": ".py",
   "mimetype": "text/x-python",
   "name": "python",
   "nbconvert_exporter": "python",
   "pygments_lexer": "ipython3",
   "version": "3.6.3"
  }
 },
 "nbformat": 4,
 "nbformat_minor": 2
}
