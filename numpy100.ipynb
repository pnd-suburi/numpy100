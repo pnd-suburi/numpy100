{
 "cells": [
  {
   "cell_type": "markdown",
   "metadata": {},
   "source": [
    "### #1 import the numpy package under the name np"
   ]
  },
  {
   "cell_type": "code",
   "execution_count": 1,
   "metadata": {
    "collapsed": true
   },
   "outputs": [],
   "source": [
    "import numpy as np"
   ]
  },
  {
   "cell_type": "markdown",
   "metadata": {},
   "source": [
    "### #2 print the numpy version and configuration"
   ]
  },
  {
   "cell_type": "code",
   "execution_count": 2,
   "metadata": {},
   "outputs": [
    {
     "name": "stdout",
     "output_type": "stream",
     "text": [
      "1.13.3\n",
      "blas_mkl_info:\n",
      "    libraries = ['mkl_rt']\n",
      "    library_dirs = ['C:/Users/owner/Anaconda3\\\\Library\\\\lib']\n",
      "    define_macros = [('SCIPY_MKL_H', None), ('HAVE_CBLAS', None)]\n",
      "    include_dirs = ['C:\\\\Program Files (x86)\\\\IntelSWTools\\\\compilers_and_libraries_2016.4.246\\\\windows\\\\mkl', 'C:\\\\Program Files (x86)\\\\IntelSWTools\\\\compilers_and_libraries_2016.4.246\\\\windows\\\\mkl\\\\include', 'C:\\\\Program Files (x86)\\\\IntelSWTools\\\\compilers_and_libraries_2016.4.246\\\\windows\\\\mkl\\\\lib', 'C:/Users/owner/Anaconda3\\\\Library\\\\include']\n",
      "blas_opt_info:\n",
      "    libraries = ['mkl_rt']\n",
      "    library_dirs = ['C:/Users/owner/Anaconda3\\\\Library\\\\lib']\n",
      "    define_macros = [('SCIPY_MKL_H', None), ('HAVE_CBLAS', None)]\n",
      "    include_dirs = ['C:\\\\Program Files (x86)\\\\IntelSWTools\\\\compilers_and_libraries_2016.4.246\\\\windows\\\\mkl', 'C:\\\\Program Files (x86)\\\\IntelSWTools\\\\compilers_and_libraries_2016.4.246\\\\windows\\\\mkl\\\\include', 'C:\\\\Program Files (x86)\\\\IntelSWTools\\\\compilers_and_libraries_2016.4.246\\\\windows\\\\mkl\\\\lib', 'C:/Users/owner/Anaconda3\\\\Library\\\\include']\n",
      "lapack_mkl_info:\n",
      "    libraries = ['mkl_rt']\n",
      "    library_dirs = ['C:/Users/owner/Anaconda3\\\\Library\\\\lib']\n",
      "    define_macros = [('SCIPY_MKL_H', None), ('HAVE_CBLAS', None)]\n",
      "    include_dirs = ['C:\\\\Program Files (x86)\\\\IntelSWTools\\\\compilers_and_libraries_2016.4.246\\\\windows\\\\mkl', 'C:\\\\Program Files (x86)\\\\IntelSWTools\\\\compilers_and_libraries_2016.4.246\\\\windows\\\\mkl\\\\include', 'C:\\\\Program Files (x86)\\\\IntelSWTools\\\\compilers_and_libraries_2016.4.246\\\\windows\\\\mkl\\\\lib', 'C:/Users/owner/Anaconda3\\\\Library\\\\include']\n",
      "lapack_opt_info:\n",
      "    libraries = ['mkl_rt']\n",
      "    library_dirs = ['C:/Users/owner/Anaconda3\\\\Library\\\\lib']\n",
      "    define_macros = [('SCIPY_MKL_H', None), ('HAVE_CBLAS', None)]\n",
      "    include_dirs = ['C:\\\\Program Files (x86)\\\\IntelSWTools\\\\compilers_and_libraries_2016.4.246\\\\windows\\\\mkl', 'C:\\\\Program Files (x86)\\\\IntelSWTools\\\\compilers_and_libraries_2016.4.246\\\\windows\\\\mkl\\\\include', 'C:\\\\Program Files (x86)\\\\IntelSWTools\\\\compilers_and_libraries_2016.4.246\\\\windows\\\\mkl\\\\lib', 'C:/Users/owner/Anaconda3\\\\Library\\\\include']\n"
     ]
    }
   ],
   "source": [
    "print(np.__version__)\n",
    "np.show_config()"
   ]
  },
  {
   "cell_type": "markdown",
   "metadata": {},
   "source": [
    "### #3 create null vector of size 10"
   ]
  },
  {
   "cell_type": "code",
   "execution_count": 3,
   "metadata": {},
   "outputs": [
    {
     "name": "stdout",
     "output_type": "stream",
     "text": [
      "[ 0.  0.  0.  0.  0.  0.  0.  0.  0.  0.]\n"
     ]
    }
   ],
   "source": [
    "v = np.zeros(10)\n",
    "print(v)"
   ]
  },
  {
   "cell_type": "markdown",
   "metadata": {},
   "source": [
    "### #4 how to find the memory size of any array"
   ]
  },
  {
   "cell_type": "code",
   "execution_count": 4,
   "metadata": {},
   "outputs": [
    {
     "data": {
      "text/plain": [
       "80"
      ]
     },
     "execution_count": 4,
     "metadata": {},
     "output_type": "execute_result"
    }
   ],
   "source": [
    "v.itemsize * v.size"
   ]
  },
  {
   "cell_type": "markdown",
   "metadata": {},
   "source": [
    "### #6 create a null vector of size 10 but the fifth value which is 1"
   ]
  },
  {
   "cell_type": "code",
   "execution_count": 5,
   "metadata": {},
   "outputs": [
    {
     "name": "stdout",
     "output_type": "stream",
     "text": [
      "[ 0.  0.  0.  0.  1.  0.  0.  0.  0.  0.]\n"
     ]
    }
   ],
   "source": [
    "v5 = np.zeros(10)\n",
    "v5[4] = 1\n",
    "print(v5)"
   ]
  },
  {
   "cell_type": "markdown",
   "metadata": {},
   "source": [
    "### #7 create a vector with values ranging from 10 to 49 "
   ]
  },
  {
   "cell_type": "code",
   "execution_count": 6,
   "metadata": {},
   "outputs": [
    {
     "name": "stdout",
     "output_type": "stream",
     "text": [
      "[10 11 12 13 14 15 16 17 18 19 20 21 22 23 24 25 26 27 28 29 30 31 32 33 34\n",
      " 35 36 37 38 39 40 41 42 43 44 45 46 47 48 49]\n"
     ]
    }
   ],
   "source": [
    "v7 = np.arange(10, 50)\n",
    "print(v7)"
   ]
  },
  {
   "cell_type": "markdown",
   "metadata": {},
   "source": [
    "### #8 reverse a vector"
   ]
  },
  {
   "cell_type": "code",
   "execution_count": 7,
   "metadata": {},
   "outputs": [
    {
     "name": "stdout",
     "output_type": "stream",
     "text": [
      "[49 48 47 46 45 44 43 42 41 40 39 38 37 36 35 34 33 32 31 30 29 28 27 26 25\n",
      " 24 23 22 21 20 19 18 17 16 15 14 13 12 11 10]\n"
     ]
    }
   ],
   "source": [
    "v8 = v7[::-1]\n",
    "print(v8)"
   ]
  },
  {
   "cell_type": "markdown",
   "metadata": {},
   "source": [
    "### #9 create a 3*3 matirix with values ranging from 0 to 8"
   ]
  },
  {
   "cell_type": "code",
   "execution_count": 8,
   "metadata": {},
   "outputs": [
    {
     "data": {
      "text/plain": [
       "array([[0, 1, 2],\n",
       "       [3, 4, 5],\n",
       "       [6, 7, 8]])"
      ]
     },
     "execution_count": 8,
     "metadata": {},
     "output_type": "execute_result"
    }
   ],
   "source": [
    "v9 = np.arange(0, 9).reshape(3, 3)\n",
    "v9"
   ]
  },
  {
   "cell_type": "markdown",
   "metadata": {},
   "source": [
    "### #10 find indices of non-zero elements from [1,2,0,0,4,0]"
   ]
  },
  {
   "cell_type": "code",
   "execution_count": 9,
   "metadata": {},
   "outputs": [
    {
     "name": "stdout",
     "output_type": "stream",
     "text": [
      "(array([0, 1, 4], dtype=int64),)\n"
     ]
    }
   ],
   "source": [
    "v10 = np.nonzero([1, 2, 0, 0, 4, 0])\n",
    "print(v10)"
   ]
  },
  {
   "cell_type": "markdown",
   "metadata": {},
   "source": [
    "### #11 create a 3*3 identity matrix"
   ]
  },
  {
   "cell_type": "code",
   "execution_count": 10,
   "metadata": {},
   "outputs": [
    {
     "name": "stdout",
     "output_type": "stream",
     "text": [
      "[[ 1.  0.  0.]\n",
      " [ 0.  1.  0.]\n",
      " [ 0.  0.  1.]]\n"
     ]
    }
   ],
   "source": [
    "v11 = np.eye(3)\n",
    "print(v11)"
   ]
  },
  {
   "cell_type": "markdown",
   "metadata": {},
   "source": [
    "### #12 create a 3*3*3 array with random values"
   ]
  },
  {
   "cell_type": "code",
   "execution_count": 11,
   "metadata": {},
   "outputs": [
    {
     "name": "stdout",
     "output_type": "stream",
     "text": [
      "[[[ 0.74743253  0.06404697  0.69520166]\n",
      "  [ 0.48664612  0.20232187  0.13617779]\n",
      "  [ 0.08881147  0.38256213  0.82705878]]\n",
      "\n",
      " [[ 0.89170754  0.69482498  0.93144612]\n",
      "  [ 0.26849431  0.15204249  0.87595151]\n",
      "  [ 0.15032404  0.9840022   0.94718617]]\n",
      "\n",
      " [[ 0.04456045  0.20806234  0.66518604]\n",
      "  [ 0.34412417  0.61124101  0.40741174]\n",
      "  [ 0.16179505  0.33489983  0.95204796]]]\n"
     ]
    }
   ],
   "source": [
    "v12 = np.random.random((3, 3, 3))\n",
    "print(v12)"
   ]
  },
  {
   "cell_type": "markdown",
   "metadata": {},
   "source": [
    "### #13 create a 10*10 array with random values and find the minimum and maximum values"
   ]
  },
  {
   "cell_type": "code",
   "execution_count": 12,
   "metadata": {},
   "outputs": [
    {
     "name": "stdout",
     "output_type": "stream",
     "text": [
      "[[ 0.55683747  0.94215071  0.99697988  0.10711295  0.33222067  0.81028842\n",
      "   0.35613398  0.41281003  0.93344705  0.93813565]\n",
      " [ 0.09010089  0.43358095  0.79316501  0.80897614  0.24824938  0.41301612\n",
      "   0.63140331  0.7107687   0.59133321  0.37465246]\n",
      " [ 0.15654017  0.30846199  0.33122805  0.97907062  0.08419835  0.14385139\n",
      "   0.7842191   0.90434849  0.73259347  0.70351006]\n",
      " [ 0.09643087  0.983668    0.09714175  0.89137035  0.07202218  0.11864433\n",
      "   0.12405562  0.26464211  0.69838166  0.23844917]\n",
      " [ 0.07253958  0.18520763  0.8764436   0.5092842   0.12730457  0.25460287\n",
      "   0.77541703  0.41869166  0.14126389  0.37731931]\n",
      " [ 0.20900727  0.47168959  0.86160278  0.27386584  0.22449663  0.46002169\n",
      "   0.69708062  0.4309518   0.00880661  0.87949601]\n",
      " [ 0.1313034   0.66872775  0.77790777  0.25631366  0.57140983  0.24320742\n",
      "   0.30053435  0.01961749  0.12410272  0.61073169]\n",
      " [ 0.42094387  0.34030189  0.18430764  0.54413459  0.60166259  0.33738066\n",
      "   0.62424399  0.11726769  0.8469763   0.37180443]\n",
      " [ 0.87582139  0.98283738  0.0895363   0.85201627  0.29523834  0.14447262\n",
      "   0.0570614   0.27658404  0.32100838  0.91790737]\n",
      " [ 0.21646082  0.41420779  0.4985167   0.02503492  0.70789456  0.99137038\n",
      "   0.99345312  0.51430011  0.07148505  0.14783889]]\n",
      "minimum: 0.008806608645555491\n",
      "maximum: 0.9969798835052183\n"
     ]
    }
   ],
   "source": [
    "v13 = np.random.random((10, 10))\n",
    "v_min, v_max = v13.min(), v13.max()\n",
    "print(v13)\n",
    "print(\"minimum: {}\\nmaximum: {}\".format(v_min, v_max))"
   ]
  },
  {
   "cell_type": "markdown",
   "metadata": {},
   "source": [
    "### #14 create a random vector of size 30 and find the mean value"
   ]
  },
  {
   "cell_type": "code",
   "execution_count": 13,
   "metadata": {},
   "outputs": [
    {
     "name": "stdout",
     "output_type": "stream",
     "text": [
      "[ 0.36807973  0.67827938  0.27808959  0.09472202  0.8711323   0.15452811\n",
      "  0.07585517  0.26565864  0.95821521  0.38321254  0.38392972  0.12506376\n",
      "  0.11308392  0.47841247  0.92350817  0.26406448  0.75938035  0.04375532\n",
      "  0.75665374  0.04461661  0.18574017  0.81623199  0.00492927  0.99171904\n",
      "  0.53955899  0.42694958  0.70688352  0.43765956  0.46453735  0.5605264 ] \n",
      "mean: 0.4384992366934359\n"
     ]
    }
   ],
   "source": [
    "v14 = np.random.random(30)\n",
    "m = v14.mean()\n",
    "print(v14, \"\\nmean: {}\".format(m))"
   ]
  },
  {
   "cell_type": "markdown",
   "metadata": {},
   "source": [
    "### #15 create a 2D array with 1 on the border and 0 inside"
   ]
  },
  {
   "cell_type": "code",
   "execution_count": 14,
   "metadata": {},
   "outputs": [
    {
     "name": "stdout",
     "output_type": "stream",
     "text": [
      "[[ 1.  1.  1.  1.  1.  1.  1.  1.  1.  1.]\n",
      " [ 1.  0.  0.  0.  0.  0.  0.  0.  0.  1.]\n",
      " [ 1.  0.  0.  0.  0.  0.  0.  0.  0.  1.]\n",
      " [ 1.  0.  0.  0.  0.  0.  0.  0.  0.  1.]\n",
      " [ 1.  0.  0.  0.  0.  0.  0.  0.  0.  1.]\n",
      " [ 1.  0.  0.  0.  0.  0.  0.  0.  0.  1.]\n",
      " [ 1.  0.  0.  0.  0.  0.  0.  0.  0.  1.]\n",
      " [ 1.  0.  0.  0.  0.  0.  0.  0.  0.  1.]\n",
      " [ 1.  0.  0.  0.  0.  0.  0.  0.  0.  1.]\n",
      " [ 1.  1.  1.  1.  1.  1.  1.  1.  1.  1.]]\n"
     ]
    }
   ],
   "source": [
    "v15 = np.ones((10, 10))\n",
    "v15[1:-1, 1:-1] = 0\n",
    "print(v15)"
   ]
  },
  {
   "cell_type": "markdown",
   "metadata": {},
   "source": [
    "### #16 how to add a border (filled with 0's) around an existing array ?"
   ]
  },
  {
   "cell_type": "code",
   "execution_count": 15,
   "metadata": {},
   "outputs": [
    {
     "name": "stdout",
     "output_type": "stream",
     "text": [
      "[[ 0.  0.  0.  0.  0.  0.  0.]\n",
      " [ 0.  1.  1.  1.  1.  1.  0.]\n",
      " [ 0.  1.  1.  1.  1.  1.  0.]\n",
      " [ 0.  1.  1.  1.  1.  1.  0.]\n",
      " [ 0.  1.  1.  1.  1.  1.  0.]\n",
      " [ 0.  1.  1.  1.  1.  1.  0.]\n",
      " [ 0.  0.  0.  0.  0.  0.  0.]]\n"
     ]
    }
   ],
   "source": [
    "v16 = np.ones((5, 5))\n",
    "v16 = np.pad(v16, pad_width=1, mode='constant', constant_values=0)\n",
    "print(v16)"
   ]
  },
  {
   "cell_type": "markdown",
   "metadata": {},
   "source": [
    "### #17 what is the result of the following expression ?"
   ]
  },
  {
   "cell_type": "code",
   "execution_count": 16,
   "metadata": {},
   "outputs": [
    {
     "name": "stdout",
     "output_type": "stream",
     "text": [
      "nan\n",
      "False\n",
      "False\n",
      "nan\n",
      "False\n"
     ]
    }
   ],
   "source": [
    "print(0 * np.nan)\n",
    "print(np.nan == np.nan)\n",
    "print(np.inf > np.nan)\n",
    "print(np.nan - np.nan)\n",
    "print(0.3 == 3 * 0.1)"
   ]
  },
  {
   "cell_type": "markdown",
   "metadata": {},
   "source": [
    "### #18 create a 5 * 5 matrix with values 1,2,3,4 just below the diagonal"
   ]
  },
  {
   "cell_type": "code",
   "execution_count": 17,
   "metadata": {},
   "outputs": [
    {
     "name": "stdout",
     "output_type": "stream",
     "text": [
      "[[0 0 0 0 0]\n",
      " [1 0 0 0 0]\n",
      " [0 2 0 0 0]\n",
      " [0 0 3 0 0]\n",
      " [0 0 0 4 0]]\n"
     ]
    }
   ],
   "source": [
    "v18 = np.diag(1+np.arange(4), k=-1)\n",
    "print(v18)"
   ]
  },
  {
   "cell_type": "markdown",
   "metadata": {},
   "source": [
    "### #19 create a 8 * 8 matrix and fill it with a checkerboard pattern"
   ]
  },
  {
   "cell_type": "code",
   "execution_count": 18,
   "metadata": {},
   "outputs": [
    {
     "name": "stdout",
     "output_type": "stream",
     "text": [
      "[[ 0.  1.  0.  1.  0.  1.  0.  1.]\n",
      " [ 1.  0.  1.  0.  1.  0.  1.  0.]\n",
      " [ 0.  1.  0.  1.  0.  1.  0.  1.]\n",
      " [ 1.  0.  1.  0.  1.  0.  1.  0.]\n",
      " [ 0.  1.  0.  1.  0.  1.  0.  1.]\n",
      " [ 1.  0.  1.  0.  1.  0.  1.  0.]\n",
      " [ 0.  1.  0.  1.  0.  1.  0.  1.]\n",
      " [ 1.  0.  1.  0.  1.  0.  1.  0.]]\n"
     ]
    }
   ],
   "source": [
    "v19 = np.zeros((8, 8))\n",
    "v19[1::2, ::2] = 1\n",
    "v19[::2, 1::2] = 1\n",
    "print(v19)"
   ]
  },
  {
   "cell_type": "markdown",
   "metadata": {},
   "source": [
    "### #20 consider a (6,7,8) shape array, what is the index (x,y,z) of the 100th element ? "
   ]
  },
  {
   "cell_type": "code",
   "execution_count": 19,
   "metadata": {},
   "outputs": [
    {
     "name": "stdout",
     "output_type": "stream",
     "text": [
      "(1, 5, 4)\n"
     ]
    }
   ],
   "source": [
    "print(np.unravel_index(100,(6,7,8)))"
   ]
  },
  {
   "cell_type": "markdown",
   "metadata": {},
   "source": [
    "### #21 create a chekerboard 8 * 8 matrix using the tile function"
   ]
  },
  {
   "cell_type": "code",
   "execution_count": 20,
   "metadata": {},
   "outputs": [
    {
     "name": "stdout",
     "output_type": "stream",
     "text": [
      "[[0 1 0 1 0 1 0 1]\n",
      " [1 0 1 0 1 0 1 0]\n",
      " [0 1 0 1 0 1 0 1]\n",
      " [1 0 1 0 1 0 1 0]\n",
      " [0 1 0 1 0 1 0 1]\n",
      " [1 0 1 0 1 0 1 0]\n",
      " [0 1 0 1 0 1 0 1]\n",
      " [1 0 1 0 1 0 1 0]]\n"
     ]
    }
   ],
   "source": [
    "v21 = np.tile(np.array([[0, 1], [1, 0]]), (4, 4))\n",
    "print(v21)"
   ]
  },
  {
   "cell_type": "markdown",
   "metadata": {},
   "source": [
    "### #22 normalize a 5 * 5 random matrix"
   ]
  },
  {
   "cell_type": "code",
   "execution_count": 21,
   "metadata": {},
   "outputs": [
    {
     "name": "stdout",
     "output_type": "stream",
     "text": [
      "[[ 0.54607516  0.5677405   0.7091416   0.95901216  1.        ]\n",
      " [ 0.55379101  0.57140864  0.17063931  0.38441028  0.36204941]\n",
      " [ 0.16491072  0.19686964  0.65189234  0.7219489   0.        ]\n",
      " [ 0.82479379  0.73170924  0.50771408  0.07378859  0.00167389]\n",
      " [ 0.50661154  0.03353994  0.82376641  0.27012976  0.73201028]]\n"
     ]
    }
   ],
   "source": [
    "v22 = np.random.random((5, 5))\n",
    "v_min, v_max = v22.min(), v22.max()\n",
    "v22 = (v22 - v_min) / (v_max - v_min)\n",
    "print(v22)"
   ]
  },
  {
   "cell_type": "code",
   "execution_count": 22,
   "metadata": {},
   "outputs": [
    {
     "name": "stdout",
     "output_type": "stream",
     "text": [
      "[[ 0.25941995  0.20994851  0.56885133  1.20815548 -0.95358787]\n",
      " [-1.31154646 -1.48666742 -1.60081161 -1.31629381  0.02647437]\n",
      " [-0.18111343  1.34448175 -0.82996794  1.27909952 -0.02409595]\n",
      " [ 0.94476002 -0.40283616  0.70078483  1.61520254  1.61171585]\n",
      " [-0.98842413  0.87860256 -0.80005499  0.05958351 -0.81168045]]\n"
     ]
    }
   ],
   "source": [
    "v22 = np.random.random((5, 5))\n",
    "v_mean, v_sigma = v22.mean(), v22.std()\n",
    "v22 = (v22 - v_mean) / v_sigma\n",
    "print(v22)"
   ]
  },
  {
   "cell_type": "markdown",
   "metadata": {},
   "source": [
    "### #23 create a custom dtype that describes a color as four unsinged bytes "
   ]
  },
  {
   "cell_type": "code",
   "execution_count": 23,
   "metadata": {},
   "outputs": [
    {
     "name": "stdout",
     "output_type": "stream",
     "text": [
      "[('r', 'u1'), ('g', 'u1'), ('b', 'u1'), ('a', 'u1')]\n"
     ]
    }
   ],
   "source": [
    "color = np.dtype([(\"r\", np.ubyte, 1),\n",
    "                  (\"g\", np.ubyte, 1),\n",
    "                  (\"b\", np.ubyte, 1),\n",
    "                  (\"a\", np.ubyte, 1)])\n",
    "print(color)"
   ]
  },
  {
   "cell_type": "markdown",
   "metadata": {},
   "source": [
    "### #24 multiply a 5 * 3 matrix by a 3 * 2 matrix (real matrix product)"
   ]
  },
  {
   "cell_type": "code",
   "execution_count": 24,
   "metadata": {},
   "outputs": [
    {
     "name": "stdout",
     "output_type": "stream",
     "text": [
      "[[ 3.  3.]\n",
      " [ 3.  3.]\n",
      " [ 3.  3.]\n",
      " [ 3.  3.]\n",
      " [ 3.  3.]]\n"
     ]
    }
   ],
   "source": [
    "v24 = np.dot(np.ones((5, 3)), np.ones((3, 2)))\n",
    "v24 = np.ones((5, 3)) @ np.ones((3, 2))\n",
    "print(v24)"
   ]
  },
  {
   "cell_type": "markdown",
   "metadata": {},
   "source": [
    "### #25 given a 1D array, negate all elements which are between 3 and 8, in place"
   ]
  },
  {
   "cell_type": "code",
   "execution_count": 25,
   "metadata": {},
   "outputs": [
    {
     "name": "stdout",
     "output_type": "stream",
     "text": [
      "[ 0  1  2 -3 -4 -5 -6 -7 -8  9]\n"
     ]
    }
   ],
   "source": [
    "v25 = np.arange(10)\n",
    "v25[(3 <= v25) & (v25 <= 8)] *= -1\n",
    "print(v25)"
   ]
  },
  {
   "cell_type": "markdown",
   "metadata": {},
   "source": [
    "### #26 what is the output of the following script ?"
   ]
  },
  {
   "cell_type": "code",
   "execution_count": 26,
   "metadata": {},
   "outputs": [
    {
     "name": "stdout",
     "output_type": "stream",
     "text": [
      "9\n",
      "10\n"
     ]
    }
   ],
   "source": [
    "print(sum(range(5),-1))\n",
    "from numpy import *\n",
    "print(sum(range(5),-1))"
   ]
  },
  {
   "cell_type": "markdown",
   "metadata": {},
   "source": [
    "### #27 consider an integer vector Z, which of these expressions are legal ?"
   ]
  },
  {
   "cell_type": "code",
   "execution_count": 27,
   "metadata": {},
   "outputs": [
    {
     "name": "stdout",
     "output_type": "stream",
     "text": [
      "[ 0  1  4  9 16]\n",
      "[0 1 2 4 8]\n",
      "[False False False False False]\n",
      "[ 0.+0.j  0.+1.j  0.+2.j  0.+3.j  0.+4.j]\n",
      "[ 0.  1.  2.  3.  4.]\n"
     ]
    }
   ],
   "source": [
    "z = np.arange(5)\n",
    "print(z * z)\n",
    "print(2 << z >> 2)\n",
    "print(z <- z)\n",
    "print(1j*z)\n",
    "print(z/1/1)"
   ]
  },
  {
   "cell_type": "markdown",
   "metadata": {},
   "source": [
    "### #28 what are the result of the following expressions ?"
   ]
  },
  {
   "cell_type": "code",
   "execution_count": 28,
   "metadata": {},
   "outputs": [
    {
     "name": "stdout",
     "output_type": "stream",
     "text": [
      "nan\n",
      "0\n",
      "[ -2.14748365e+09]\n"
     ]
    },
    {
     "name": "stderr",
     "output_type": "stream",
     "text": [
      "C:\\Users\\owner\\Anaconda3\\lib\\site-packages\\ipykernel_launcher.py:1: RuntimeWarning: invalid value encountered in true_divide\n",
      "  \"\"\"Entry point for launching an IPython kernel.\n",
      "C:\\Users\\owner\\Anaconda3\\lib\\site-packages\\ipykernel_launcher.py:2: RuntimeWarning: divide by zero encountered in floor_divide\n",
      "  \n"
     ]
    }
   ],
   "source": [
    "print(np.array(0) / np.array(0))\n",
    "print(np.array(0) // np.array(0))\n",
    "print(np.array([np.nan]).astype(int).astype(float))"
   ]
  },
  {
   "cell_type": "markdown",
   "metadata": {},
   "source": [
    "### #29 how to round away from zero a float array ?"
   ]
  },
  {
   "cell_type": "code",
   "execution_count": 29,
   "metadata": {},
   "outputs": [
    {
     "name": "stdout",
     "output_type": "stream",
     "text": [
      "[ 7.28124953 -3.37250856  3.09039162 -8.60241282  6.60742309 -2.60414407\n",
      " -5.08007091 -5.51982532 -3.45871037 -2.68416663 -2.70443118  1.65324105\n",
      " -3.46405651 -9.6240809   7.95501127  6.74047008  6.38799099 -2.11682666\n",
      "  0.36940498 -3.87169209]\n",
      "[  8.  -4.   4.  -9.   7.  -3.  -6.  -6.  -4.  -3.  -3.   2.  -4. -10.   8.\n",
      "   7.   7.  -3.   1.  -4.]\n"
     ]
    }
   ],
   "source": [
    "v29 = np.random.uniform(-10,10,20)\n",
    "print(v29)\n",
    "print(np.copysign(np.ceil(np.abs(v29)), v29))"
   ]
  },
  {
   "cell_type": "markdown",
   "metadata": {},
   "source": [
    "### #30 how to find common values between two arrays ?"
   ]
  },
  {
   "cell_type": "code",
   "execution_count": 31,
   "metadata": {},
   "outputs": [
    {
     "name": "stdout",
     "output_type": "stream",
     "text": [
      "[-5  4 -2 -9  2  2 -6  2  9  1]\n",
      "[ 1  7  6  5 -3  8 -6 -7 -9 -1]\n",
      "[-9 -6  1]\n"
     ]
    }
   ],
   "source": [
    "v30_1 = np.random.randint(-10, 10, 10)\n",
    "v30_2 = np.random.randint(-10, 10, 10)\n",
    "print(v30_1)\n",
    "print(v30_2)\n",
    "print(np.intersect1d(v30_1, v30_2))"
   ]
  },
  {
   "cell_type": "markdown",
   "metadata": {
    "collapsed": true
   },
   "source": [
    "### #31 how to ignore all numpy warnings"
   ]
  },
  {
   "cell_type": "code",
   "execution_count": 33,
   "metadata": {},
   "outputs": [
    {
     "data": {
      "text/plain": [
       "{'divide': 'ignore', 'invalid': 'ignore', 'over': 'ignore', 'under': 'ignore'}"
      ]
     },
     "execution_count": 33,
     "metadata": {},
     "output_type": "execute_result"
    }
   ],
   "source": [
    "env = np.seterr(all=\"ignore\") #無視\n",
    "np.seterr(**env) #戻す"
   ]
  },
  {
   "cell_type": "markdown",
   "metadata": {},
   "source": [
    "### #32 is the following expressions true ?"
   ]
  },
  {
   "cell_type": "code",
   "execution_count": 37,
   "metadata": {},
   "outputs": [
    {
     "name": "stdout",
     "output_type": "stream",
     "text": [
      "nan\n",
      "1j\n"
     ]
    },
    {
     "name": "stderr",
     "output_type": "stream",
     "text": [
      "C:\\Users\\owner\\Anaconda3\\lib\\site-packages\\ipykernel_launcher.py:1: RuntimeWarning: invalid value encountered in sqrt\n",
      "  \"\"\"Entry point for launching an IPython kernel.\n"
     ]
    }
   ],
   "source": [
    "print(np.sqrt(-1))\n",
    "print(np.emath.sqrt(-1))"
   ]
  },
  {
   "cell_type": "markdown",
   "metadata": {},
   "source": [
    "### #33 how to get the dates of yesterday, today and tomorrow ?"
   ]
  },
  {
   "cell_type": "code",
   "execution_count": 49,
   "metadata": {},
   "outputs": [
    {
     "name": "stdout",
     "output_type": "stream",
     "text": [
      "2017-12-29\n",
      "2017-12-30\n",
      "2017-12-31\n"
     ]
    }
   ],
   "source": [
    "yesterday = np.datetime64('today', 'D') - np.timedelta64(1, 'D')\n",
    "today = np.datetime64('today', 'D')\n",
    "tomorrow = np.datetime64('today', 'D') + np.timedelta64(1, 'D')\n",
    "print(yesterday)\n",
    "print(today)\n",
    "print(tomorrow)"
   ]
  },
  {
   "cell_type": "markdown",
   "metadata": {},
   "source": [
    "### #34 how to get all dates corresponding to the month of july ?"
   ]
  },
  {
   "cell_type": "code",
   "execution_count": 54,
   "metadata": {},
   "outputs": [
    {
     "name": "stdout",
     "output_type": "stream",
     "text": [
      "['2016-07-01' '2016-07-02' '2016-07-03' '2016-07-04' '2016-07-05'\n",
      " '2016-07-06' '2016-07-07' '2016-07-08' '2016-07-09' '2016-07-10'\n",
      " '2016-07-11' '2016-07-12' '2016-07-13' '2016-07-14' '2016-07-15'\n",
      " '2016-07-16' '2016-07-17' '2016-07-18' '2016-07-19' '2016-07-20'\n",
      " '2016-07-21' '2016-07-22' '2016-07-23' '2016-07-24' '2016-07-25'\n",
      " '2016-07-26' '2016-07-27' '2016-07-28' '2016-07-29' '2016-07-30'\n",
      " '2016-07-31']\n"
     ]
    }
   ],
   "source": [
    "v34 = np.arange('2016-07', '2016-08', dtype='datetime64[D]')\n",
    "print(v34)"
   ]
  },
  {
   "cell_type": "markdown",
   "metadata": {},
   "source": [
    "### #35 how to compute ((A+B)*(-A/2)) in place"
   ]
  },
  {
   "cell_type": "code",
   "execution_count": 75,
   "metadata": {},
   "outputs": [
    {
     "name": "stdout",
     "output_type": "stream",
     "text": [
      "[-1.5 -1.5 -1.5]\n"
     ]
    }
   ],
   "source": [
    "a = np.ones(3) * 1\n",
    "b = np.ones(3) * 2\n",
    "c = np.ones(3) * 3\n",
    "np.add(a, b, out=b)\n",
    "np.divide(a, 2, out=a)\n",
    "np.negative(a, out=a)\n",
    "np.multiply(a, b, out=a)\n",
    "print(a)"
   ]
  },
  {
   "cell_type": "markdown",
   "metadata": {},
   "source": [
    "### #36 extract the integer part of a random array using 5 different methods"
   ]
  },
  {
   "cell_type": "code",
   "execution_count": 78,
   "metadata": {},
   "outputs": [
    {
     "name": "stdout",
     "output_type": "stream",
     "text": [
      "[ 7.15875733  1.00524863  4.77145008  2.06356986  5.18277723  1.02966325\n",
      "  3.2515194   1.74333603  0.33961564  6.68545548]\n",
      "[ 7.  1.  4.  2.  5.  1.  3.  1.  0.  6.]\n",
      "[ 7.  1.  4.  2.  5.  1.  3.  1.  0.  6.]\n",
      "[ 7.  1.  4.  2.  5.  1.  3.  1.  0.  6.]\n",
      "[7 1 4 2 5 1 3 1 0 6]\n",
      "[ 7.  1.  4.  2.  5.  1.  3.  1.  0.  6.]\n"
     ]
    }
   ],
   "source": [
    "Z = np.random.uniform(0,10,10)\n",
    "\n",
    "print(Z)\n",
    "print (Z - Z%1)\n",
    "print (np.floor(Z))\n",
    "print (np.ceil(Z)-1)\n",
    "print (Z.astype(int))\n",
    "print (np.trunc(Z))"
   ]
  },
  {
   "cell_type": "markdown",
   "metadata": {},
   "source": [
    "### #37 create a 5 * 5 matrix with row values ranging from 0 to 4"
   ]
  },
  {
   "cell_type": "code",
   "execution_count": 83,
   "metadata": {},
   "outputs": [
    {
     "name": "stdout",
     "output_type": "stream",
     "text": [
      "[[ 0.  1.  2.  3.  4.]\n",
      " [ 0.  1.  2.  3.  4.]\n",
      " [ 0.  1.  2.  3.  4.]\n",
      " [ 0.  1.  2.  3.  4.]\n",
      " [ 0.  1.  2.  3.  4.]]\n"
     ]
    }
   ],
   "source": [
    "v37 = np.zeros((5, 5))\n",
    "v37 += np.arange(5)\n",
    "print(v37)"
   ]
  },
  {
   "cell_type": "markdown",
   "metadata": {},
   "source": [
    "### #38 consider a generator function that generates 10 integers and use it to build an array"
   ]
  },
  {
   "cell_type": "code",
   "execution_count": 97,
   "metadata": {},
   "outputs": [
    {
     "name": "stdout",
     "output_type": "stream",
     "text": [
      "[0 1 2 3 4 5 6 7 8 9]\n"
     ]
    }
   ],
   "source": [
    "iterable = (x for x in range(10))\n",
    "print(np.fromiter(iterable, np.int))"
   ]
  },
  {
   "cell_type": "markdown",
   "metadata": {},
   "source": [
    "### #39 create a vector of size 10 with values ranging from 0 to 1, both excluded"
   ]
  },
  {
   "cell_type": "code",
   "execution_count": 151,
   "metadata": {},
   "outputs": [
    {
     "name": "stdout",
     "output_type": "stream",
     "text": [
      "[ 0.09090909  0.18181818  0.27272727  0.36363636  0.45454545  0.54545455\n",
      "  0.63636364  0.72727273  0.81818182  0.90909091]\n"
     ]
    }
   ],
   "source": [
    "v39 = np.linspace(0, 1, 11, endpoint=False)[1:]\n",
    "print(v39)"
   ]
  },
  {
   "cell_type": "markdown",
   "metadata": {},
   "source": [
    "### #40 create a random vector of size 10 and sort it"
   ]
  },
  {
   "cell_type": "code",
   "execution_count": 200,
   "metadata": {},
   "outputs": [
    {
     "name": "stdout",
     "output_type": "stream",
     "text": [
      "[ 0.10387509  0.13386174  0.16110261  0.16534791  0.18781113  0.18842093\n",
      "  0.38296615  0.47863921  0.66377541  0.79330818]\n",
      "[ 0.79330818  0.66377541  0.47863921  0.38296615  0.18842093  0.18781113\n",
      "  0.16534791  0.16110261  0.13386174  0.10387509]\n",
      "[ 0.66377541  0.13386174  0.16110261  0.79330818  0.10387509  0.18842093\n",
      "  0.47863921  0.16534791  0.38296615  0.18781113]\n"
     ]
    }
   ],
   "source": [
    "v40 = np.random.random(10)\n",
    "print(np.sort(v40))\n",
    "print(np.sort(v40)[::-1])\n",
    "print(v40)"
   ]
  },
  {
   "cell_type": "markdown",
   "metadata": {},
   "source": [
    "### #41 how to sum a small array faster than np.sum ?"
   ]
  },
  {
   "cell_type": "code",
   "execution_count": 206,
   "metadata": {},
   "outputs": [
    {
     "name": "stdout",
     "output_type": "stream",
     "text": [
      "[0 1 2 3 4 5 6 7 8 9]\n",
      "45\n",
      "45\n"
     ]
    }
   ],
   "source": [
    "v41 = np.arange(10)\n",
    "print(v41)\n",
    "print(np.add.reduce(v41))\n",
    "print(np.sum(v41))"
   ]
  },
  {
   "cell_type": "markdown",
   "metadata": {},
   "source": [
    "### #42 consider two random array A and B check if they are equal"
   ]
  },
  {
   "cell_type": "code",
   "execution_count": 217,
   "metadata": {},
   "outputs": [
    {
     "name": "stdout",
     "output_type": "stream",
     "text": [
      "[ 0.44639437  0.76464111  0.56569034  0.30760015  0.06954211  0.15068022\n",
      "  0.28721961  0.09468248  0.19008832  0.35233477]\n",
      "[ 0.21824686  0.98525907  0.07724513  0.32617423  0.04367223  0.22511945\n",
      "  0.21414013  0.17365327  0.82818359  0.17287426]\n",
      "False\n",
      "False\n"
     ]
    }
   ],
   "source": [
    "a = np.random.random(10)\n",
    "b = np.random.random(10)\n",
    "close = np.allclose(a, b)\n",
    "equal = np.array_equal(a, b)\n",
    "print(a)\n",
    "print(b)\n",
    "print(close)\n",
    "print(equal)"
   ]
  },
  {
   "cell_type": "markdown",
   "metadata": {},
   "source": [
    "### #43 make an array immutable (read-only)"
   ]
  },
  {
   "cell_type": "code",
   "execution_count": 226,
   "metadata": {},
   "outputs": [
    {
     "name": "stdout",
     "output_type": "stream",
     "text": [
      "[ 0.30540529  0.63879123  0.64227089  0.64398053  0.76342544  0.52120778\n",
      "  0.01703807  0.79392857  0.74621529  0.22678601]\n"
     ]
    },
    {
     "ename": "ValueError",
     "evalue": "assignment destination is read-only",
     "output_type": "error",
     "traceback": [
      "\u001b[1;31m---------------------------------------------------------------------------\u001b[0m",
      "\u001b[1;31mValueError\u001b[0m                                Traceback (most recent call last)",
      "\u001b[1;32m<ipython-input-226-e8c767370ba0>\u001b[0m in \u001b[0;36m<module>\u001b[1;34m()\u001b[0m\n\u001b[0;32m      2\u001b[0m \u001b[0mv43\u001b[0m\u001b[1;33m.\u001b[0m\u001b[0mflags\u001b[0m\u001b[1;33m.\u001b[0m\u001b[0mwriteable\u001b[0m \u001b[1;33m=\u001b[0m \u001b[1;32mFalse\u001b[0m\u001b[1;33m\u001b[0m\u001b[0m\n\u001b[0;32m      3\u001b[0m \u001b[0mprint\u001b[0m\u001b[1;33m(\u001b[0m\u001b[0mv43\u001b[0m\u001b[1;33m)\u001b[0m\u001b[1;33m\u001b[0m\u001b[0m\n\u001b[1;32m----> 4\u001b[1;33m \u001b[0mv43\u001b[0m\u001b[1;33m[\u001b[0m\u001b[1;36m1\u001b[0m\u001b[1;33m]\u001b[0m \u001b[1;33m=\u001b[0m \u001b[1;36m1\u001b[0m\u001b[1;33m\u001b[0m\u001b[0m\n\u001b[0m",
      "\u001b[1;31mValueError\u001b[0m: assignment destination is read-only"
     ]
    }
   ],
   "source": [
    "v43 = np.random.random(10)\n",
    "v43.flags.writeable = False\n",
    "print(v43)\n",
    "v43[1] = 1"
   ]
  },
  {
   "cell_type": "markdown",
   "metadata": {},
   "source": [
    "### #44 consider a random 10 * 2 matrix representing cartesian coordinates, convert them to polar coordinates"
   ]
  },
  {
   "cell_type": "code",
   "execution_count": 239,
   "metadata": {},
   "outputs": [
    {
     "name": "stdout",
     "output_type": "stream",
     "text": [
      "[[ 0.13882828  0.06556096]\n",
      " [ 0.33759736  0.23682661]\n",
      " [ 0.61459529  0.11032266]\n",
      " [ 0.90635294  0.23054292]\n",
      " [ 0.4984366   0.79411197]\n",
      " [ 0.65044662  0.8348791 ]\n",
      " [ 0.92253726  0.79146974]\n",
      " [ 0.10673042  0.68542335]\n",
      " [ 0.37345334  0.21171811]\n",
      " [ 0.15964226  0.83098876]]\n",
      "r: [ 0.15353023  0.41238189  0.62441849  0.93521425  0.93757819  1.05834962\n",
      "  1.21552431  0.69368332  0.42929239  0.84618436]\n",
      "theta: [ 0.4411981   0.61173606  0.177613    0.24908106  1.01028262  0.90893557\n",
      "  0.70907821  1.41632227  0.51574063  1.38099752]\n"
     ]
    }
   ],
   "source": [
    "v44 = np.random.random((10, 2))\n",
    "print(v44)\n",
    "X, Y = v44[:, 0], v44[:, 1]\n",
    "r = np.sqrt(X**2+Y**2)\n",
    "theta = np.arctan2(Y, X)\n",
    "print(\"r: {}\\ntheta: {}\".format(r, theta))"
   ]
  },
  {
   "cell_type": "markdown",
   "metadata": {},
   "source": [
    "### #45 create random vector of size 10 and replace the maximum value by 0"
   ]
  },
  {
   "cell_type": "code",
   "execution_count": 245,
   "metadata": {},
   "outputs": [
    {
     "name": "stdout",
     "output_type": "stream",
     "text": [
      "[ 0.33814941  0.34220071  0.60387578  0.31668466  0.04423568  0.32237918\n",
      "  0.32201721  0.71010841  0.75760156  0.02143092]\n",
      "[ 0.33814941  0.34220071  0.60387578  0.31668466  0.04423568  0.32237918\n",
      "  0.32201721  0.71010841  0.          0.02143092]\n"
     ]
    }
   ],
   "source": [
    "v45 = np.random.random(10)\n",
    "print(v45)\n",
    "v45[v45.argmax()] = 0\n",
    "print(v45)"
   ]
  },
  {
   "cell_type": "markdown",
   "metadata": {},
   "source": [
    "### #46 Create a structured array with x and y coordinates covering the [0,1]x[0,1] area "
   ]
  },
  {
   "cell_type": "code",
   "execution_count": 247,
   "metadata": {},
   "outputs": [
    {
     "name": "stdout",
     "output_type": "stream",
     "text": [
      "[[( 0.  ,  0.  ) ( 0.25,  0.  ) ( 0.5 ,  0.  ) ( 0.75,  0.  )\n",
      "  ( 1.  ,  0.  )]\n",
      " [( 0.  ,  0.25) ( 0.25,  0.25) ( 0.5 ,  0.25) ( 0.75,  0.25)\n",
      "  ( 1.  ,  0.25)]\n",
      " [( 0.  ,  0.5 ) ( 0.25,  0.5 ) ( 0.5 ,  0.5 ) ( 0.75,  0.5 )\n",
      "  ( 1.  ,  0.5 )]\n",
      " [( 0.  ,  0.75) ( 0.25,  0.75) ( 0.5 ,  0.75) ( 0.75,  0.75)\n",
      "  ( 1.  ,  0.75)]\n",
      " [( 0.  ,  1.  ) ( 0.25,  1.  ) ( 0.5 ,  1.  ) ( 0.75,  1.  )\n",
      "  ( 1.  ,  1.  )]]\n"
     ]
    }
   ],
   "source": [
    "Z = np.zeros((5,5), [('x',float),('y',float)])\n",
    "Z['x'], Z['y'] = np.meshgrid(np.linspace(0,1,5),\n",
    "                             np.linspace(0,1,5))\n",
    "print(Z)"
   ]
  },
  {
   "cell_type": "markdown",
   "metadata": {},
   "source": [
    "### #47 Given two arrays, X and Y, construct the Cauchy matrix C (Cij =1/(xi - yj))"
   ]
  },
  {
   "cell_type": "code",
   "execution_count": 248,
   "metadata": {},
   "outputs": [
    {
     "name": "stdout",
     "output_type": "stream",
     "text": [
      "3638.16363712\n"
     ]
    }
   ],
   "source": [
    "X = np.arange(8)\n",
    "Y = X + 0.5\n",
    "C = 1.0 / np.subtract.outer(X, Y)\n",
    "print(np.linalg.det(C))"
   ]
  },
  {
   "cell_type": "markdown",
   "metadata": {},
   "source": [
    "### #48 Print the minimum and maximum representable value for each numpy scalar type"
   ]
  },
  {
   "cell_type": "code",
   "execution_count": 254,
   "metadata": {},
   "outputs": [
    {
     "name": "stdout",
     "output_type": "stream",
     "text": [
      "min: -128\n",
      "max: 127\n",
      "min: -2147483648\n",
      "max: 2147483647\n",
      "min: -9223372036854775808\n",
      "max: 9223372036854775807\n",
      "min: -3.4028234663852886e+38\n",
      "max: 3.4028234663852886e+38\n",
      "eps: 1.1920928955078125e-07\n",
      "min: -1.7976931348623157e+308\n",
      "max: 1.7976931348623157e+308\n",
      "eps: 2.220446049250313e-16\n"
     ]
    }
   ],
   "source": [
    "int_types = [np.int8, np.int32, np.int64]\n",
    "float_types = [np.float32, np.float64]\n",
    "\n",
    "for dtype in int_types:\n",
    "   print(\"min: {}\".format(np.iinfo(dtype).min))\n",
    "   print(\"max: {}\".format(np.iinfo(dtype).max))\n",
    "for dtype in float_types:\n",
    "   print(\"min: {}\".format(np.finfo(dtype).min))\n",
    "   print(\"max: {}\".format(np.finfo(dtype).max))\n",
    "   print(\"eps: {}\".format(np.finfo(dtype).eps))"
   ]
  },
  {
   "cell_type": "markdown",
   "metadata": {},
   "source": [
    "### #49 how to print all the values of an array ? "
   ]
  },
  {
   "cell_type": "code",
   "execution_count": 301,
   "metadata": {},
   "outputs": [
    {
     "name": "stdout",
     "output_type": "stream",
     "text": [
      "[[  4.50001117e-02   2.55449177e-02   2.42332950e-01   6.87005059e-01\n",
      "    9.31859547e-01   1.60941278e-01   2.34824012e-01   3.14518996e-01\n",
      "    2.93547950e-01   3.97759774e-01   3.73320300e-01   6.41337215e-01\n",
      "    6.05143348e-01   9.78375528e-01   7.48762866e-01   3.19422084e-01]\n",
      " [  1.77969967e-01   1.94194642e-01   5.83732715e-01   9.84311129e-01\n",
      "    6.74585421e-02   1.41650820e-01   4.71671321e-01   9.45580722e-02\n",
      "    1.81175498e-01   6.64392898e-01   5.73037443e-01   9.85785467e-02\n",
      "    3.40838753e-01   6.44626774e-01   3.23013645e-01   4.37605033e-01]\n",
      " [  7.56193059e-01   7.34700632e-01   6.43895463e-01   5.87441587e-01\n",
      "    2.67784795e-01   5.87728825e-01   6.93706607e-01   5.51070642e-01\n",
      "    2.31368485e-01   7.06509880e-02   9.32846169e-01   1.70079669e-01\n",
      "    8.99984475e-01   5.16616995e-01   6.43148225e-01   9.24821077e-01]\n",
      " [  7.33078811e-01   8.09707621e-01   9.27845841e-02   9.21759920e-01\n",
      "    5.84179582e-01   5.68420520e-01   6.35095722e-01   8.90447368e-01\n",
      "    2.09816723e-01   1.58543202e-01   6.42825634e-01   6.91911881e-01\n",
      "    2.53323912e-01   3.90314779e-01   2.57957194e-01   1.67370109e-01]\n",
      " [  5.97309295e-01   2.11665208e-01   2.85290329e-02   4.82458092e-02\n",
      "    1.77844704e-01   8.16044868e-01   8.78856172e-01   2.44976436e-02\n",
      "    7.05040478e-01   2.45512639e-01   4.39311411e-01   8.80117026e-01\n",
      "    9.29492788e-01   7.43565107e-02   6.01076395e-01   7.04677019e-01]\n",
      " [  2.72207237e-04   8.14615291e-01   4.66081797e-01   1.64069818e-01\n",
      "    3.35832545e-01   5.68434538e-01   5.70263947e-01   2.63459551e-01\n",
      "    8.76738424e-02   3.31104653e-02   1.03849344e-01   8.54917446e-01\n",
      "    1.09114112e-01   3.63381285e-01   3.64119722e-02   2.65381556e-01]\n",
      " [  6.66327950e-01   3.79897757e-01   7.75599733e-01   1.23009192e-01\n",
      "    7.12995174e-01   8.86598403e-01   5.60352804e-01   9.08573173e-01\n",
      "    9.07948536e-01   9.31929780e-01   9.05800344e-02   9.80572801e-01\n",
      "    1.03046959e-01   9.23612796e-01   7.53499908e-01   9.85558713e-01]\n",
      " [  8.55053523e-01   7.29199242e-01   9.57414489e-01   4.36464109e-01\n",
      "    7.29582413e-01   4.68596212e-01   2.24943213e-01   2.14288924e-01\n",
      "    8.08120794e-01   9.52035726e-01   4.91570414e-01   5.40408409e-01\n",
      "    6.93408620e-01   1.54915561e-02   4.36374806e-01   8.93466840e-01]\n",
      " [  2.63361393e-01   5.26273355e-01   2.10089617e-01   4.83594403e-01\n",
      "    7.15383136e-01   4.07517207e-01   7.63128881e-01   5.71129921e-02\n",
      "    2.57397478e-01   6.75741909e-01   1.90898962e-01   4.81862671e-01\n",
      "    4.00843849e-01   1.17768855e-01   6.24027537e-01   8.72620067e-01]\n",
      " [  7.53540276e-01   5.66026241e-01   8.37899581e-01   2.60993174e-01\n",
      "    1.28776394e-01   2.46107109e-01   3.08583245e-01   9.44142306e-01\n",
      "    4.99752537e-01   7.08028020e-01   1.93961507e-01   9.13323522e-02\n",
      "    7.39901369e-01   6.77207489e-02   9.89259374e-01   6.60667271e-01]\n",
      " [  9.06101493e-01   8.48037375e-01   6.61303749e-01   3.47878095e-01\n",
      "    7.55419618e-01   8.32376891e-01   4.06510791e-01   8.13490124e-01\n",
      "    6.77893841e-02   8.37802076e-01   9.74796430e-01   5.04659305e-02\n",
      "    5.25119574e-01   9.74935881e-01   9.82548145e-01   7.47300710e-01]\n",
      " [  8.56654300e-01   9.50269832e-01   6.11228671e-01   1.79695256e-01\n",
      "    9.84702019e-01   3.92296061e-01   1.09412734e-01   8.91409828e-02\n",
      "    4.90415854e-01   3.78833167e-01   1.90128966e-01   5.21572937e-02\n",
      "    6.39819773e-02   9.02122548e-01   4.52200105e-01   3.25315092e-01]\n",
      " [  9.78920868e-01   2.04053265e-01   5.40495771e-02   5.97672637e-02\n",
      "    7.02767608e-01   7.53017767e-01   5.89255907e-01   9.58875749e-01\n",
      "    7.62750372e-01   6.44162581e-01   3.87515966e-01   7.20617014e-02\n",
      "    1.97134356e-01   2.17689922e-01   4.68358140e-01   6.58888341e-01]\n",
      " [  2.93412128e-01   4.42842149e-01   6.19101077e-01   9.98475038e-01\n",
      "    3.53164289e-01   2.63069128e-01   2.93295439e-01   2.52384742e-01\n",
      "    3.28398208e-01   2.15417575e-01   7.65010944e-01   4.65100042e-01\n",
      "    1.97607328e-01   9.60873318e-01   1.68753635e-01   8.20553509e-01]\n",
      " [  1.53613972e-01   9.49801538e-01   1.34498985e-01   3.89537920e-01\n",
      "    7.32071473e-01   2.77690050e-01   4.76041990e-01   1.91012281e-01\n",
      "    3.71315135e-01   6.55710996e-02   3.20794710e-02   4.42856371e-01\n",
      "    5.84378706e-01   3.84741094e-01   7.95821720e-01   7.99484208e-01]\n",
      " [  7.64930121e-01   2.34494370e-01   8.94205499e-01   1.84687484e-01\n",
      "    9.47041850e-01   6.90762037e-01   9.25078882e-01   9.47427369e-02\n",
      "    8.59503802e-01   4.75276355e-01   6.25858444e-01   6.95992827e-01\n",
      "    2.85948791e-01   5.02942421e-01   4.63418648e-01   4.81392933e-01]]\n"
     ]
    }
   ],
   "source": [
    "#np.set_printoptions(threshold=np.nan)\n",
    "Z = np.random.random((16,16))\n",
    "print(Z)"
   ]
  },
  {
   "cell_type": "markdown",
   "metadata": {},
   "source": [
    "### #50 how to find the closest value (to a given scalar) in a vector ?"
   ]
  },
  {
   "cell_type": "code",
   "execution_count": 305,
   "metadata": {},
   "outputs": [
    {
     "name": "stdout",
     "output_type": "stream",
     "text": [
      "[ 0  1  2  3  4  5  6  7  8  9 10 11 12 13 14 15 16 17 18 19 20 21 22 23 24\n",
      " 25 26 27 28 29 30 31 32 33 34 35 36 37 38 39 40 41 42 43 44 45 46 47 48 49\n",
      " 50 51 52 53 54 55 56 57 58 59 60 61 62 63 64 65 66 67 68 69 70 71 72 73 74\n",
      " 75 76 77 78 79 80 81 82 83 84 85 86 87 88 89 90 91 92 93 94 95 96 97 98 99]\n",
      "13.10132585276107\n",
      "13\n"
     ]
    }
   ],
   "source": [
    "Z = np.arange(100)\n",
    "v = np.random.uniform(0,100)\n",
    "index = (np.abs(Z-v)).argmin()\n",
    "print(Z)\n",
    "print(v)\n",
    "print(Z[index])"
   ]
  },
  {
   "cell_type": "markdown",
   "metadata": {},
   "source": [
    "### #51 Create a structured array representing a position (x,y) and a color (r,g,b)"
   ]
  },
  {
   "cell_type": "code",
   "execution_count": 307,
   "metadata": {},
   "outputs": [
    {
     "name": "stdout",
     "output_type": "stream",
     "text": [
      "[(( 0.,  0.), ( 0.,  0.,  0.)) (( 0.,  0.), ( 0.,  0.,  0.))\n",
      " (( 0.,  0.), ( 0.,  0.,  0.)) (( 0.,  0.), ( 0.,  0.,  0.))\n",
      " (( 0.,  0.), ( 0.,  0.,  0.)) (( 0.,  0.), ( 0.,  0.,  0.))\n",
      " (( 0.,  0.), ( 0.,  0.,  0.)) (( 0.,  0.), ( 0.,  0.,  0.))\n",
      " (( 0.,  0.), ( 0.,  0.,  0.)) (( 0.,  0.), ( 0.,  0.,  0.))]\n"
     ]
    }
   ],
   "source": [
    "Z = np.zeros(10, [ ('position', [ ('x', float, 1),\n",
    "                                  ('y', float, 1)]),\n",
    "                   ('color',    [ ('r', float, 1),\n",
    "                                  ('g', float, 1),\n",
    "                                  ('b', float, 1)])])\n",
    "print(Z)"
   ]
  },
  {
   "cell_type": "markdown",
   "metadata": {},
   "source": [
    "### #52 consider a random vector with shape (100, 2) representing coordinates, find point by point distances"
   ]
  },
  {
   "cell_type": "code",
   "execution_count": 313,
   "metadata": {},
   "outputs": [
    {
     "name": "stdout",
     "output_type": "stream",
     "text": [
      "[[ 0.          0.68312024  0.3258008   0.11826511  0.14784036  0.59269031\n",
      "   0.05623626  0.46004126  0.25250753  0.47800592  0.28347457  0.41732324\n",
      "   0.86601711  0.74101808  0.24682575  0.2994089   0.50433954  0.53613791\n",
      "   0.18334374  0.46568127  0.91370227  0.65489575  0.20673711  0.39468966\n",
      "   0.86976264  0.72080093  0.87176796  0.84825768  0.66402159  0.19772973\n",
      "   0.43041301  0.8483785   0.10627666  0.54033761  0.87433187  0.29352334\n",
      "   0.84060772  0.42912471  0.70862967  0.56591481  0.58958932  0.45156718\n",
      "   0.72442818  0.38082559  0.57229861  0.35562333  0.41164877  0.8579575\n",
      "   0.74918198  0.92834646  0.44318064  0.48978012  0.52260048  0.704132\n",
      "   0.37703748  0.92600485  0.57978961  0.71276792  0.14805785  0.60516795\n",
      "   0.22544544  0.44841898  0.09947285  0.88307955  0.9096053   0.93060372\n",
      "   0.37654078  0.72622411  0.61112201  0.63435636  0.91935319  0.31453047\n",
      "   0.66256946  0.42651132  0.6547035   0.17456572  0.87476474  0.85977725\n",
      "   0.43071635  0.92238901  0.38236178  0.49386545  0.51170099  0.73185013\n",
      "   0.85598262  0.79742264  0.64983558  0.41599664  0.23968101  0.86440395\n",
      "   0.07640462  0.36716513  0.2865551   0.61703292  0.52360849  0.2138852\n",
      "   0.58512092  0.88074437  0.76708555  0.5170345 ]\n",
      " [ 0.68312024  0.          0.90579956  0.73839857  0.54338689  0.73833021\n",
      "   0.73931886  0.2291876   0.47895379  0.61538111  0.52979604  0.69338116\n",
      "   0.51623583  0.07048266  0.83444047  0.59047112  0.19951003  0.35101347\n",
      "   0.57021987  0.2736457   0.23761452  0.46702551  0.86507731  0.32437547\n",
      "   0.88301983  0.06047157  0.48605043  0.28009866  0.78130884  0.64801813\n",
      "   0.66812544  0.60409512  0.68760996  0.87496471  0.53804893  0.9063563\n",
      "   0.72306994  0.79359692  0.27077625  0.40289617  0.70687953  0.33262582\n",
      "   0.05519859  0.3108254   0.17838835  0.39095465  0.63693149  0.4816306\n",
      "   0.6401148   0.27610958  0.4308216   0.2378691   0.59737102  0.55857098\n",
      "   0.7180324   0.31005686  0.3476466   0.04085431  0.82738026  0.65790762\n",
      "   0.48069516  0.57521914  0.78197489  0.21217414  0.38135528  0.27206193\n",
      "   0.98344791  0.49141566  0.43545701  0.24205344  0.29950749  0.96016153\n",
      "   0.60180555  0.94985515  0.1924076   0.58431061  0.29804403  0.48401861\n",
      "   0.44813871  0.36176751  0.30277977  0.72632981  0.55323923  0.74115977\n",
      "   0.33678664  0.2320807   0.43580856  0.49531555  0.6113347   0.24106213\n",
      "   0.6307073   0.50250437  0.6648334   0.86881428  0.56234461  0.51760755\n",
      "   0.13768551  0.46329335  0.3599715   0.69683201]\n",
      " [ 0.3258008   0.90579956  0.          0.40209914  0.45008972  0.47716657\n",
      "   0.29626943  0.71216024  0.42778457  0.4384331   0.38177176  0.32543823\n",
      "   0.91041333  0.94912244  0.08116925  0.33350561  0.70724794  0.84172675\n",
      "   0.50715887  0.7469783   1.11152679  0.69510537  0.16061885  0.5820035\n",
      "   0.73716441  0.92744403  0.93100172  0.99230542  0.53501262  0.25789482\n",
      "   0.35721384  0.8484313   0.24759042  0.32207492  0.9105983   0.05499158\n",
      "   0.78120751  0.25235231  0.83672268  0.87906339  0.49333692  0.74920402\n",
      "   0.93425368  0.59891321  0.83953528  0.65641539  0.36529499  0.9162498\n",
      "   0.71286645  1.10474055  0.53075053  0.76261348  0.49199275  0.70262331\n",
      "   0.26885625  1.0811651   0.68085785  0.92566467  0.23708712  0.54017506\n",
      "   0.43367278  0.77421389  0.29435776  1.07758061  1.02484858  1.1112841\n",
      "   0.08129301  0.75961715  0.66694574  0.91940578  1.07741528  0.12381842\n",
      "   0.63442096  0.11335662  0.92864535  0.49953072  1.01802401  0.91737711\n",
      "   0.51166529  1.05054034  0.61360672  0.37582877  0.83715857  0.63929465\n",
      "   0.97724625  0.95040922  0.70499015  0.47081812  0.29701894  1.03140062\n",
      "   0.3207985   0.43674709  0.25947298  0.42353383  0.84920273  0.39158883\n",
      "   0.84053087  0.95213268  0.86330536  0.42111406]\n",
      " [ 0.11826511  0.73839857  0.40209914  0.          0.19971989  0.71072996\n",
      "   0.11090351  0.5095009   0.35401195  0.59584697  0.39673441  0.5348486\n",
      "   0.97037217  0.80132547  0.33101069  0.41705217  0.57614218  0.53481744\n",
      "   0.17691363  0.49350993  0.97436355  0.76322701  0.25314894  0.47934309\n",
      "   0.98798442  0.78234814  0.9733955   0.92964759  0.78198476  0.3157086\n",
      "   0.54854173  0.95934874  0.22059999  0.65008863  0.97992669  0.35887703\n",
      "   0.95698904  0.54089415  0.79782013  0.5524065   0.70784947  0.46426484\n",
      "   0.78444902  0.45424625  0.60556358  0.37190989  0.52990844  0.95995603\n",
      "   0.86458256  0.99722006  0.55002748  0.52306605  0.63971158  0.81687372\n",
      "   0.49294168  1.00237201  0.67918526  0.77174458  0.17404673  0.72299822\n",
      "   0.32033793  0.39645098  0.10942733  0.94574797  0.99807477  0.99781924\n",
      "   0.43526594  0.83431508  0.71801036  0.65096943  0.99487456  0.35548801\n",
      "   0.77812458  0.51146209  0.67973723  0.16299611  0.95587436  0.961878\n",
      "   0.53912925  1.00710632  0.44935414  0.61124114  0.46546746  0.84993887\n",
      "   0.94378634  0.87710587  0.75598578  0.52846887  0.35777451  0.93792938\n",
      "   0.19121995  0.47972407  0.40405718  0.73081494  0.47557546  0.31945894\n",
      "   0.62584571  0.97987059  0.86284049  0.63516989]\n",
      " [ 0.14784036  0.54338689  0.45008972  0.19971989  0.          0.60388718\n",
      "   0.20273144  0.31657937  0.18414011  0.46990518  0.25452652  0.44424246\n",
      "   0.78710284  0.60438531  0.368923    0.30118225  0.37643185  0.39399396\n",
      "   0.08905959  0.31784091  0.77757961  0.58932386  0.35151085  0.2831198\n",
      "   0.86947095  0.58493831  0.78641678  0.73040837  0.67472469  0.24355545\n",
      "   0.44639145  0.78932054  0.20304571  0.60146385  0.7985323   0.42707663\n",
      "   0.80834749  0.48842841  0.60148393  0.42905614  0.59249216  0.3058093\n",
      "   0.58757836  0.25470667  0.4249643   0.210291    0.41942616  0.77351843\n",
      "   0.71170505  0.79818348  0.37797404  0.34226206  0.50363319  0.65393362\n",
      "   0.42026242  0.80265339  0.49213886  0.57524036  0.29582291  0.59231397\n",
      "   0.14324427  0.34778822  0.24222033  0.74823706  0.80081652  0.79912292\n",
      "   0.51102048  0.65891558  0.5418594   0.48694583  0.79515834  0.45792311\n",
      "   0.62763651  0.53789785  0.50687232  0.09333375  0.75656505  0.7755577\n",
      "   0.37109041  0.80852519  0.24979011  0.51843839  0.40142762  0.72099265\n",
      "   0.74636693  0.67765465  0.5778348   0.3728748   0.25786283  0.73827901\n",
      "   0.12969566  0.32728668  0.32494831  0.66045879  0.41454241  0.16451749\n",
      "   0.43927296  0.79006494  0.67054381  0.52858648]\n",
      " [ 0.59269031  0.73833021  0.47716657  0.71072996  0.60388718  0.\n",
      "   0.61196186  0.65429223  0.43517564  0.14350304  0.35226316  0.1778136\n",
      "   0.49753823  0.74714915  0.47222534  0.30384154  0.56731424  0.87084169\n",
      "   0.69283812  0.73597998  0.86498114  0.32352195  0.58383202  0.48089978\n",
      "   0.27846798  0.72763016  0.5303836   0.68467752  0.07160306  0.39502187\n",
      "   0.16241857  0.4036224   0.49247788  0.20552423  0.48993482  0.52226911\n",
      "   0.30750635  0.22507234  0.53950135  0.92804313  0.03418771  0.77662836\n",
      "   0.73831104  0.53445407  0.77322632  0.71897101  0.18514725  0.51667022\n",
      "   0.25579497  0.82614391  0.32240495  0.72883166  0.14203107  0.27918907\n",
      "   0.22875721  0.77539456  0.39860519  0.73679639  0.6241577   0.0973697\n",
      "   0.47520726  0.93377273  0.64330398  0.83065306  0.67478997  0.83819301\n",
      "   0.5447042   0.36124142  0.32714673  0.87613696  0.77619896  0.59845551\n",
      "   0.20011247  0.42282655  0.85723796  0.69557235  0.70516714  0.51691702\n",
      "   0.31050477  0.7131089   0.56213478  0.10563025  0.97196199  0.16216526\n",
      "   0.64184903  0.66285069  0.34941242  0.27337407  0.35657068  0.74982601\n",
      "   0.52509053  0.29950314  0.30739293  0.14304324  0.98573452  0.44137449\n",
      "   0.74988008  0.56151653  0.51717859  0.07615433]\n",
      " [ 0.05623626  0.73931886  0.29626943  0.11090351  0.20273144  0.61196186\n",
      "   0.          0.51619972  0.30192231  0.50586008  0.32333925  0.43447856\n",
      "   0.91054951  0.79702076  0.22201737  0.3298262   0.55967339  0.58623467\n",
      "   0.22747369  0.52025962  0.96961414  0.69709901  0.16053965  0.4483437\n",
      "   0.89032146  0.7767472   0.91790052  0.90153337  0.68252828  0.22026595\n",
      "   0.45121854  0.88765035  0.12010621  0.54059519  0.91802817  0.25745665\n",
      "   0.8719667   0.43266944  0.76015211  0.61337618  0.61182837  0.50393279\n",
      "   0.78045265  0.43626966  0.62765133  0.40803511  0.43585025  0.90391058\n",
      "   0.78277303  0.98355065  0.48752628  0.54498903  0.55306895  0.74178976\n",
      "   0.38910508  0.98015985  0.62781784  0.76884425  0.09383238  0.632481\n",
      "   0.27783841  0.48327642  0.04480825  0.93887336  0.9610127   0.98598363\n",
      "   0.33805288  0.76840514  0.65460284  0.68789845  0.97365455  0.26837817\n",
      "   0.69613304  0.4031923   0.70936049  0.21681945  0.92806894  0.90566966\n",
      "   0.47394599  0.97480552  0.43832059  0.50998543  0.5490856   0.75712256\n",
      "   0.90765689  0.85110939  0.69371215  0.45538499  0.26845491  0.91905935\n",
      "   0.12213404  0.40687788  0.30476049  0.62360241  0.56041059  0.26176286\n",
      "   0.64101788  0.92814647  0.81619609  0.5374475 ]\n",
      " [ 0.46004126  0.2291876   0.71216024  0.5095009   0.31657937  0.65429223\n",
      "   0.51619972  0.          0.29017613  0.51379662  0.36216545  0.55947551\n",
      "   0.60749157  0.29433688  0.63568643  0.42929352  0.12568937  0.22936633\n",
      "   0.34138397  0.09343592  0.46628967  0.47243031  0.65122771  0.17394698\n",
      "   0.86044128  0.27675762  0.59102506  0.45819723  0.71232307  0.45754636\n",
      "   0.5420785   0.65740517  0.47816156  0.74486223  0.62539824  0.70477768\n",
      "   0.73610383  0.64703752  0.36958982  0.29048089  0.62856869  0.15424544\n",
      "   0.2774473   0.12634729  0.13061963  0.1730575   0.50887643  0.58161684\n",
      "   0.64022561  0.49655371  0.33377945  0.07550663  0.515775    0.56216407\n",
      "   0.56853611  0.51474625  0.34055494  0.26411517  0.60673019  0.59605896\n",
      "   0.27852757  0.39317414  0.55765976  0.43914968  0.54665233  0.49506715\n",
      "   0.78562208  0.52463516  0.42658383  0.22643788  0.50566314  0.75141733\n",
      "   0.57610961  0.77247173  0.22120342  0.35541192  0.48216369  0.58400123\n",
      "   0.34402719  0.54187761  0.10319349  0.61139575  0.39384977  0.70695033\n",
      "   0.49358352  0.40377308  0.44696331  0.38221426  0.43198642  0.44637721\n",
      "   0.41471704  0.36771171  0.49590943  0.76365457  0.40597002  0.32180669\n",
      "   0.12881023  0.58116817  0.45885502  0.59508136]\n",
      " [ 0.25250753  0.47895379  0.42778457  0.35401195  0.18414011  0.43517564\n",
      "   0.30192231  0.29017613  0.          0.29499965  0.08627489  0.29577408\n",
      "   0.61641968  0.52586633  0.35548793  0.15096624  0.28229767  0.46361246\n",
      "   0.27062557  0.34320967  0.69331782  0.41061883  0.3954503   0.15867451\n",
      "   0.69148327  0.50441597  0.62035521  0.6037526   0.50404652  0.17006254\n",
      "   0.2885093   0.60901211  0.21724001  0.47398457  0.62592688  0.4275614\n",
      "   0.62423749  0.36787203  0.45895742  0.51465424  0.41952721  0.36587087\n",
      "   0.51036328  0.1713938   0.42044519  0.29211907  0.25739385  0.60672636\n",
      "   0.5275763   0.69665384  0.1973204   0.35036468  0.3233387   0.47093582\n",
      "   0.29044901  0.68573299  0.32740395  0.50088913  0.37396075  0.41267462\n",
      "   0.04180733  0.49860019  0.34655202  0.66045653  0.65955179  0.70098045\n",
      "   0.50463716  0.48132633  0.36456338  0.51011271  0.68003793  0.48398392\n",
      "   0.44355929  0.48244195  0.51095645  0.27683246  0.63030535  0.60860224\n",
      "   0.18846958  0.67469476  0.18821095  0.36244068  0.53847012  0.54065603\n",
      "   0.6064958   0.55505293  0.40218186  0.18898167  0.14205242  0.62796261\n",
      "   0.17982808  0.14473139  0.20837907  0.51315727  0.55222579  0.04184146\n",
      "   0.41632704  0.62847401  0.51466914  0.36270505]\n",
      " [ 0.47800592  0.61538111  0.4384331   0.59584697  0.46990518  0.14350304\n",
      "   0.50586008  0.51379662  0.29499965  0.          0.21547513  0.11582929\n",
      "   0.47404993  0.63236038  0.40974684  0.17887916  0.43408098  0.7279047\n",
      "   0.55889359  0.59367434  0.76533184  0.26439153  0.50998218  0.33989243\n",
      "   0.39975186  0.61179358  0.49769008  0.60327944  0.2097322   0.28582535\n",
      "   0.08254541  0.41130624  0.38628996  0.26637361  0.47302098  0.47276741\n",
      "   0.36769222  0.21651081  0.44917707  0.78481228  0.12463366  0.63334109\n",
      "   0.62180002  0.39221565  0.63549942  0.57572124  0.07603646  0.48301334\n",
      "   0.28426304  0.73649061  0.18730987  0.58772017  0.05378894  0.26437698\n",
      "   0.17009264  0.69522588  0.29451413  0.61855167  0.53497977  0.1271628\n",
      "   0.33592102  0.79283369  0.54225768  0.73044851  0.61319205  0.74681094\n",
      "   0.51594817  0.32393537  0.24700051  0.73759097  0.6941891   0.54882774\n",
      "   0.20024037  0.41867868  0.72134032  0.56280455  0.62649584  0.48391968\n",
      "   0.17275841  0.64588457  0.41968815  0.11319813  0.82950539  0.25472252\n",
      "   0.57209627  0.57273432  0.28055605  0.13158807  0.23852365  0.65965386\n",
      "   0.40542284  0.15619168  0.20939425  0.25484579  0.84327471  0.30555984\n",
      "   0.61449983  0.52213893  0.44956677  0.08258104]\n",
      " [ 0.28347457  0.52979604  0.38177176  0.39673441  0.25452652  0.35226316\n",
      "   0.32333925  0.36216545  0.08627489  0.21547513  0.          0.20970149\n",
      "   0.58887916  0.56903569  0.3185207   0.06756667  0.33029859  0.54763846\n",
      "   0.3434583   0.42354056  0.72981295  0.37394122  0.38199628  0.20636483\n",
      "   0.61494447  0.54730759  0.59865869  0.6173934   0.42218696  0.13338247\n",
      "   0.20241377  0.56508812  0.21556239  0.38974196  0.59553105  0.39177218\n",
      "   0.56231514  0.28633466  0.46486998  0.59974109  0.33880204  0.45004351\n",
      "   0.55460797  0.2371401   0.49262046  0.37828307  0.17172306  0.58438058\n",
      "   0.46844631  0.72398362  0.16832665  0.42745836  0.25027633  0.42071632\n",
      "   0.20802496  0.70408801  0.31700787  0.54673513  0.37830479  0.33827286\n",
      "   0.12374782  0.58265515  0.36556026  0.69582151  0.66108205  0.73010811\n",
      "   0.46196973  0.44519375  0.33242092  0.58651296  0.69963579  0.45672976\n",
      "   0.38231331  0.42023601  0.58308153  0.34760181  0.64361322  0.58602234\n",
      "   0.15270059  0.68167678  0.25900904  0.27635661  0.62408853  0.46706156\n",
      "   0.61024806  0.57272165  0.37183126  0.13255501  0.08517001  0.65159351\n",
      "   0.20715036  0.08376623  0.13610127  0.42688291  0.63782949  0.09008642\n",
      "   0.48374424  0.61174326  0.50648422  0.27850992]\n",
      " [ 0.41732324  0.69338116  0.32543823  0.5348486   0.44424246  0.1778136\n",
      "   0.43447856  0.55947551  0.29577408  0.11582929  0.20970149  0.\n",
      "   0.58973517  0.71862493  0.30464121  0.1467758   0.50092891  0.75608198\n",
      "   0.53175787  0.62876515  0.86162324  0.37968069  0.41180145  0.38962221\n",
      "   0.45626458  0.69737817  0.61350195  0.70995458  0.24805267  0.21987597\n",
      "   0.03340152  0.52304252  0.3154167   0.1856664   0.58834989  0.36306793\n",
      "   0.46287491  0.10562291  0.55406105  0.80903514  0.18172418  0.65875423\n",
      "   0.70659654  0.43326519  0.68761857  0.58789315  0.05728252  0.59881942\n",
      "   0.38869925  0.83853537  0.26525783  0.62921575  0.16809507  0.37792788\n",
      "   0.05722314  0.80165361  0.39632857  0.7016807   0.44756797  0.21798704\n",
      "   0.33080283  0.78583023  0.46549039  0.82668934  0.72552707  0.84791848\n",
      "   0.40155615  0.43974998  0.35941263  0.78589438  0.79991004  0.43971524\n",
      "   0.30901898  0.30325031  0.77675683  0.53278564  0.73397467  0.59973447\n",
      "   0.24673969  0.7567219   0.45833534  0.07667262  0.8307798   0.33078631\n",
      "   0.68274183  0.67605427  0.39449565  0.19904241  0.18776385  0.76207593\n",
      "   0.35275146  0.19449381  0.13079967  0.21841584  0.84445866  0.29005424\n",
      "   0.67271595  0.63769553  0.56173769  0.10559328]\n",
      " [ 0.86601711  0.51623583  0.91041333  0.97037217  0.78710284  0.49753823\n",
      "   0.91054951  0.60749157  0.61641968  0.47404993  0.58887916  0.58973517\n",
      "   0.          0.47631508  0.87296939  0.60164347  0.48222144  0.8224064\n",
      "   0.86060389  0.69805434  0.49888374  0.21824928  0.96033216  0.51378555\n",
      "   0.47133124  0.46813424  0.0433757   0.2906509   0.49074715  0.71287647\n",
      "   0.55656974  0.12516035  0.80400217  0.70094307  0.02279671  0.94060566\n",
      "   0.28167892  0.68563916  0.24995242  0.88243535  0.46594551  0.76130535\n",
      "   0.4792165   0.56130155  0.6577561   0.76385763  0.54521814  0.03834045\n",
      "   0.25612718  0.42987094  0.42309636  0.66964721  0.4218931   0.21936733\n",
      "   0.64380109  0.35696114  0.29567398  0.48767029  0.96622229  0.40286525\n",
      "   0.65086538  0.9973657   0.95366579  0.47275956  0.22270973  0.44593055\n",
      "   0.98914049  0.15081636  0.25648046  0.74784543  0.36334898  1.01499007\n",
      "   0.29796603  0.8909521   0.70371116  0.870877    0.29640485  0.03644016\n",
      "   0.43675116  0.26860715  0.58193807  0.56297129  1.00131794  0.38862825\n",
      "   0.22187742  0.30846502  0.21705375  0.46082943  0.65922881  0.37026789\n",
      "   0.79037331  0.50723786  0.66245364  0.63518755  1.01334949  0.65262187\n",
      "   0.61656898  0.0811554   0.15720112  0.51462644]\n",
      " [ 0.74101808  0.07048266  0.94912244  0.80132547  0.60438531  0.74714915\n",
      "   0.79702076  0.29433688  0.52586633  0.63236038  0.56903569  0.71862493\n",
      "   0.47631508  0.          0.88026483  0.62632336  0.24362326  0.41962661\n",
      "   0.63564005  0.34374559  0.17319435  0.45663755  0.91729417  0.36795109\n",
      "   0.87053325  0.02173333  0.44265639  0.21926082  0.78467787  0.69250644\n",
      "   0.69139847  0.57366455  0.73888161  0.89631092  0.49874455  0.95289285\n",
      "   0.70235265  0.82134917  0.24265945  0.46993801  0.71455458  0.40308383\n",
      "   0.01690724  0.36303713  0.248243    0.45971125  0.66149616  0.43997802\n",
      "   0.62522213  0.20587416  0.45344342  0.30793457  0.60876843  0.54500771\n",
      "   0.74782972  0.24082127  0.34929451  0.03061013  0.88329821  0.66163301\n",
      "   0.53179114  0.64553263  0.84031763  0.14483621  0.32165205  0.20239202\n",
      "   1.02801733  0.47101239  0.43128404  0.3042451   0.23007724  1.00957137\n",
      "   0.59594944  0.98671281  0.25229305  0.64962511  0.2345294   0.44229093\n",
      "   0.47188946  0.29801901  0.35871179  0.74500445  0.62256094  0.73454803\n",
      "   0.28130067  0.17651762  0.42522581  0.51959505  0.65259516  0.17243146\n",
      "   0.68525739  0.53283919  0.70179772  0.88220145  0.63143073  0.56592313\n",
      "   0.20805553  0.41644749  0.32414838  0.71196697]\n",
      " [ 0.24682575  0.83444047  0.08116925  0.33101069  0.368923    0.47222534\n",
      "   0.22201737  0.63568643  0.35548793  0.40974684  0.3185207   0.30464121\n",
      "   0.87296939  0.88026483  0.          0.27900149  0.63717674  0.76082424\n",
      "   0.42688183  0.66768011  1.04522542  0.65529027  0.11556626  0.51232376\n",
      "   0.74340979  0.85868464  0.89047917  0.93495973  0.53609188  0.18814211\n",
      "   0.33310747  0.82057373  0.16658282  0.34740061  0.87500462  0.07328287\n",
      "   0.76746707  0.25605878  0.78091387  0.79791299  0.48312902  0.66865481\n",
      "   0.86503368  0.52539342  0.76197545  0.57555695  0.33395763  0.87577049\n",
      "   0.69189743  1.0421589   0.47659998  0.68417152  0.46337784  0.67272875\n",
      "   0.24787296  1.02234712  0.62791311  0.85591202  0.17817523  0.52258345\n",
      "   0.35787225  0.69497499  0.22691117  1.01168059  0.9733983   1.04797044\n",
      "   0.14999776  0.72254818  0.62308231  0.8401781   1.01803099  0.14245638\n",
      "   0.60966163  0.18126367  0.85060472  0.41959727  0.96102486  0.87706349\n",
      "   0.45814664  0.99671375  0.53867868  0.36705282  0.75722977  0.63208289\n",
      "   0.92419301  0.89105397  0.66205824  0.42098548  0.2335509   0.9700787\n",
      "   0.23969241  0.38219164  0.21094357  0.44298875  0.76939241  0.31747395\n",
      "   0.76436621  0.90917936  0.8141273   0.40776393]\n",
      " [ 0.2994089   0.59047112  0.33350561  0.41705217  0.30118225  0.30384154\n",
      "   0.3298262   0.42929352  0.15096624  0.17887916  0.06756667  0.1467758\n",
      "   0.60164347  0.62632336  0.27900149  0.          0.39154004  0.61423258\n",
      "   0.38979155  0.491016    0.78312376  0.38351981  0.35872885  0.26971956\n",
      "   0.57545781  0.6046067   0.61598715  0.65886939  0.37519016  0.11365713\n",
      "   0.14531162  0.56376524  0.21213014  0.32309205  0.60583014  0.35092602\n",
      "   0.54232606  0.21877345  0.50358828  0.66561637  0.29536095  0.51653931\n",
      "   0.61244995  0.30379475  0.5596081   0.4424459   0.11872143  0.60139039\n",
      "   0.45311492  0.77252692  0.19802268  0.49500257  0.22358782  0.4160208\n",
      "   0.14051655  0.74766869  0.34913013  0.60530524  0.36912764  0.30598088\n",
      "   0.18427874  0.63955154  0.36833864  0.74872891  0.69448841  0.77959227\n",
      "   0.41472238  0.45325127  0.34746253  0.65397933  0.7439728   0.42088701\n",
      "   0.36654146  0.3603922   0.64997972  0.39204412  0.68465237  0.60282465\n",
      "   0.17931909  0.71845317  0.32622074  0.21813341  0.68400768  0.43342258\n",
      "   0.64562362  0.6169983   0.38691848  0.14285848  0.06153769  0.69856115\n",
      "   0.22655895  0.10359255  0.07593508  0.36518577  0.69768904  0.14337091\n",
      "   0.54980296  0.63273392  0.53522195  0.22800477]\n",
      " [ 0.50433954  0.19951003  0.70724794  0.57614218  0.37643185  0.56731424\n",
      "   0.55967339  0.12568937  0.28229767  0.43408098  0.33029859  0.50092891\n",
      "   0.48222144  0.24362326  0.63717674  0.39154004  0.          0.35023576\n",
      "   0.42432349  0.21811624  0.41280294  0.35196726  0.67438221  0.12525304\n",
      "   0.75150138  0.2222487   0.46688949  0.35713485  0.6190361   0.44984973\n",
      "   0.47792894  0.53263898  0.49576652  0.68513022  0.49990448  0.70961146\n",
      "   0.61733487  0.59841459  0.24907007  0.41152964  0.53851441  0.27993061\n",
      "   0.22806565  0.12357831  0.21152857  0.28687577  0.44569804  0.45708621\n",
      "   0.52328095  0.42404676  0.24682457  0.19371434  0.42550513  0.44348713\n",
      "   0.5217214   0.42631346  0.21910533  0.21873532  0.64324362  0.4982347\n",
      "   0.2890519   0.51614667  0.60377082  0.38082415  0.43668553  0.4263104\n",
      "   0.78550757  0.40082008  0.30806236  0.31514582  0.41873662  0.76595606\n",
      "   0.465052    0.75043082  0.29075439  0.4373187   0.38277866  0.45945349\n",
      "   0.26174212  0.43812294  0.12726084  0.54088772  0.51937459  0.60030224\n",
      "   0.38241953  0.30335686  0.32503967  0.30677652  0.41199956  0.36196652\n",
      "   0.44449483  0.30732271  0.46552356  0.68882239  0.53157306  0.32230933\n",
      "   0.18333494  0.4587299   0.33564434  0.51665416]\n",
      " [ 0.53613791  0.35101347  0.84172675  0.53481744  0.39399396  0.87084169\n",
      "   0.58623467  0.22936633  0.46361246  0.7279047   0.54763846  0.75608198\n",
      "   0.8224064   0.41962661  0.76082424  0.61423258  0.35023576  0.\n",
      "   0.36229518  0.1377121   0.56286508  0.70107826  0.74281102  0.39298567\n",
      "   1.0880496   0.41143561  0.80111991  0.62771135  0.93238824  0.60883341\n",
      "   0.74397309  0.88204557  0.59424883  0.93727807  0.84174388  0.82093891\n",
      "   0.96532398  0.83129358  0.57535588  0.06131751  0.84742526  0.09775111\n",
      "   0.40576601  0.33711691  0.17425459  0.1853467   0.71114919  0.79328918\n",
      "   0.86958697  0.61897474  0.55642074  0.15655804  0.73623646  0.79133884\n",
      "   0.7540605   0.66044704  0.56862808  0.39164915  0.67957191  0.81964444\n",
      "   0.43572211  0.23821547  0.61814017  0.54683338  0.72637136  0.61182752\n",
      "   0.90485754  0.75099592  0.65569231  0.13982687  0.64969109  0.85031015\n",
      "   0.80483535  0.92197165  0.1882717   0.37499239  0.6474499   0.79571591\n",
      "   0.56431292  0.71092624  0.30914871  0.81647885  0.2039383   0.93400269\n",
      "   0.67764229  0.57639883  0.67491651  0.59760036  0.59937606  0.59182586\n",
      "   0.52140696  0.57453204  0.66902852  0.96941792  0.21212732  0.48141402\n",
      "   0.21708863  0.7861576   0.66810336  0.80657733]\n",
      " [ 0.18334374  0.57021987  0.50715887  0.17691363  0.08905959  0.69283812\n",
      "   0.22747369  0.34138397  0.27062557  0.55889359  0.3434583   0.53175787\n",
      "   0.86060389  0.63564005  0.42688183  0.38979155  0.42432349  0.36229518\n",
      "   0.          0.31733653  0.80761731  0.66900645  0.38741509  0.34874698\n",
      "   0.95837184  0.61769144  0.85716596  0.78145777  0.76373171  0.32521737\n",
      "   0.53483021  0.86957225  0.26794133  0.68450622  0.87318857  0.47677696\n",
      "   0.89433667  0.57119398  0.6620971   0.3862952   0.68155171  0.28766936\n",
      "   0.61873924  0.31003602  0.4298393   0.19503654  0.50822318  0.84476791\n",
      "   0.79715589  0.83614723  0.46032422  0.34785816  0.59205616  0.7371521\n",
      "   0.50547086  0.84798971  0.56493893  0.6054834   0.31925021  0.68091471\n",
      "   0.22901333  0.27071242  0.25636314  0.78047491  0.85821639  0.83544532\n",
      "   0.55988415  0.73749598  0.62087033  0.47437221  0.83972192  0.49547735\n",
      "   0.71383883  0.60315675  0.50285646  0.01425192  0.80705719  0.84689016\n",
      "   0.45487276  0.86210785  0.29811657  0.60647784  0.33059098  0.80950742\n",
      "   0.80365995  0.72760745  0.65558541  0.45957912  0.34448924  0.78138931\n",
      "   0.19856926  0.41486082  0.40985534  0.74684914  0.34296385  0.25338992\n",
      "   0.45204155  0.8582572   0.73671792  0.6174428 ]\n",
      " [ 0.46568127  0.2736457   0.7469783   0.49350993  0.31784091  0.73597998\n",
      "   0.52025962  0.09343592  0.34320967  0.59367434  0.42354056  0.62876515\n",
      "   0.69805434  0.34374559  0.66768011  0.491016    0.21811624  0.1377121\n",
      "   0.31733653  0.          0.50772534  0.56575041  0.66733923  0.25622294\n",
      "   0.95034239  0.32991739  0.67999095  0.53072517  0.79640562  0.50086346\n",
      "   0.61442759  0.75054549  0.50360898  0.81238484  0.71642202  0.73304358\n",
      "   0.82903774  0.70970343  0.45622069  0.1982335   0.71176199  0.0646505\n",
      "   0.32760221  0.20153122  0.11284057  0.12410142  0.58132974  0.6710925\n",
      "   0.73282536  0.54961868  0.4193635   0.03582127  0.59996356  0.65517955\n",
      "   0.63153227  0.57790524  0.43398411  0.31329985  0.61362319  0.68258808\n",
      "   0.321583    0.31085552  0.55815279  0.48482308  0.62405516  0.54569419\n",
      "   0.8159753   0.61799704  0.51969431  0.1725026   0.56801268  0.77192206\n",
      "   0.66724956  0.81754684  0.18910477  0.33152821  0.55316855  0.67349538\n",
      "   0.42783312  0.61495084  0.1739945   0.68586589  0.30428552  0.79632735\n",
      "   0.57237853  0.47700828  0.54039123  0.46262354  0.48375821  0.50853958\n",
      "   0.43412634  0.44236257  0.55150755  0.83884474  0.31589577  0.36737429\n",
      "   0.14067989  0.66833979  0.54718459  0.67344862]\n",
      " [ 0.91370227  0.23761452  1.11152679  0.97436355  0.77757961  0.86498114\n",
      "   0.96961414  0.46628967  0.69331782  0.76533184  0.72981295  0.86162324\n",
      "   0.49888374  0.17319435  1.04522542  0.78312376  0.41280294  0.56286508\n",
      "   0.80761731  0.50772534  0.          0.55072165  1.08708616  0.53465081\n",
      "   0.94487282  0.19294805  0.45761329  0.20877087  0.89228847  0.85708361\n",
      "   0.83213922  0.61592253  0.90840607  1.03170531  0.52136556  1.1182656\n",
      "   0.76281073  0.96648702  0.32662664  0.60509994  0.83114882  0.56299604\n",
      "   0.19001418  0.53444019  0.40279926  0.62764205  0.80443     0.46058081\n",
      "   0.70161577  0.0813023   0.59848047  0.47237285  0.73392589  0.62779663\n",
      "   0.89634947  0.15690926  0.47132823  0.20262423  1.05515666  0.77277103\n",
      "   0.7018547   0.79764688  1.01307718  0.03494291  0.28968734  0.06599965\n",
      "   1.1913829   0.54364173  0.53826542  0.43114698  0.14678589  1.17720375\n",
      "   0.6917786   1.14202415  0.37815806  0.82167353  0.20335467  0.46244365\n",
      "   0.61774955  0.24806134  0.53134655  0.87839552  0.76632822  0.82443189\n",
      "   0.27706429  0.20764101  0.52106323  0.66489022  0.81453187  0.12921501\n",
      "   0.85671515  0.68495834  0.85905417  1.00537484  0.773632    0.73410914\n",
      "   0.36756064  0.42285023  0.37537977  0.84059804]\n",
      " [ 0.65489575  0.46702551  0.69510537  0.76322701  0.58932386  0.32352195\n",
      "   0.69709901  0.47243031  0.41061883  0.26439153  0.37394122  0.37968069\n",
      "   0.21824928  0.45663755  0.65529027  0.38351981  0.35196726  0.70107826\n",
      "   0.66900645  0.56575041  0.55072165  0.          0.74213951  0.33721938\n",
      "   0.41600943  0.44014001  0.23591241  0.36203394  0.34250062  0.49524572\n",
      "   0.34628091  0.20062871  0.58785434  0.51339229  0.22255639  0.72360336\n",
      "   0.26570281  0.48046092  0.22491551  0.76237574  0.28938007  0.62340012\n",
      "   0.45167925  0.39239319  0.5584452   0.60372174  0.33133338  0.22116109\n",
      "   0.17475346  0.50559221  0.21339046  0.54468681  0.21597474  0.09307734\n",
      "   0.43137354  0.45217402  0.13289296  0.45399102  0.74946215  0.22711866\n",
      "   0.44817194  0.84021027  0.73950108  0.51739309  0.35415212  0.51841907\n",
      "   0.77467516  0.07134294  0.04886622  0.6597902   0.45330597  0.7975106\n",
      "   0.1415057   0.6829059   0.62637531  0.6778538   0.38190055  0.2223192\n",
      "   0.2243254   0.39064993  0.41767466  0.36499653  0.85615238  0.27830806\n",
      "   0.31862955  0.34443246  0.03143514  0.24367671  0.44159678  0.43021778\n",
      "   0.57865416  0.29106334  0.44453321  0.46654984  0.86916951  0.44377468\n",
      "   0.52360414  0.25817496  0.19384917  0.3190059 ]\n",
      " [ 0.20673711  0.86507731  0.16061885  0.25314894  0.35151085  0.58383202\n",
      "   0.16053965  0.65122771  0.3954503   0.50998218  0.38199628  0.41180145\n",
      "   0.96033216  0.91729417  0.11556626  0.35872885  0.67438221  0.74281102\n",
      "   0.38741509  0.66733923  1.08708616  0.74213951  0.          0.55347617\n",
      "   0.85725357  0.8961945   0.97445103  0.99546604  0.64918769  0.24996651\n",
      "   0.4378608   0.91699611  0.17871463  0.46241057  0.96420542  0.10986554\n",
      "   0.8736058   0.37112503  0.84546042  0.77230126  0.59267192  0.65712566\n",
      "   0.90127693  0.55477411  0.7703819   0.56132932  0.43407166  0.95989332\n",
      "   0.79414705  1.09210391  0.54892532  0.68899804  0.56272706  0.76858784\n",
      "   0.35641548  1.07960529  0.69891447  0.89083369  0.08000184  0.62821154\n",
      "   0.38550781  0.64236492  0.14386469  1.05471834  1.04291005  1.09637215\n",
      "   0.18215371  0.81148276  0.70591404  0.83797495  1.0742951   0.10807967\n",
      "   0.70999446  0.27397543  0.85544018  0.37713222  1.02191199  0.96135909\n",
      "   0.53188022  1.06248538  0.5626964   0.4782419   0.70895131  0.74195252\n",
      "   0.99169296  0.94840684  0.74544323  0.50073596  0.3029097   1.02306519\n",
      "   0.23651549  0.45689478  0.30235372  0.55854504  0.72007724  0.35392068\n",
      "   0.77914581  0.99025651  0.88813607  0.51669522]\n",
      " [ 0.39468966  0.32437547  0.5820035   0.47934309  0.2831198   0.48089978\n",
      "   0.4483437   0.17394698  0.15867451  0.33989243  0.20636483  0.38962221\n",
      "   0.51378555  0.36795109  0.51232376  0.26971956  0.12525304  0.39298567\n",
      "   0.34874698  0.25622294  0.53465081  0.33721938  0.55347617  0.\n",
      "   0.6973804   0.34639204  0.5086988   0.45361684  0.54031166  0.32472861\n",
      "   0.37025487  0.53538179  0.37484415  0.57527039  0.52751792  0.58494938\n",
      "   0.58926554  0.48220436  0.31863626  0.45210434  0.45590853  0.30288385\n",
      "   0.35272191  0.05781386  0.29869882  0.26803918  0.33716883  0.49650178\n",
      "   0.49105272  0.5391842   0.16350337  0.24796951  0.34378937  0.4186493\n",
      "   0.4043025   0.53197746  0.21942084  0.34377969  0.52737413  0.42667102\n",
      "   0.17135579  0.50380975  0.49305021  0.5017905   0.51873541  0.54305502\n",
      "   0.66037459  0.40055296  0.28845597  0.39903898  0.52566901  0.64258622\n",
      "   0.41865323  0.62651134  0.3872537   0.35985023  0.48010791  0.49865727\n",
      "   0.17163186  0.52880715  0.08558844  0.43831161  0.5239996   0.54284198\n",
      "   0.46447856  0.40279193  0.31815711  0.20830451  0.28696572  0.47201221\n",
      "   0.32909468  0.19572141  0.34229061  0.59014138  0.53736016  0.19969741\n",
      "   0.28327396  0.50956155  0.38851096  0.42114289]\n",
      " [ 0.86976264  0.88301983  0.73716441  0.98798442  0.86947095  0.27846798\n",
      "   0.89032146  0.86044128  0.69148327  0.39975186  0.61494447  0.45626458\n",
      "   0.47133124  0.87053325  0.74340979  0.57545781  0.75150138  1.0880496\n",
      "   0.95837184  0.95034239  0.94487282  0.41600943  0.85725357  0.6973804\n",
      "   0.          0.85490655  0.51420476  0.73985413  0.20904541  0.6724797\n",
      "   0.43962385  0.34641888  0.77066798  0.42396874  0.45308843  0.78651812\n",
      "   0.1897123   0.48840952  0.63125457  1.14818962  0.28049722  1.00019359\n",
      "   0.86652255  0.75490192  0.96281615  0.95734498  0.45873036  0.50529851\n",
      "   0.24574198  0.88622973  0.53497306  0.93572046  0.36851969  0.32557046\n",
      "   0.50586869  0.8191964   0.54091567  0.86943166  0.90130772  0.27913442\n",
      "   0.73306397  1.1840643   0.92174258  0.91402463  0.69116234  0.90121769\n",
      "   0.79569883  0.40315574  0.45011544  1.06608448  0.82381352  0.86079992\n",
      "   0.28659073  0.66273208  1.03680335  0.96248898  0.75255665  0.50424031\n",
      "   0.5305965   0.7363232   0.78289632  0.38246617  1.21476819  0.15464296\n",
      "   0.67860348  0.73841965  0.4472922   0.50865451  0.63156206  0.81711222\n",
      "   0.80043915  0.54755178  0.58561035  0.3216355   1.22842894  0.70498563\n",
      "   0.93140981  0.55189534  0.56949529  0.35306721]\n",
      " [ 0.72080093  0.06047157  0.92744403  0.78234814  0.58493831  0.72763016\n",
      "   0.7767472   0.27675762  0.50441597  0.61179358  0.54730759  0.69737817\n",
      "   0.46813424  0.02173333  0.85868464  0.6046067   0.2222487   0.41143561\n",
      "   0.61769144  0.32991739  0.19294805  0.44014001  0.8961945   0.34639204\n",
      "   0.85490655  0.          0.43573321  0.22067544  0.76598882  0.67088955\n",
      "   0.67028813  0.56246317  0.71772047  0.87541959  0.49037487  0.9313414\n",
      "   0.68857299  0.7999638   0.22981306  0.46331879  0.69517732  0.39039834\n",
      "   0.01167854  0.34220747  0.23842504  0.4439841   0.64027943  0.432379\n",
      "   0.60995384  0.22078518  0.43225966  0.29411092  0.58882428  0.5293411\n",
      "   0.72632057  0.25022619  0.3303505   0.02103929  0.86269307  0.64280924\n",
      "   0.51068799  0.63433259  0.8201558   0.16340132  0.32249728  0.218476\n",
      "   1.00637411  0.45686099  0.4135171   0.30091932  0.23983115  0.98819975\n",
      "   0.57873879  0.9649975   0.2500887   0.63162098  0.2379324   0.4347245\n",
      "   0.45063905  0.30166245  0.33843952  0.72431858  0.61341825  0.71760638\n",
      "   0.27959731  0.17446507  0.40870541  0.49833709  0.63088835  0.18101702\n",
      "   0.66450602  0.5112575   0.68007191  0.86214667  0.62261852  0.54455624\n",
      "   0.1970758   0.41088665  0.31415816  0.69163986]\n",
      " [ 0.87176796  0.48605043  0.93100172  0.9733955   0.78641678  0.5303836\n",
      "   0.91790052  0.59102506  0.62035521  0.49769008  0.59865869  0.61350195\n",
      "   0.0433757   0.44265639  0.89047917  0.61598715  0.46688949  0.80111991\n",
      "   0.85716596  0.67999095  0.45761329  0.23591241  0.97445103  0.5086988\n",
      "   0.51420476  0.43573321  0.          0.25015174  0.52722103  0.7255506\n",
      "   0.58015428  0.16835794  0.81422014  0.732133    0.06453653  0.9592676\n",
      "   0.32465419  0.71168517  0.22584041  0.86052967  0.49808933  0.74388155\n",
      "   0.44656248  0.55341745  0.63377026  0.7516042   0.56677174  0.01475193\n",
      "   0.29488542  0.3875171   0.43100901  0.65036524  0.44672256  0.25119519\n",
      "   0.66638116  0.31407104  0.29460264  0.45572255  0.97691618  0.43447206\n",
      "   0.65310749  0.98303405  0.96152842  0.43222026  0.17936906  0.40366597\n",
      "   1.01046912  0.17441634  0.26854832  0.72111409  0.32065531  1.03284046\n",
      "   0.33027159  0.91606666  0.67561021  0.86792055  0.25460555  0.01379376\n",
      "   0.44595927  0.22528745  0.57256715  0.59102169  0.98410001  0.42782914\n",
      "   0.18062076  0.27145139  0.22906988  0.4737348   0.67204847  0.32950241\n",
      "   0.79678143  0.51868219  0.67955073  0.66971482  0.99585526  0.65789493\n",
      "   0.59194385  0.03781723  0.13308965  0.54308492]\n",
      " [ 0.84825768  0.28009866  0.99230542  0.92964759  0.73040837  0.68467752\n",
      "   0.90153337  0.45819723  0.6037526   0.60327944  0.6173934   0.70995458\n",
      "   0.2906509   0.21926082  0.93495973  0.65886939  0.35713485  0.62771135\n",
      "   0.78145777  0.53072517  0.20877087  0.36203394  0.99546604  0.45361684\n",
      "   0.73985413  0.22067544  0.25015174  0.          0.70353912  0.75052741\n",
      "   0.67807885  0.40725232  0.81961966  0.86622137  0.31326697  1.00793382\n",
      "   0.55561836  0.81543026  0.15664142  0.68176324  0.65049018  0.59449333\n",
      "   0.22893512  0.47579242  0.45345928  0.63122093  0.65442083  0.25231068\n",
      "   0.49936633  0.14684031  0.46191225  0.49606158  0.5641267   0.42970353\n",
      "   0.75242276  0.09195011  0.31497757  0.24163642  0.97764791  0.58897165\n",
      "   0.62375546  0.84116916  0.94630794  0.1821356   0.10242979  0.16145126\n",
      "   1.07356078  0.34313559  0.36042622  0.52159391  0.09162306  1.07412017\n",
      "   0.49928137  1.00551554  0.47058088  0.79444132  0.02656007  0.25423998\n",
      "   0.48120257  0.08422638  0.48387474  0.71359688  0.82662817  0.62628046\n",
      "   0.07024732  0.05446908  0.33526519  0.52455298  0.70167674  0.07969031\n",
      "   0.78109377  0.55557093  0.73312452  0.8274213   0.83659296  0.64552037\n",
      "   0.4107113   0.21685976  0.1732904   0.67134189]\n",
      " [ 0.66402159  0.78130884  0.53501262  0.78198476  0.67472469  0.07160306\n",
      "   0.68252828  0.71232307  0.50404652  0.2097322   0.42218696  0.24805267\n",
      "   0.49074715  0.78467787  0.53609188  0.37519016  0.6190361   0.93238824\n",
      "   0.76373171  0.79640562  0.89228847  0.34250062  0.64918769  0.54031166\n",
      "   0.20904541  0.76598882  0.52722103  0.70353912  0.          0.46630705\n",
      "   0.2339417   0.38486326  0.56330393  0.23899638  0.48011003  0.58239738\n",
      "   0.26674179  0.28331745  0.56568365  0.99039986  0.08558796  0.83934361\n",
      "   0.77701406  0.59530273  0.82781856  0.78482231  0.25657237  0.51437977\n",
      "   0.23692764  0.84797346  0.37859835  0.78743377  0.19659919  0.28048778\n",
      "   0.2968306   0.79244678  0.43570148  0.77663623  0.69227156  0.1234247\n",
      "   0.54451254  1.0023699   0.71319266  0.85856156  0.68328015  0.86090029\n",
      "   0.59855014  0.36725079  0.35576602  0.93129082  0.79425479  0.657796\n",
      "   0.20499702  0.47093248  0.90978176  0.76664562  0.72226711  0.5142891\n",
      "   0.36872049  0.72397721  0.62324079  0.17347985  1.0391802   0.1167604\n",
      "   0.65515927  0.68679753  0.3713979   0.33547754  0.42817353  0.77271809\n",
      "   0.59666813  0.36559705  0.37829816  0.15040817  1.05294774  0.51169383\n",
      "   0.80233742  0.56089991  0.5320389   0.14775345]\n",
      " [ 0.19772973  0.64801813  0.25789482  0.3157086   0.24355545  0.39502187\n",
      "   0.22026595  0.45754636  0.17006254  0.28582535  0.13338247  0.21987597\n",
      "   0.71287647  0.69250644  0.18814211  0.11365713  0.44984973  0.60883341\n",
      "   0.32521737  0.50086346  0.85708361  0.49524572  0.24996651  0.32472861\n",
      "   0.6724797   0.67088955  0.7255506   0.75052741  0.46630705  0.\n",
      "   0.23289129  0.67740289  0.10046506  0.3593016   0.71779241  0.2612452\n",
      "   0.65278402  0.24598138  0.59825243  0.65345266  0.39276144  0.51246513\n",
      "   0.67740004  0.34141574  0.58668245  0.42599963  0.21576832  0.71106577\n",
      "   0.5653528   0.85468332  0.29900412  0.51273199  0.33406619  0.52967454\n",
      "   0.18340374  0.83674492  0.44937266  0.66850297  0.25552588  0.41224678\n",
      "   0.18023694  0.59131009  0.2565973   0.82354566  0.79412847  0.86026013\n",
      "   0.33565854  0.56553606  0.45726699  0.6717497   0.83209021  0.3238362\n",
      "   0.4789924   0.31678399  0.67672506  0.32378123  0.77679291  0.71258755\n",
      "   0.28191652  0.81504388  0.35718283  0.29652536  0.64418863  0.53702762\n",
      "   0.7435117   0.70532915  0.49686278  0.25211332  0.05365396  0.78316803\n",
      "   0.13436363  0.20715209  0.08952975  0.42584581  0.65744755  0.13576563\n",
      "   0.58504477  0.74062406  0.63831849  0.31951262]\n",
      " [ 0.43041301  0.66812544  0.35721384  0.54854173  0.44639145  0.16241857\n",
      "   0.45121854  0.5420785   0.2885093   0.08254541  0.20241377  0.03340152\n",
      "   0.55656974  0.69139847  0.33310747  0.14531162  0.47792894  0.74397309\n",
      "   0.53483021  0.61442759  0.83213922  0.34628091  0.4378608   0.37025487\n",
      "   0.43962385  0.67028813  0.58015428  0.67807885  0.2339417   0.23289129\n",
      "   0.          0.49130151  0.33129329  0.20727667  0.55536832  0.39347299\n",
      "   0.43574964  0.13745161  0.5224685   0.79813152  0.16072537  0.64714765\n",
      "   0.67970769  0.41643882  0.66892226  0.57972285  0.03321082  0.56546732\n",
      "   0.35889449  0.80771888  0.23813011  0.61316365  0.13523796  0.34554532\n",
      "   0.08835852  0.76986229  0.36514758  0.67518749  0.4698562   0.19035441\n",
      "   0.32575723  0.78374131  0.48416768  0.79719656  0.69254591  0.81731751\n",
      "   0.43399971  0.40647743  0.32632249  0.76841041  0.76826947  0.4699502\n",
      "   0.27788035  0.33664087  0.75738148  0.53673973  0.70194055  0.56638964\n",
      "   0.22017365  0.72402151  0.44229774  0.07394309  0.82639426  0.30804032\n",
      "   0.65006288  0.64487494  0.36121489  0.17281202  0.19458693  0.73114006\n",
      "   0.36276609  0.17459135  0.14663022  0.22572337  0.84012594  0.28753367\n",
      "   0.65240154  0.60429537  0.52875639  0.08662832]\n",
      " [ 0.8483785   0.60409512  0.8484313   0.95934874  0.78932054  0.4036224\n",
      "   0.88765035  0.65740517  0.60901211  0.41130624  0.56508812  0.52304252\n",
      "   0.12516035  0.57366455  0.82057373  0.56376524  0.53263898  0.88204557\n",
      "   0.86957225  0.75054549  0.61592253  0.20062871  0.91699611  0.53538179\n",
      "   0.34641888  0.56246317  0.16835794  0.40725232  0.38486326  0.67740289\n",
      "   0.49130151  0.          0.77419501  0.60913311  0.1067445   0.88404314\n",
      "   0.15670657  0.60996185  0.33359446  0.94316306  0.37516852  0.81104991\n",
      "   0.57398751  0.58902462  0.72695872  0.79920865  0.48670405  0.16059311\n",
      "   0.14880074  0.55034636  0.41189926  0.72594747  0.35752267  0.14841108\n",
      "   0.57962047  0.47933265  0.32026368  0.58051398  0.93288929  0.31606176\n",
      "   0.64745521  1.03570833  0.92875662  0.58789181  0.34707117  0.56608306\n",
      "   0.92423263  0.13502142  0.24912042  0.82329922  0.48507789  0.96013268\n",
      "   0.21473971  0.8156461   0.78338881  0.87832478  0.41603205  0.15928718\n",
      "   0.42091661  0.39278557  0.61315521  0.48327585  1.04778677  0.27507769\n",
      "   0.34105896  0.41694982  0.21722714  0.43255863  0.62447627  0.48670821\n",
      "   0.77197792  0.48132276  0.61471204  0.53372994  1.06049583  0.64036415\n",
      "   0.6881527   0.20617062  0.25045147  0.43479704]\n",
      " [ 0.10627666  0.68760996  0.24759042  0.22059999  0.20304571  0.49247788\n",
      "   0.12010621  0.47816156  0.21724001  0.38628996  0.21556239  0.3154167\n",
      "   0.80400217  0.73888161  0.16658282  0.21213014  0.49576652  0.59424883\n",
      "   0.26794133  0.50360898  0.90840607  0.58785434  0.17871463  0.37484415\n",
      "   0.77066798  0.71772047  0.81422014  0.81961966  0.56330393  0.10046506\n",
      "   0.33129329  0.77419501  0.          0.43419379  0.81011083  0.22943898\n",
      "   0.75310676  0.32284807  0.67178977  0.63164094  0.49181599  0.50239509\n",
      "   0.7229388   0.37688783  0.60135679  0.40900617  0.31577513  0.79993555\n",
      "   0.66507464  0.91373045  0.38363968  0.5218656   0.43428137  0.62714686\n",
      "   0.27234358  0.90260922  0.53012804  0.71265403  0.16281272  0.51265799\n",
      "   0.20718286  0.53859201  0.15636244  0.87600718  0.87096623  0.91784482\n",
      "   0.31260794  0.65880058  0.54754093  0.67600096  0.89705602  0.27357221\n",
      "   0.57857177  0.336212    0.6887488   0.26267545  0.84613549  0.80157186\n",
      "   0.36826299  0.88857754  0.38610509  0.39142695  0.5978429   0.63703228\n",
      "   0.81885891  0.77167482  0.58704757  0.34430282  0.1506178   0.84519776\n",
      "   0.0733771   0.29690502  0.18508786  0.51111313  0.61044098  0.17552455\n",
      "   0.60685019  0.82706288  0.71983466  0.41765691]\n",
      " [ 0.54033761  0.87496471  0.32207492  0.65008863  0.60146385  0.20552423\n",
      "   0.54059519  0.74486223  0.47398457  0.26637361  0.38974196  0.1856664\n",
      "   0.70094307  0.89631092  0.34740061  0.32309205  0.68513022  0.93727807\n",
      "   0.68450622  0.81238484  1.03170531  0.51339229  0.46241057  0.57527039\n",
      "   0.42396874  0.87541959  0.732133    0.86622137  0.23899638  0.3593016\n",
      "   0.20727667  0.60913311  0.43419379  0.          0.6942872   0.37502383\n",
      "   0.5047498   0.11332634  0.7139392   0.98860145  0.23535599  0.83960899\n",
      "   0.88509088  0.61856322  0.87324786  0.76435415  0.23946883  0.7180955\n",
      "   0.46106361  1.00188421  0.44430184  0.81398132  0.3021094   0.48165488\n",
      "   0.18468565  0.95807011  0.56074599  0.88103515  0.52231371  0.29807828\n",
      "   0.50526675  0.94884268  0.56005093  0.99682063  0.86753672  1.01251428\n",
      "   0.37340165  0.55994051  0.5062343   0.97121594  0.95761127  0.44526435\n",
      "   0.40301244  0.23884876  0.96242321  0.68299847  0.88860303  0.71850232\n",
      "   0.42682649  0.90326483  0.6432901   0.15345582  0.99877465  0.35479499\n",
      "   0.83031095  0.83788325  0.53525638  0.37979727  0.34705493  0.92501115\n",
      "   0.49059728  0.37991172  0.27739913  0.10310341  1.01226411  0.46144294\n",
      "   0.85828404  0.76175902  0.70592217  0.19519452]\n",
      " [ 0.87433187  0.53804893  0.9105983   0.97992669  0.7985323   0.48993482\n",
      "   0.91802817  0.62539824  0.62592688  0.47302098  0.59553105  0.58834989\n",
      "   0.02279671  0.49874455  0.87500462  0.60583014  0.49990448  0.84174388\n",
      "   0.87318857  0.71642202  0.52136556  0.22255639  0.96420542  0.52751792\n",
      "   0.45308843  0.49037487  0.06453653  0.31326697  0.48011003  0.71779241\n",
      "   0.55536832  0.1067445   0.81011083  0.6942872   0.          0.94191261\n",
      "   0.26339292  0.68261103  0.27076959  0.90194031  0.45896479  0.77941428\n",
      "   0.50149397  0.5760848   0.67797795  0.78010688  0.54531803  0.06102075\n",
      "   0.2439978   0.45192269  0.43115132  0.68843598  0.42026192  0.21397542\n",
      "   0.64307206  0.37860755  0.30852678  0.50982699  0.97193519  0.39648601\n",
      "   0.66111717  1.01425398  0.96085157  0.49539365  0.24358829  0.46803257\n",
      "   0.98881599  0.15276691  0.26343051  0.7687671   0.38516972  1.0167156\n",
      "   0.29152027  0.888319    0.72498787  0.88324307  0.31869473  0.05903847\n",
      "   0.44410142  0.28954779  0.5972761   0.55877912  1.01923845  0.37553876\n",
      "   0.24431277  0.33124361  0.22449921  0.46615593  0.66414625  0.39285074\n",
      "   0.79843764  0.5132076   0.66498208  0.62600715  1.0313614   0.66142423\n",
      "   0.63699247  0.10177005  0.17847887  0.51025057]\n",
      " [ 0.29352334  0.9063563   0.05499158  0.35887703  0.42707663  0.52226911\n",
      "   0.25745665  0.70477768  0.4275614   0.47276741  0.39177218  0.36306793\n",
      "   0.94060566  0.95289285  0.07328287  0.35092602  0.70961146  0.82093891\n",
      "   0.47677696  0.73304358  1.1182656   0.72360336  0.10986554  0.58494938\n",
      "   0.78651812  0.9313414   0.9592676   1.00793382  0.58239738  0.2612452\n",
      "   0.39347299  0.88404314  0.22943898  0.37502383  0.94191261  0.\n",
      "   0.82346157  0.29908284  0.85364339  0.85533075  0.53645638  0.73067893\n",
      "   0.93758129  0.5966436   0.82979237  0.636329    0.39785527  0.94453337\n",
      "   0.75176628  1.1154404   0.54884383  0.75094064  0.52655606  0.73695875\n",
      "   0.30585752  1.09548065  0.70005026  0.92832588  0.18889631  0.58028203\n",
      "   0.42811738  0.73989418  0.24973839  1.0847729   1.04538976  1.12123793\n",
      "   0.08394765  0.7898976   0.692762    0.9054391   1.09120769  0.07673837\n",
      "   0.67132838  0.16643502  0.91773084  0.4680606   1.03396244  0.94576834\n",
      "   0.53023717  1.06918111  0.60910358  0.41901304  0.80454472  0.68395733\n",
      "   0.99649601  0.96421483  0.73147593  0.49212356  0.30675286  1.04334763\n",
      "   0.30039641  0.45438244  0.28080503  0.47564457  0.81621515  0.38887529\n",
      "   0.8335789   0.97880861  0.88551535  0.46265269]\n",
      " [ 0.84060772  0.72306994  0.78120751  0.95698904  0.80834749  0.30750635\n",
      "   0.8719667   0.73610383  0.62423749  0.36769222  0.56231514  0.46287491\n",
      "   0.28167892  0.70235265  0.76746707  0.54232606  0.61733487  0.96532398\n",
      "   0.89433667  0.82903774  0.76281073  0.26570281  0.8736058   0.58926554\n",
      "   0.1897123   0.68857299  0.32465419  0.55561836  0.26674179  0.65278402\n",
      "   0.43574964  0.15670657  0.75310676  0.5047498   0.26339292  0.82346157\n",
      "   0.          0.53096188  0.45985723  1.02653623  0.28798943  0.8848905\n",
      "   0.70025028  0.64657071  0.82402384  0.8571147   0.44179146  0.31605997\n",
      "   0.09855187  0.70101579  0.43890788  0.8092833   0.31890296  0.1740086\n",
      "   0.51962167  0.63219133  0.39848728  0.70481275  0.90240376  0.24539538\n",
      "   0.66552164  1.09174818  0.90937957  0.73311706  0.50232754  0.71635412\n",
      "   0.85115148  0.23189791  0.30968271  0.92497826  0.63728456  0.90015951\n",
      "   0.18076286  0.73025632  0.89028935  0.9009958   0.56678583  0.31493161\n",
      "   0.44118366  0.54773822  0.67336022  0.40538786  1.11310999  0.15008375\n",
      "   0.49222401  0.55868473  0.2943004   0.43562486  0.60353636  0.63405351\n",
      "   0.76580081  0.48245002  0.57648013  0.41601206  1.12640366  0.64780607\n",
      "   0.78868961  0.36239845  0.38901331  0.36081072]\n",
      " [ 0.42912471  0.79359692  0.25235231  0.54089415  0.48842841  0.22507234\n",
      "   0.43266944  0.64703752  0.36787203  0.21651081  0.28633466  0.10562291\n",
      "   0.68563916  0.82134917  0.25605878  0.21877345  0.59841459  0.83129358\n",
      "   0.57119398  0.70970343  0.96648702  0.48046092  0.37112503  0.48220436\n",
      "   0.48840952  0.7999638   0.71168517  0.81543026  0.28331745  0.24598138\n",
      "   0.13745161  0.60996185  0.32284807  0.11332634  0.68261103  0.29908284\n",
      "   0.53096188  0.          0.65963792  0.88116375  0.24321378  0.73354495\n",
      "   0.80893212  0.5209473   0.77689736  0.65551991  0.16229731  0.69711336\n",
      "   0.46836319  0.94409969  0.36884618  0.71366356  0.26517547  0.46941213\n",
      "   0.07851086  0.90717083  0.50195138  0.80353332  0.42312734  0.29516226\n",
      "   0.39672424  0.83600184  0.45523671  0.93156772  0.8293507   0.95341666\n",
      "   0.32018966  0.53729464  0.46301446  0.87239415  0.90548059  0.37457627\n",
      "   0.39553617  0.20598308  0.86696588  0.56967483  0.83935633  0.69789144\n",
      "   0.34994229  0.86127265  0.54426031  0.12736463  0.88667281  0.38723285\n",
      "   0.78734172  0.78167607  0.49705668  0.30232124  0.23578051  0.86766897\n",
      "   0.37753081  0.2913214   0.16551878  0.19174266  0.90011204  0.35200639\n",
      "   0.76503515  0.73743345  0.66560563  0.17534378]\n",
      " [ 0.70862967  0.27077625  0.83672268  0.79782013  0.60148393  0.53950135\n",
      "   0.76015211  0.36958982  0.45895742  0.44917707  0.46486998  0.55406105\n",
      "   0.24995242  0.24265945  0.78091387  0.50358828  0.24907007  0.57535588\n",
      "   0.6620971   0.45622069  0.32662664  0.22491551  0.84546042  0.31863626\n",
      "   0.63125457  0.22981306  0.22584041  0.15664142  0.56568365  0.59825243\n",
      "   0.5224685   0.33359446  0.67178977  0.7139392   0.27076959  0.85364339\n",
      "   0.45985723  0.65963792  0.          0.63469143  0.50550112  0.52055449\n",
      "   0.24144193  0.35209216  0.40830298  0.5359214   0.49822374  0.21855242\n",
      "   0.38551627  0.28817669  0.30599088  0.42564531  0.41261059  0.30721586\n",
      "   0.59589461  0.24780455  0.15838199  0.24725217  0.83208795  0.44636454\n",
      "   0.48321291  0.76276215  0.80492347  0.2928997   0.2009809   0.29940975\n",
      "   0.91801062  0.22918426  0.2123547   0.49799752  0.24585048  0.92101282\n",
      "   0.36639712  0.84887745  0.45457715  0.67413992  0.18171976  0.220985\n",
      "   0.32516343  0.21702536  0.36637026  0.56070674  0.76048882  0.50168308\n",
      "   0.1475442   0.12409608  0.19472792  0.36802884  0.54829211  0.21135441\n",
      "   0.63841226  0.40006861  0.57733129  0.68095126  0.77198381  0.50021311\n",
      "   0.36681163  0.21212052  0.09319291  0.51999784]\n",
      " [ 0.56591481  0.40289617  0.87906339  0.5524065   0.42905614  0.92804313\n",
      "   0.61337618  0.29048089  0.51465424  0.78481228  0.59974109  0.80903514\n",
      "   0.88243535  0.46993801  0.79791299  0.66561637  0.41152964  0.06131751\n",
      "   0.3862952   0.1982335   0.60509994  0.76237574  0.77230126  0.45210434\n",
      "   1.14818962  0.46331879  0.86052967  0.68176324  0.99039986  0.65345266\n",
      "   0.79813152  0.94316306  0.63164094  0.98860145  0.90194031  0.85533075\n",
      "   1.02653623  0.88116375  0.63469143  0.          0.90523056  0.15153539\n",
      "   0.45688289  0.39563443  0.22973297  0.22748266  0.7655225   0.85292291\n",
      "   0.93069297  0.66515302  0.61560664  0.21787122  0.79459697  0.85256339\n",
      "   0.80461032  0.71030381  0.62994309  0.44303769  0.70554519  0.87869135\n",
      "   0.48450501  0.21455228  0.64230334  0.59144417  0.78144145  0.65706322\n",
      "   0.93923683  0.81225953  0.71692998  0.17422635  0.69936097  0.88030518\n",
      "   0.86547098  0.96337512  0.22694602  0.39788933  0.70068733  0.8553522\n",
      "   0.62298347  0.7643497   0.36755934  0.87110195  0.16552065  0.99399248\n",
      "   0.73361927  0.63131967  0.73623397  0.65516065  0.6473943   0.64235059\n",
      "   0.55831134  0.63048713  0.71753015  1.02382177  0.17072176  0.52967154\n",
      "   0.27269383  0.84487703  0.72762547  0.86269814]\n",
      " [ 0.58958932  0.70687953  0.49333692  0.70784947  0.59249216  0.03418771\n",
      "   0.61182837  0.62856869  0.41952721  0.12463366  0.33880204  0.18172418\n",
      "   0.46594551  0.71455458  0.48312902  0.29536095  0.53851441  0.84742526\n",
      "   0.68155171  0.71176199  0.83114882  0.28938007  0.59267192  0.45590853\n",
      "   0.28049722  0.69517732  0.49808933  0.65049018  0.08558796  0.39276144\n",
      "   0.16072537  0.37516852  0.49181599  0.23535599  0.45896479  0.53645638\n",
      "   0.28798943  0.24321378  0.50550112  0.90523056  0.          0.75407099\n",
      "   0.70592854  0.5104503   0.74578511  0.69924655  0.17823866  0.48426071\n",
      "   0.22875791  0.79201396  0.29534488  0.70347012  0.11330794  0.2469972\n",
      "   0.23625811  0.74121143  0.36564893  0.70463816  0.62912743  0.06391047\n",
      "   0.46028934  0.91746397  0.64486689  0.79686107  0.64098292  0.80409405\n",
      "   0.56333245  0.32801545  0.29315335  0.84899747  0.74201128  0.61303156\n",
      "   0.16802975  0.44520145  0.82893299  0.68494043  0.67098643  0.48456047\n",
      "   0.28457509  0.67913403  0.53832391  0.11756255  0.95376845  0.14928373\n",
      "   0.60777517  0.62877448  0.31522502  0.25012418  0.35106825  0.71572266\n",
      "   0.51994218  0.28012681  0.30735487  0.17716982  0.96753375  0.4286938\n",
      "   0.72149437  0.52878802  0.48308075  0.07615114]\n",
      " [ 0.45156718  0.33262582  0.74920402  0.46426484  0.3058093   0.77662836\n",
      "   0.50393279  0.15424544  0.36587087  0.63334109  0.45004351  0.65875423\n",
      "   0.76130535  0.40308383  0.66865481  0.51653931  0.27993061  0.09775111\n",
      "   0.28766936  0.0646505   0.56299604  0.62340012  0.65712566  0.30288385\n",
      "   1.00019359  0.39039834  0.74388155  0.59449333  0.83934361  0.51246513\n",
      "   0.64714765  0.81104991  0.50239509  0.83960899  0.77941428  0.73067893\n",
      "   0.8848905   0.73354495  0.52055449  0.15153539  0.75407099  0.\n",
      "   0.38732677  0.24567734  0.16079469  0.09595318  0.61443361  0.73481072\n",
      "   0.78788071  0.60859462  0.46608435  0.09843446  0.64387264  0.71149023\n",
      "   0.65631634  0.6396379   0.49274933  0.3729394   0.59775785  0.72868725\n",
      "   0.33817495  0.24670099  0.53876615  0.54175435  0.68840235  0.60391206\n",
      "   0.8144088   0.67771504  0.57654817  0.18671661  0.62956632  0.76373216\n",
      "   0.71957829  0.82681254  0.21842997  0.30137524  0.61664839  0.73720741\n",
      "   0.4727158   0.6787119   0.21758316  0.71992455  0.24022076  0.84569894\n",
      "   0.63687654  0.54095614  0.59897533  0.50395114  0.50188626  0.57022334\n",
      "   0.43031915  0.47895825  0.57142323  0.87275412  0.25207937  0.38394438\n",
      "   0.19607893  0.7326518   0.61121669  0.71116753]\n",
      " [ 0.72442818  0.05519859  0.93425368  0.78444902  0.58757836  0.73831104\n",
      "   0.78045265  0.2774473   0.51036328  0.62180002  0.55460797  0.70659654\n",
      "   0.4792165   0.01690724  0.86503368  0.61244995  0.22806565  0.40576601\n",
      "   0.61873924  0.32760221  0.19001418  0.45167925  0.90127693  0.35272191\n",
      "   0.86652255  0.01167854  0.44656248  0.22893512  0.77701406  0.67740004\n",
      "   0.67970769  0.57398751  0.7229388   0.88509088  0.50149397  0.93758129\n",
      "   0.70025028  0.80893212  0.24144193  0.45688289  0.70592854  0.38732677\n",
      "   0.          0.3468269   0.23355014  0.44309737  0.64954964  0.44334553\n",
      "   0.62159844  0.22212682  0.44160967  0.29178212  0.5992828   0.54096077\n",
      "   0.73502148  0.25494153  0.34133157  0.01440352  0.86689504  0.65379338\n",
      "   0.51580109  0.63037217  0.82370286  0.16173964  0.33104475  0.21895324\n",
      "   1.01298812  0.46853951  0.42483472  0.29296646  0.24435148  0.99389909\n",
      "   0.59015814  0.97282915  0.24165678  0.63272243  0.24543439  0.44568501\n",
      "   0.45988386  0.30911595  0.34217398  0.73420792  0.60828919  0.72906684\n",
      "   0.28898361  0.18385333  0.42024416  0.50756118  0.63792317  0.18607946\n",
      "   0.66895572  0.51977876  0.68779445  0.87251675  0.61731413  0.55026941\n",
      "   0.19284161  0.4214028   0.32550785  0.70183161]\n",
      " [ 0.38082559  0.3108254   0.59891321  0.45424625  0.25470667  0.53445407\n",
      "   0.43626966  0.12634729  0.1713938   0.39221565  0.2371401   0.43326519\n",
      "   0.56130155  0.36303713  0.52539342  0.30379475  0.12357831  0.33711691\n",
      "   0.31003602  0.20153122  0.53444019  0.39239319  0.55477411  0.05781386\n",
      "   0.75490192  0.34220747  0.55341745  0.47579242  0.59530273  0.34141574\n",
      "   0.41643882  0.58902462  0.37688783  0.61856322  0.5760848   0.5966436\n",
      "   0.64657071  0.5209473   0.35209216  0.39563443  0.5104503   0.24567734\n",
      "   0.3468269   0.          0.25597822  0.21147287  0.38322862  0.54182294\n",
      "   0.54846986  0.5476208   0.22041151  0.19689208  0.39912762  0.4753675\n",
      "   0.44247378  0.54846573  0.27028822  0.336135    0.52072895  0.48314755\n",
      "   0.16987001  0.44783247  0.4802784   0.50310783  0.54873845  0.54977813\n",
      "   0.67506558  0.45400853  0.34384892  0.35265651  0.5412075   0.64935899\n",
      "   0.47645813  0.65235282  0.34622509  0.32220259  0.50190355  0.54405103\n",
      "   0.22734953  0.55454468  0.02810469  0.48654875  0.46654791  0.60031702\n",
      "   0.49417369  0.42294903  0.37200493  0.26109246  0.3107299   0.48502409\n",
      "   0.32232265  0.24257997  0.37218618  0.63923116  0.47986562  0.20791947\n",
      "   0.24696661  0.55155565  0.42885648  0.47236108]\n",
      " [ 0.57229861  0.17838835  0.83953528  0.60556358  0.4249643   0.77322632\n",
      "   0.62765133  0.13061963  0.42044519  0.63549942  0.49262046  0.68761857\n",
      "   0.6577561   0.248243    0.76197545  0.5596081   0.21152857  0.17425459\n",
      "   0.4298393   0.11284057  0.40279926  0.5584452   0.7703819   0.29869882\n",
      "   0.96281615  0.23842504  0.63377026  0.45345928  0.82781856  0.58668245\n",
      "   0.66892226  0.72695872  0.60135679  0.87324786  0.67797795  0.82979237\n",
      "   0.82402384  0.77689736  0.40830298  0.22973297  0.74578511  0.16079469\n",
      "   0.23355014  0.25597822  0.          0.23688668  0.63580715  0.62684164\n",
      "   0.73190942  0.45163366  0.45082187  0.08295753  0.63247746  0.65110607\n",
      "   0.69843815  0.48844156  0.42620577  0.21923926  0.72031618  0.70828434\n",
      "   0.40680724  0.39774842  0.666805    0.38268824  0.552267    0.44596957\n",
      "   0.91157307  0.60046373  0.51678617  0.10374973  0.47789361  0.87305338\n",
      "   0.67626276  0.90237426  0.09058977  0.44405706  0.47332079  0.62927424\n",
      "   0.46330517  0.53673841  0.23377598  0.73676765  0.37501382  0.8118303\n",
      "   0.50398185  0.40222742  0.52982934  0.50459849  0.56239538  0.41938432\n",
      "   0.53471303  0.49434275  0.62652902  0.88804327  0.3843329   0.4509576\n",
      "   0.04298547  0.61664536  0.50149552  0.71765415]\n",
      " [ 0.35562333  0.39095465  0.65641539  0.37190989  0.210291    0.71897101\n",
      "   0.40803511  0.1730575   0.29211907  0.57572124  0.37828307  0.58789315\n",
      "   0.76385763  0.45971125  0.57555695  0.4424459   0.28687577  0.1853467\n",
      "   0.19503654  0.12410142  0.62764205  0.60372174  0.56132932  0.26803918\n",
      "   0.95734498  0.4439841   0.7516042   0.63122093  0.78482231  0.42599963\n",
      "   0.57972285  0.79920865  0.40900617  0.76435415  0.78010688  0.636329\n",
      "   0.8571147   0.65551991  0.5359214   0.22748266  0.69924655  0.09595318\n",
      "   0.44309737  0.21147287  0.23688668  0.          0.54788444  0.74111304\n",
      "   0.75877351  0.66476927  0.42382415  0.15717508  0.59298136  0.6866436\n",
      "   0.57981138  0.68677235  0.47922013  0.42910358  0.50186592  0.68065672\n",
      "   0.25909727  0.23658704  0.44323133  0.60312687  0.71865975  0.66204901\n",
      "   0.72018228  0.6642429   0.55526055  0.28097094  0.67746163  0.66811215\n",
      "   0.68444962  0.73725397  0.30782786  0.2090768   0.6552211   0.74343577\n",
      "   0.42685427  0.71481715  0.18618517  0.65347584  0.2576605   0.80290995\n",
      "   0.66518362  0.57678194  0.58268491  0.45120897  0.42074432  0.61800866\n",
      "   0.33633456  0.41953242  0.49106737  0.80499979  0.27125257  0.30351935\n",
      "   0.26322433  0.74509341  0.6217435   0.6497724 ]\n",
      " [ 0.41164877  0.63693149  0.36529499  0.52990844  0.41942616  0.18514725\n",
      "   0.43585025  0.50887643  0.25739385  0.07603646  0.17172306  0.05728252\n",
      "   0.54521814  0.66149616  0.33395763  0.11872143  0.44569804  0.71114919\n",
      "   0.50822318  0.58132974  0.80443     0.33133338  0.43407166  0.33716883\n",
      "   0.45873036  0.64027943  0.56677174  0.65442083  0.25657237  0.21576832\n",
      "   0.03321082  0.48670405  0.31577513  0.23946883  0.54531803  0.39785527\n",
      "   0.44179146  0.16229731  0.49822374  0.7655225   0.17823866  0.61443361\n",
      "   0.64954964  0.38322862  0.63580715  0.54788444  0.          0.55203173\n",
      "   0.36007825  0.78190397  0.20807122  0.57996126  0.12945043  0.33917946\n",
      "   0.10052156  0.7459748   0.34015845  0.64474956  0.46068441  0.19789033\n",
      "   0.29542795  0.75409885  0.47070304  0.76949952  0.67263938  0.7911502\n",
      "   0.44397414  0.39447811  0.30756126  0.73521847  0.7440408   0.47362756\n",
      "   0.27627654  0.35442087  0.72434931  0.51067809  0.67867245  0.55307501\n",
      "   0.18966702  0.70284054  0.40910475  0.10570412  0.79574905  0.32128239\n",
      "   0.62883813  0.61973881  0.34389341  0.14201592  0.17283174  0.70554189\n",
      "   0.34171314  0.14146452  0.13474514  0.25832088  0.80949567  0.25856162\n",
      "   0.61950486  0.58938642  0.50898353  0.109295  ]\n",
      " [ 0.8579575   0.4816306   0.9162498   0.95995603  0.77351843  0.51667022\n",
      "   0.90391058  0.58161684  0.60672636  0.48301334  0.58438058  0.59881942\n",
      "   0.03834045  0.43997802  0.87577049  0.60139039  0.45708621  0.79328918\n",
      "   0.84476791  0.6710925   0.46058081  0.22116109  0.95989332  0.49650178\n",
      "   0.50529851  0.432379    0.01475193  0.25231068  0.51437977  0.71106577\n",
      "   0.56546732  0.16059311  0.79993555  0.7180955   0.06102075  0.94453337\n",
      "   0.31605997  0.69711336  0.21855242  0.85292291  0.48426071  0.73481072\n",
      "   0.44334553  0.54182294  0.62684164  0.74111304  0.55203173  0.\n",
      "   0.28305818  0.39191531  0.41685453  0.64183436  0.43211141  0.23750517\n",
      "   0.6516579   0.3194865   0.28149473  0.45214592  0.96260492  0.42057991\n",
      "   0.63972162  0.97313781  0.94748752  0.4344197   0.18650291  0.40792279\n",
      "   0.99571989  0.15989587  0.25397963  0.7152749   0.3256624   1.01812573\n",
      "   0.3165701   0.90142809  0.67032875  0.85543547  0.25824871  0.00243262\n",
      "   0.43168963  0.23219247  0.56131447  0.57662668  0.97502113  0.41606096\n",
      "   0.1836191   0.27074724  0.21447405  0.45919658  0.657548    0.33193139\n",
      "   0.78288259  0.50425217  0.66484608  0.65631363  0.98686047  0.6441055\n",
      "   0.58523782  0.04748054  0.12538297  0.52874011]\n",
      " [ 0.74918198  0.6401148   0.71286645  0.86458256  0.71170505  0.25579497\n",
      "   0.78277303  0.64022561  0.5275763   0.28426304  0.46844631  0.38869925\n",
      "   0.25612718  0.62522213  0.69189743  0.45311492  0.52328095  0.86958697\n",
      "   0.79715589  0.73282536  0.70161577  0.17475346  0.79414705  0.49105272\n",
      "   0.24574198  0.60995384  0.29488542  0.49936633  0.23692764  0.5653528\n",
      "   0.35889449  0.14880074  0.66507464  0.46106361  0.2439978   0.75176628\n",
      "   0.09855187  0.46836319  0.38551627  0.93069297  0.22875791  0.78788071\n",
      "   0.62159844  0.54846986  0.73190942  0.75877351  0.36007825  0.28305818\n",
      "   0.          0.64620576  0.34051902  0.71398154  0.23237146  0.0818125\n",
      "   0.44591578  0.58257406  0.30572302  0.62493525  0.81806172  0.17334604\n",
      "   0.56863356  0.99324558  0.82139624  0.67012595  0.46167892  0.66068399\n",
      "   0.78635612  0.1581504   0.21530568  0.83381612  0.58620009  0.82841044\n",
      "   0.08666977  0.67278273  0.80103087  0.80406782  0.51410173  0.28264715\n",
      "   0.34319942  0.50511199  0.57539642  0.34100203  1.01501004  0.13300433\n",
      "   0.44190128  0.49436927  0.20517985  0.33967308  0.51463652  0.57502198\n",
      "   0.67371983  0.3872329   0.49338592  0.38507161  1.02833546  0.55242719\n",
      "   0.69779515  0.33042091  0.32688529  0.29333461]\n",
      " [ 0.92834646  0.27610958  1.10474055  0.99722006  0.79818348  0.82614391\n",
      "   0.98355065  0.49655371  0.69665384  0.73649061  0.72398362  0.83853537\n",
      "   0.42987094  0.20587416  1.0421589   0.77252692  0.42404676  0.61897474\n",
      "   0.83614723  0.54961868  0.0813023   0.50559221  1.09210391  0.5391842\n",
      "   0.88622973  0.22078518  0.3875171   0.14684031  0.84797346  0.85468332\n",
      "   0.80771888  0.55034636  0.91373045  1.00188421  0.45192269  1.1154404\n",
      "   0.70101579  0.94409969  0.28817669  0.66515302  0.79201396  0.60859462\n",
      "   0.22212682  0.5476208   0.45163366  0.66476927  0.78190397  0.39191531\n",
      "   0.64620576  0.          0.58072952  0.5138086   0.70078249  0.57611333\n",
      "   0.87722852  0.07734397  0.44272049  0.23636436  1.06578334  0.73152398\n",
      "   0.70986471  0.8493487   1.02774697  0.07649941  0.21373855  0.01656756\n",
      "   1.18547159  0.48981798  0.49952188  0.49302887  0.06834048  1.17771207\n",
      "   0.64448661  1.1273178   0.439636    0.84992789  0.13437911  0.39360921\n",
      "   0.60021891  0.17014065  0.54867705  0.84853407  0.82288225  0.77285202\n",
      "   0.20930642  0.1640847   0.47757673  0.64606941  0.80915333  0.07687336\n",
      "   0.86700638  0.67130556  0.84816916  0.96825808  0.83101495  0.73823822\n",
      "   0.41287145  0.35144791  0.31991172  0.80816277]\n",
      " [ 0.44318064  0.4308216   0.53075053  0.55002748  0.37797404  0.32240495\n",
      "   0.48752628  0.33377945  0.1973204   0.18730987  0.16832665  0.26525783\n",
      "   0.42309636  0.45344342  0.47659998  0.19802268  0.24682457  0.55642074\n",
      "   0.46032422  0.4193635   0.59848047  0.21339046  0.54892532  0.16350337\n",
      "   0.53497306  0.43225966  0.43100901  0.46191225  0.37859835  0.29900412\n",
      "   0.23813011  0.41189926  0.38363968  0.44430184  0.43115132  0.54884383\n",
      "   0.43890788  0.36884618  0.30599088  0.61560664  0.29534488  0.46608435\n",
      "   0.44160967  0.22041151  0.45082187  0.42382415  0.20807122  0.41685453\n",
      "   0.34051902  0.58072952  0.          0.40901103  0.1821961   0.27688868\n",
      "   0.29789336  0.55160681  0.15134896  0.43706627  0.54644953  0.26324053\n",
      "   0.2355931   0.65523195  0.53084029  0.56362535  0.49688831  0.58891581\n",
      "   0.61204199  0.28432045  0.16812772  0.55380878  0.54841164  0.61789519\n",
      "   0.26181756  0.54660793  0.53525197  0.46829887  0.48746183  0.41855596\n",
      "   0.01949297  0.5204305   0.24850133  0.29593891  0.68147005  0.38033034\n",
      "   0.44765241  0.42187945  0.20665766  0.06654064  0.24671985  0.50542241\n",
      "   0.36734327  0.09446393  0.27134051  0.44213809  0.69503703  0.23070367\n",
      "   0.42807435  0.44345195  0.33937697  0.26985957]\n",
      " [ 0.48978012  0.2378691   0.76261348  0.52306605  0.34226206  0.72883166\n",
      "   0.54498903  0.07550663  0.35036468  0.58772017  0.42745836  0.62921575\n",
      "   0.66964721  0.30793457  0.68417152  0.49500257  0.19371434  0.15655804\n",
      "   0.34785816  0.03582127  0.47237285  0.54468681  0.68899804  0.24796951\n",
      "   0.93572046  0.29411092  0.65036524  0.49606158  0.78743377  0.51273199\n",
      "   0.61316365  0.72594747  0.5218656   0.81398132  0.68843598  0.75094064\n",
      "   0.8092833   0.71366356  0.42564531  0.21787122  0.70347012  0.09843446\n",
      "   0.29178212  0.19689208  0.08295753  0.15717508  0.57996126  0.64183436\n",
      "   0.71398154  0.5138086   0.40901103  0.          0.59084541  0.63527472\n",
      "   0.6352155   0.54228885  0.41212966  0.27748199  0.6378322   0.67150029\n",
      "   0.33252976  0.34513178  0.58394312  0.44920664  0.59015549  0.5099279\n",
      "   0.83328718  0.59452451  0.49960067  0.15975298  0.53235908  0.79241385\n",
      "   0.65103539  0.82939943  0.16691334  0.36210042  0.51827012  0.64424798\n",
      "   0.41889715  0.58028169  0.17093894  0.68344049  0.33549849  0.78234689\n",
      "   0.53885533  0.44252885  0.51838241  0.45616587  0.4921563   0.47290624\n",
      "   0.45402131  0.43947205  0.5584603   0.83609233  0.34668234  0.37771377\n",
      "   0.10610557  0.63766403  0.51734235  0.66856842]\n",
      " [ 0.52260048  0.59737102  0.49199275  0.63971158  0.50363319  0.14203107\n",
      "   0.55306895  0.515775    0.3233387   0.05378894  0.25027633  0.16809507\n",
      "   0.4218931   0.60876843  0.46337784  0.22358782  0.42550513  0.73623646\n",
      "   0.59205616  0.59996356  0.73392589  0.21597474  0.56272706  0.34378937\n",
      "   0.36851969  0.58882428  0.44672256  0.5641267   0.19659919  0.33406619\n",
      "   0.13523796  0.35752267  0.43428137  0.3021094   0.42026192  0.52655606\n",
      "   0.31890296  0.26517547  0.41261059  0.79459697  0.11330794  0.64387264\n",
      "   0.5992828   0.39912762  0.63247746  0.59298136  0.12945043  0.43211141\n",
      "   0.23237146  0.70078249  0.1821961   0.59084541  0.          0.21067333\n",
      "   0.22336662  0.65596301  0.26316683  0.59717542  0.58574634  0.08940936\n",
      "   0.36504981  0.81633987  0.59060814  0.69922667  0.5682346   0.71181228\n",
      "   0.56919446  0.27246948  0.20425858  0.73570495  0.65555246  0.60261\n",
      "   0.14728708  0.46941676  0.71574994  0.59695197  0.58650952  0.43293192\n",
      "   0.17216219  0.60251901  0.4271375   0.15028001  0.84931416  0.21748938\n",
      "   0.52914994  0.5366978   0.23487129  0.14178511  0.28466426  0.62394013\n",
      "   0.44857554  0.1790534   0.26117033  0.27354394  0.86304172  0.33941208\n",
      "   0.60833012  0.4722667   0.4053441   0.10740131]\n",
      " [ 0.704132    0.55857098  0.70262331  0.81687372  0.65393362  0.27918907\n",
      "   0.74178976  0.56216407  0.47093582  0.26437698  0.42071632  0.37792788\n",
      "   0.21936733  0.54500771  0.67272875  0.4160208   0.44348713  0.79133884\n",
      "   0.7371521   0.65517955  0.62779663  0.09307734  0.76858784  0.4186493\n",
      "   0.32557046  0.5293411   0.25119519  0.42970353  0.28048778  0.52967454\n",
      "   0.34554532  0.14841108  0.62714686  0.48165488  0.21397542  0.73695875\n",
      "   0.1740086   0.46941213  0.30721586  0.85256339  0.2469972   0.71149023\n",
      "   0.54096077  0.4753675   0.65110607  0.6866436   0.33917946  0.23750517\n",
      "   0.0818125   0.57611333  0.27688868  0.63527472  0.21067333  0.\n",
      "   0.43385993  0.51608986  0.22499508  0.54398739  0.78503077  0.183607\n",
      "   0.51084374  0.92235607  0.78232365  0.59554579  0.40293875  0.59001457\n",
      "   0.77946705  0.08750644  0.13567411  0.75269197  0.51877791  0.81280694\n",
      "   0.07907661  0.67534381  0.71945263  0.74495266  0.44645689  0.23773334\n",
      "   0.28284736  0.44418631  0.50167537  0.34489064  0.94143137  0.1968926\n",
      "   0.37686341  0.42015593  0.12336736  0.28843678  0.47700509  0.5030542\n",
      "   0.62785683  0.33724204  0.46632089  0.419149    0.95462205  0.49960279\n",
      "   0.61655915  0.28272486  0.25644356  0.29632263]\n",
      " [ 0.37703748  0.7180324   0.26885625  0.49294168  0.42026242  0.22875721\n",
      "   0.38910508  0.56853611  0.29044901  0.17009264  0.20802496  0.05722314\n",
      "   0.64380109  0.74782972  0.24787296  0.14051655  0.5217214   0.7540605\n",
      "   0.50547086  0.63153227  0.89634947  0.43137354  0.35641548  0.4043025\n",
      "   0.50586869  0.72632057  0.66638116  0.75242276  0.2968306   0.18340374\n",
      "   0.08835852  0.57962047  0.27234358  0.18468565  0.64307206  0.30585752\n",
      "   0.51962167  0.07851086  0.59589461  0.80461032  0.23625811  0.65631634\n",
      "   0.73502148  0.44247378  0.69843815  0.57981138  0.10052156  0.6516579\n",
      "   0.44591578  0.87722852  0.29789336  0.6352155   0.22336662  0.43385993\n",
      "   0.          0.84367016  0.43752063  0.72917665  0.3955628   0.27503795\n",
      "   0.32071751  0.76639358  0.41751433  0.86150607  0.77281635  0.88592788\n",
      "   0.34586688  0.49334168  0.40806435  0.79389283  0.84139115  0.3824954\n",
      "   0.36592473  0.25424957  0.78854719  0.50511225  0.77699161  0.65265124\n",
      "   0.27860004  0.80251098  0.46574949  0.1234748   0.81496946  0.38553712\n",
      "   0.7285253   0.71620952  0.44438794  0.23163886  0.16333626  0.80127717\n",
      "   0.31773004  0.21561078  0.09562905  0.24249455  0.82851206  0.27675786\n",
      "   0.68686267  0.68953032  0.60925355  0.1603523 ]\n",
      " [ 0.92600485  0.31005686  1.0811651   1.00237201  0.80265339  0.77539456\n",
      "   0.98015985  0.51474625  0.68573299  0.69522588  0.70408801  0.80165361\n",
      "   0.35696114  0.24082127  1.02234712  0.74766869  0.42631346  0.66044704\n",
      "   0.84798971  0.57790524  0.15690926  0.45217402  1.07960529  0.53197746\n",
      "   0.8191964   0.25022619  0.31407104  0.09195011  0.79244678  0.83674492\n",
      "   0.76986229  0.47933265  0.90260922  0.95807011  0.37860755  1.09548065\n",
      "   0.63219133  0.90717083  0.24780455  0.71030381  0.74121143  0.6396379\n",
      "   0.25494153  0.54846573  0.48844156  0.68677235  0.7459748   0.3194865\n",
      "   0.58257406  0.07734397  0.55160681  0.54228885  0.65596301  0.51608986\n",
      "   0.84367016  0.          0.40615178  0.26921428  1.05874549  0.67928992\n",
      "   0.70321907  0.88441724  1.02479294  0.14346624  0.13743477  0.09389022\n",
      "   1.16234593  0.42879895  0.4520984   0.54186968  0.01141731  1.16057683\n",
      "   0.58767219  1.09640399  0.48886984  0.86138738  0.0702814   0.32104295\n",
      "   0.57099165  0.09301027  0.55345182  0.8055125   0.86322277  0.71167901\n",
      "   0.1408387   0.1314205   0.42611024  0.61498357  0.78881887  0.06941513\n",
      "   0.86096609  0.64471562  0.82238219  0.91828348  0.87219286  0.72757423\n",
      "   0.44730092  0.27729474  0.2604763   0.76312679]\n",
      " [ 0.57978961  0.3476466   0.68085785  0.67918526  0.49213886  0.39860519\n",
      "   0.62781784  0.34055494  0.32740395  0.29451413  0.31700787  0.39632857\n",
      "   0.29567398  0.34929451  0.62791311  0.34913013  0.21910533  0.56862808\n",
      "   0.56493893  0.43398411  0.47132823  0.13289296  0.69891447  0.21942084\n",
      "   0.54091567  0.3303505   0.29460264  0.31497757  0.43570148  0.44937266\n",
      "   0.36514758  0.32026368  0.53012804  0.56074599  0.30852678  0.70005026\n",
      "   0.39848728  0.50195138  0.15838199  0.62994309  0.36564893  0.49274933\n",
      "   0.34133157  0.27028822  0.42620577  0.47922013  0.34015845  0.28149473\n",
      "   0.30572302  0.44272049  0.15134896  0.41212966  0.26316683  0.22499508\n",
      "   0.43752063  0.40615178  0.          0.34101038  0.69256868  0.31246331\n",
      "   0.35885277  0.71558986  0.67203837  0.4365245   0.34553989  0.45264072\n",
      "   0.76212714  0.1856381   0.09109333  0.52815749  0.40398005  0.76923979\n",
      "   0.25582304  0.69056654  0.49644599  0.5752088   0.33978907  0.28350536\n",
      "   0.16981313  0.36968801  0.29348498  0.40731635  0.72793013  0.39482622\n",
      "   0.29656297  0.27974651  0.10640884  0.21054137  0.39764226  0.36604868\n",
      "   0.505892    0.24572268  0.4214415   0.53613878  0.74073983  0.36626153\n",
      "   0.39228548  0.30110402  0.18972163  0.36936767]\n",
      " [ 0.71276792  0.04085431  0.92566467  0.77174458  0.57524036  0.73679639\n",
      "   0.76884425  0.26411517  0.50088913  0.61855167  0.54673513  0.7016807\n",
      "   0.48767029  0.03061013  0.85591202  0.60530524  0.21873532  0.39164915\n",
      "   0.6054834   0.31329985  0.20262423  0.45399102  0.89083369  0.34377969\n",
      "   0.86943166  0.02103929  0.45572255  0.24163642  0.77663623  0.66850297\n",
      "   0.67518749  0.58051398  0.71265403  0.88103515  0.50982699  0.92832588\n",
      "   0.70481275  0.80353332  0.24725217  0.44303769  0.70463816  0.3729394\n",
      "   0.01440352  0.336135    0.21923926  0.42910358  0.64474956  0.45214592\n",
      "   0.62493525  0.23636436  0.43706627  0.27748199  0.59717542  0.54398739\n",
      "   0.72917665  0.26921428  0.34101038  0.          0.85567403  0.65329738\n",
      "   0.50547305  0.61597998  0.81196784  0.17506893  0.3435133   0.23299894\n",
      "   1.00415395  0.47294593  0.4258297   0.27997984  0.25865469  0.98405518\n",
      "   0.59161358  0.96558717  0.229063    0.61949121  0.2586645   0.45450157\n",
      "   0.45512575  0.32238377  0.33073091  0.73065805  0.59404695  0.73073205\n",
      "   0.30059678  0.19547412  0.42257082  0.50273482  0.62967616  0.20026985\n",
      "   0.657977    0.51371436  0.6804534   0.87009984  0.60311085  0.5405299\n",
      "   0.17845376  0.43126652  0.33304172  0.69899992]\n",
      " [ 0.14805785  0.82738026  0.23708712  0.17404673  0.29582291  0.6241577\n",
      "   0.09383238  0.60673019  0.37396075  0.53497977  0.37830479  0.44756797\n",
      "   0.96622229  0.88329821  0.17817523  0.36912764  0.64324362  0.67957191\n",
      "   0.31925021  0.61362319  1.05515666  0.74946215  0.08000184  0.52737413\n",
      "   0.90130772  0.86269307  0.97691618  0.97764791  0.69227156  0.25552588\n",
      "   0.4698562   0.93288929  0.16281272  0.52231371  0.97193519  0.18889631\n",
      "   0.90240376  0.42312734  0.83208795  0.70554519  0.62912743  0.59775785\n",
      "   0.86689504  0.52072895  0.72031618  0.50186592  0.46068441  0.96260492\n",
      "   0.81806172  1.06578334  0.54644953  0.6378322   0.58574634  0.78503077\n",
      "   0.3955628   1.05874549  0.69256868  0.85567403  0.          0.65827154\n",
      "   0.35610203  0.566744    0.06595003  1.0237851   1.032005    1.06892575\n",
      "   0.26188904  0.82015377  0.70985847  0.78166268  1.0527185   0.18203198\n",
      "   0.73225303  0.34987699  0.80268606  0.30787362  1.00420512  0.96422684\n",
      "   0.53099     1.04838588  0.52502219  0.51903698  0.63431593  0.77768886\n",
      "   0.9794723   0.92852777  0.74941038  0.50579043  0.30876053  0.99938578\n",
      "   0.19882585  0.45898553  0.32594504  0.61409821  0.64509179  0.3322901\n",
      "   0.73262212  0.98987536  0.88221014  0.55310017]\n",
      " [ 0.60516795  0.65790762  0.54017506  0.72299822  0.59231397  0.0973697\n",
      "   0.632481    0.59605896  0.41267462  0.1271628   0.33827286  0.21798704\n",
      "   0.40286525  0.66163301  0.52258345  0.30598088  0.4982347   0.81964444\n",
      "   0.68091471  0.68258808  0.77277103  0.22711866  0.62821154  0.42667102\n",
      "   0.27913442  0.64280924  0.43447206  0.58897165  0.1234247   0.41224678\n",
      "   0.19035441  0.31606176  0.51265799  0.29807828  0.39648601  0.58028203\n",
      "   0.24539538  0.29516226  0.44636454  0.87869135  0.06391047  0.72868725\n",
      "   0.65379338  0.48314755  0.70828434  0.68065672  0.19789033  0.42057991\n",
      "   0.17334604  0.73152398  0.26324053  0.67150029  0.08940936  0.183607\n",
      "   0.27503795  0.67928992  0.31246331  0.65329738  0.65827154  0.\n",
      "   0.45435429  0.90535168  0.66821297  0.73872824  0.57744637  0.74391081\n",
      "   0.61310504  0.26410653  0.23467087  0.81197064  0.68035124  0.65701408\n",
      "   0.104991    0.5001391   0.78886889  0.68558208  0.60901833  0.4209095\n",
      "   0.25601064  0.61592895  0.51124911  0.16786972  0.93749113  0.12879524\n",
      "   0.54491857  0.56889692  0.25400438  0.23010058  0.36564181  0.65554063\n",
      "   0.53246317  0.26846271  0.33249874  0.24012105  0.95119843  0.42788843\n",
      "   0.68153177  0.46495592  0.42037092  0.11999217]\n",
      " [ 0.22544544  0.48069516  0.43367278  0.32033793  0.14324427  0.47520726\n",
      "   0.27783841  0.27852757  0.04180733  0.33592102  0.12374782  0.33080283\n",
      "   0.65086538  0.53179114  0.35787225  0.18427874  0.2890519   0.43572211\n",
      "   0.22901333  0.321583    0.7018547   0.44817194  0.38550781  0.17135579\n",
      "   0.73306397  0.51068799  0.65310749  0.62375546  0.54451254  0.18023694\n",
      "   0.32575723  0.64745521  0.20718286  0.50526675  0.66111717  0.42811738\n",
      "   0.66552164  0.39672424  0.48321291  0.48450501  0.46028934  0.33817495\n",
      "   0.51580109  0.16987001  0.40680724  0.25909727  0.29542795  0.63972162\n",
      "   0.56863356  0.70986471  0.2355931   0.33252976  0.36504981  0.51084374\n",
      "   0.32071751  0.70321907  0.35885277  0.50547305  0.35610203  0.45435429\n",
      "   0.          0.45897971  0.32263701  0.66976457  0.68419351  0.71328184\n",
      "   0.50786495  0.51843491  0.40139853  0.49172884  0.69698764  0.4795218\n",
      "   0.4849198   0.49687556  0.49665599  0.23547778  0.65029916  0.64165953\n",
      "   0.22801385  0.69710824  0.18098633  0.39964721  0.50066686  0.58241206\n",
      "   0.63053909  0.57361542  0.43833926  0.23057684  0.1637338   0.64331937\n",
      "   0.15775562  0.18653567  0.2333322   0.54901782  0.51439153  0.04596202\n",
      "   0.40687039  0.65966622  0.54362465  0.40203601]\n",
      " [ 0.44841898  0.57521914  0.77421389  0.39645098  0.34778822  0.93377273\n",
      "   0.48327642  0.39317414  0.49860019  0.79283369  0.58265515  0.78583023\n",
      "   0.9973657   0.64553263  0.69497499  0.63955154  0.51614667  0.23821547\n",
      "   0.27071242  0.31085552  0.79764688  0.84021027  0.64236492  0.50380975\n",
      "   1.1840643   0.63433259  0.98303405  0.84116916  1.0023699   0.59131009\n",
      "   0.78374131  1.03570833  0.53859201  0.94884268  1.01425398  0.73989418\n",
      "   1.09174818  0.83600184  0.76276215  0.21455228  0.91746397  0.24670099\n",
      "   0.63037217  0.44783247  0.39774842  0.23658704  0.75409885  0.97313781\n",
      "   0.99324558  0.8493487   0.65523195  0.34513178  0.81633987  0.92235607\n",
      "   0.76639358  0.88441724  0.71558986  0.61597998  0.566744    0.90535168\n",
      "   0.45897971  0.          0.50080186  0.77950951  0.93490308  0.84342873\n",
      "   0.82128817  0.9007727   0.79168045  0.37764425  0.87412737  0.74854214\n",
      "   0.91697651  0.87303263  0.42638819  0.27622516  0.86319998  0.97549634\n",
      "   0.65629942  0.92538095  0.422772    0.85733455  0.07087152  1.03051563\n",
      "   0.88308955  0.78765709  0.81926955  0.67541972  0.60311749  0.81505374\n",
      "   0.46897294  0.6383852   0.67170178  1.00391025  0.07949344  0.49633424\n",
      "   0.43753501  0.97418134  0.85151981  0.86100209]\n",
      " [ 0.09947285  0.78197489  0.29435776  0.10942733  0.24222033  0.64330398\n",
      "   0.04480825  0.55765976  0.34655202  0.54225768  0.36556026  0.46549039\n",
      "   0.95366579  0.84031763  0.22691117  0.36833864  0.60377082  0.61814017\n",
      "   0.25636314  0.55815279  1.01307718  0.73950108  0.14386469  0.49305021\n",
      "   0.92174258  0.8201558   0.96152842  0.94630794  0.71319266  0.2565973\n",
      "   0.48416768  0.92875662  0.15636244  0.56005093  0.96085157  0.24973839\n",
      "   0.90937957  0.45523671  0.80492347  0.64230334  0.64486689  0.53876615\n",
      "   0.82370286  0.4802784   0.666805    0.44323133  0.47070304  0.94748752\n",
      "   0.82139624  1.02774697  0.53084029  0.58394312  0.59060814  0.78232365\n",
      "   0.41751433  1.02479294  0.67203837  0.81196784  0.06595003  0.66821297\n",
      "   0.32263701  0.50080186  0.          0.98251737  1.00576768  1.03005387\n",
      "   0.32589397  0.81074951  0.69748893  0.72398578  1.01824855  0.24793575\n",
      "   0.73486278  0.40525362  0.74716149  0.24443243  0.97284132  0.9492275\n",
      "   0.51692758  1.01961333  0.48173189  0.53992465  0.5684586   0.79148195\n",
      "   0.95243487  0.89583254  0.73670618  0.4970542   0.30680096  0.96353334\n",
      "   0.16672414  0.44878267  0.337604    0.64694315  0.57919146  0.30620998\n",
      "   0.68144947  0.97213516  0.86061018  0.56973773]\n",
      " [ 0.88307955  0.21217414  1.07758061  0.94574797  0.74823706  0.83065306\n",
      "   0.93887336  0.43914968  0.66045653  0.73044851  0.69582151  0.82668934\n",
      "   0.47275956  0.14483621  1.01168059  0.74872891  0.38082415  0.54683338\n",
      "   0.78047491  0.48482308  0.03494291  0.51739309  1.05471834  0.5017905\n",
      "   0.91402463  0.16340132  0.43222026  0.1821356   0.85856156  0.82354566\n",
      "   0.79719656  0.58789181  0.87600718  0.99682063  0.49539365  1.0847729\n",
      "   0.73311706  0.93156772  0.2928997   0.59144417  0.79686107  0.54175435\n",
      "   0.16173964  0.50310783  0.38268824  0.60312687  0.76949952  0.4344197\n",
      "   0.67012595  0.07649941  0.56362535  0.44920664  0.69922667  0.59554579\n",
      "   0.86150607  0.14346624  0.4365245   0.17506893  1.0237851   0.73872824\n",
      "   0.66976457  0.77950951  0.98251737  0.          0.26948006  0.06596181\n",
      "   1.1575487   0.51201484  0.50413241  0.41847598  0.13242855  1.14417281\n",
      "   0.65862944  1.10742748  0.36512857  0.7944613   0.18003762  0.43636101\n",
      "   0.58290703  0.23033273  0.50089654  0.84352661  0.75072993  0.79195788\n",
      "   0.25175878  0.17575681  0.48753606  0.6300186   0.78063153  0.10279526\n",
      "   0.82516883  0.65031744  0.82466356  0.97086399  0.75850818  0.70140335\n",
      "   0.34571093  0.39836669  0.34472004  0.80583516]\n",
      " [ 0.9096053   0.38135528  1.02484858  0.99807477  0.80081652  0.67478997\n",
      "   0.9610127   0.54665233  0.65955179  0.61319205  0.66108205  0.72552707\n",
      "   0.22270973  0.32165205  0.9733983   0.69448841  0.43668553  0.72637136\n",
      "   0.85821639  0.62405516  0.28968734  0.35415212  1.04291005  0.51873541\n",
      "   0.69116234  0.32249728  0.17936906  0.10242979  0.68328015  0.79412847\n",
      "   0.69254591  0.34707117  0.87096623  0.86753672  0.24358829  1.04538976\n",
      "   0.50232754  0.8293507   0.2009809   0.78144145  0.64098292  0.68840235\n",
      "   0.33104475  0.54873845  0.552267    0.71865975  0.67263938  0.18650291\n",
      "   0.46167892  0.21373855  0.49688831  0.59015549  0.5682346   0.40293875\n",
      "   0.77281635  0.13743477  0.34553989  0.3435133   1.032005    0.57744637\n",
      "   0.68419351  0.93490308  1.00576768  0.26948006  0.          0.23026233\n",
      "   1.10598404  0.31607445  0.36633633  0.62325593  0.14545871  1.11477813\n",
      "   0.47907126  1.02702224  0.57257189  0.870671    0.09189378  0.187784\n",
      "   0.51525174  0.04596877  0.56039199  0.71827007  0.92333458  0.59363293\n",
      "   0.05456682  0.15012336  0.33337364  0.55410951  0.74289306  0.16957472\n",
      "   0.83917864  0.59121912  0.76591162  0.81746523  0.93365189  0.70062713\n",
      "   0.50933107  0.14181925  0.16379093  0.67292748]\n",
      " [ 0.93060372  0.27206193  1.1112841   0.99781924  0.79912292  0.83819301\n",
      "   0.98598363  0.49506715  0.70098045  0.74681094  0.73010811  0.84791848\n",
      "   0.44593055  0.20239202  1.04797044  0.77959227  0.4263104   0.61182752\n",
      "   0.83544532  0.54569419  0.06599965  0.51841907  1.09637215  0.54305502\n",
      "   0.90121769  0.218476    0.40366597  0.16145126  0.86090029  0.86026013\n",
      "   0.81731751  0.56608306  0.91784482  1.01251428  0.46803257  1.12123793\n",
      "   0.71635412  0.95341666  0.29940975  0.65706322  0.80409405  0.60391206\n",
      "   0.21895324  0.54977813  0.44596957  0.66204901  0.7911502   0.40792279\n",
      "   0.66068399  0.01656756  0.58891581  0.5099279   0.71181228  0.59001457\n",
      "   0.88592788  0.09389022  0.45264072  0.23299894  1.06892575  0.74391081\n",
      "   0.71328184  0.84342873  1.03005387  0.06596181  0.23026233  0.\n",
      "   1.19188123  0.50396843  0.5112936   0.48431558  0.08489698  1.18289372\n",
      "   0.65776966  1.13533548  0.43094905  0.84929472  0.15005126  0.40963505\n",
      "   0.60839044  0.1867082   0.54999115  0.85910041  0.81576444  0.78683922\n",
      "   0.2250274   0.17544592  0.4901045   0.65453036  0.81526527  0.08838045\n",
      "   0.87010267  0.67884503  0.85534429  0.98008798  0.82369451  0.74245147\n",
      "   0.40791259  0.36770239  0.33408924  0.81914351]\n",
      " [ 0.37654078  0.98344791  0.08129301  0.43526594  0.51102048  0.5447042\n",
      "   0.33805288  0.78562208  0.50463716  0.51594817  0.46196973  0.40155615\n",
      "   0.98914049  1.02801733  0.14999776  0.41472238  0.78550757  0.90485754\n",
      "   0.55988415  0.8159753   1.1913829   0.77467516  0.18215371  0.66037459\n",
      "   0.79569883  1.00637411  1.01046912  1.07356078  0.59855014  0.33565854\n",
      "   0.43399971  0.92423263  0.31260794  0.37340165  0.98881599  0.08394765\n",
      "   0.85115148  0.32018966  0.91801062  0.93923683  0.56333245  0.8144088\n",
      "   1.01298812  0.67506558  0.91157307  0.72018228  0.44397414  0.99571989\n",
      "   0.78635612  1.18547159  0.61204199  0.83328718  0.56919446  0.77946705\n",
      "   0.34586688  1.16234593  0.76212714  1.00415395  0.26188904  0.61310504\n",
      "   0.50786495  0.82128817  0.32589397  1.1575487   1.10598404  1.19188123\n",
      "   0.          0.83844132  0.74732124  0.98844241  1.15855124  0.09409811\n",
      "   0.70969585  0.13759259  0.99992376  0.55088974  1.09929339  0.99680819\n",
      "   0.59295826  1.13180387  0.68862994  0.44658732  0.88660515  0.70661364\n",
      "   1.05848498  1.03153167  0.78516546  0.55202022  0.37696125  1.11231477\n",
      "   0.38408978  0.51801698  0.34076341  0.47648306  0.89811765  0.4671866\n",
      "   0.91432882  1.03210475  0.9442742   0.49328165]\n",
      " [ 0.72622411  0.49141566  0.75961715  0.83431508  0.65891558  0.36124142\n",
      "   0.76840514  0.52463516  0.48132633  0.32393537  0.44519375  0.43974998\n",
      "   0.15081636  0.47101239  0.72254818  0.45325127  0.40082008  0.75099592\n",
      "   0.73749598  0.61799704  0.54364173  0.07134294  0.81148276  0.40055296\n",
      "   0.40315574  0.45686099  0.17441634  0.34313559  0.36725079  0.56553606\n",
      "   0.40647743  0.13502142  0.65880058  0.55994051  0.15276691  0.7898976\n",
      "   0.23189791  0.53729464  0.22918426  0.81225953  0.32801545  0.67771504\n",
      "   0.46853951  0.45400853  0.60046373  0.6642429   0.39447811  0.15989587\n",
      "   0.1581504   0.48981798  0.28432045  0.59452451  0.27246948  0.08750644\n",
      "   0.49334168  0.42879895  0.1856381   0.47294593  0.82015377  0.26410653\n",
      "   0.51843491  0.9007727   0.81074951  0.51201484  0.31607445  0.50396843\n",
      "   0.83844132  0.          0.11708911  0.69929637  0.43165512  0.86443218\n",
      "   0.16316452  0.74188515  0.66221164  0.74664721  0.35933238  0.16062382\n",
      "   0.2955992   0.35687152  0.47815645  0.41688934  0.91354392  0.28319773\n",
      "   0.28937118  0.33626467  0.0825277   0.31450784  0.51192047  0.41761004\n",
      "   0.64999158  0.36216481  0.51231747  0.50297787  0.92633148  0.5148963\n",
      "   0.5631887   0.20196787  0.16990713  0.36917051]\n",
      " [ 0.61112201  0.43545701  0.66694574  0.71801036  0.5418594   0.32714673\n",
      "   0.65460284  0.42658383  0.36456338  0.24700051  0.33242092  0.35941263\n",
      "   0.25648046  0.43128404  0.62308231  0.34746253  0.30806236  0.65569231\n",
      "   0.62087033  0.51969431  0.53826542  0.04886622  0.70591404  0.28845597\n",
      "   0.45011544  0.4135171   0.26854832  0.36042622  0.35576602  0.45726699\n",
      "   0.32632249  0.24912042  0.54754093  0.5062343   0.26343051  0.692762\n",
      "   0.30968271  0.46301446  0.2123547   0.71692998  0.29315335  0.57654817\n",
      "   0.42483472  0.34384892  0.51678617  0.55526055  0.30756126  0.25397963\n",
      "   0.21530568  0.49952188  0.16812772  0.49960067  0.20425858  0.13567411\n",
      "   0.40806435  0.4520984   0.09109333  0.4258297   0.70985847  0.23467087\n",
      "   0.40139853  0.79168045  0.69748893  0.50413241  0.36633633  0.5112936\n",
      "   0.74732124  0.11708911  0.          0.61902406  0.45199847  0.7655366\n",
      "   0.16635009  0.66178758  0.58753715  0.62986885  0.38243433  0.2554481\n",
      "   0.18067154  0.39900795  0.36933274  0.35439404  0.80827165  0.30570339\n",
      "   0.32534917  0.33586423  0.03960087  0.20525039  0.4036943   0.4229821\n",
      "   0.53511719  0.25091198  0.41222225  0.46879453  0.82134095  0.39880922\n",
      "   0.48327746  0.28610707  0.20260865  0.31112494]\n",
      " [ 0.63435636  0.24205344  0.91940578  0.65096943  0.48694583  0.87613696\n",
      "   0.68789845  0.22643788  0.51011271  0.73759097  0.58651296  0.78589438\n",
      "   0.74784543  0.3042451   0.8401781   0.65397933  0.31514582  0.13982687\n",
      "   0.47437221  0.1725026   0.43114698  0.6597902   0.83797495  0.39903898\n",
      "   1.06608448  0.30091932  0.72111409  0.52159391  0.93129082  0.6717497\n",
      "   0.76841041  0.82329922  0.67600096  0.97121594  0.7687671   0.9054391\n",
      "   0.92497826  0.87239415  0.49799752  0.17422635  0.84899747  0.18671661\n",
      "   0.29296646  0.35265651  0.10374973  0.28097094  0.73521847  0.7152749\n",
      "   0.83381612  0.49302887  0.55380878  0.15975298  0.73570495  0.75269197\n",
      "   0.79389283  0.54186968  0.52815749  0.27997984  0.78166268  0.81197064\n",
      "   0.49172884  0.37764425  0.72398578  0.41847598  0.62325593  0.48431558\n",
      "   0.98844241  0.69929637  0.61902406  0.          0.53072127  0.9432859\n",
      "   0.77949639  0.98852607  0.05339289  0.48809154  0.53837767  0.71769887\n",
      "   0.56586998  0.60202435  0.3282719   0.83728972  0.33787579  0.91539398\n",
      "   0.57871323  0.4741302   0.63068535  0.60633152  0.65190169  0.47527122\n",
      "   0.60610724  0.59392786  0.71814123  0.98915952  0.34417204  0.53712901\n",
      "   0.13631219  0.70111717  0.59069301  0.81949569]\n",
      " [ 0.91935319  0.29950749  1.07741528  0.99487456  0.79515834  0.77619896\n",
      "   0.97365455  0.50566314  0.68003793  0.6941891   0.69963579  0.79991004\n",
      "   0.36334898  0.23007724  1.01803099  0.7439728   0.41873662  0.64969109\n",
      "   0.83972192  0.56801268  0.14678589  0.45330597  1.0742951   0.52566901\n",
      "   0.82381352  0.23983115  0.32065531  0.09162306  0.79425479  0.83209021\n",
      "   0.76826947  0.48507789  0.89705602  0.95761127  0.38516972  1.09120769\n",
      "   0.63728456  0.90548059  0.24585048  0.69936097  0.74201128  0.62956632\n",
      "   0.24435148  0.5412075   0.47789361  0.67746163  0.7440408   0.3256624\n",
      "   0.58620009  0.06834048  0.54841164  0.53235908  0.65555246  0.51877791\n",
      "   0.84139115  0.01141731  0.40398005  0.25865469  1.0527185   0.68035124\n",
      "   0.69698764  0.87412737  1.01824855  0.13242855  0.14545871  0.08489698\n",
      "   1.15855124  0.43165512  0.45199847  0.53072127  0.          1.15592158\n",
      "   0.58966525  1.09378611  0.4776916   0.85316414  0.07232513  0.32727357\n",
      "   0.56783294  0.10189933  0.54575694  0.80485125  0.85257944  0.71474607\n",
      "   0.1452147   0.12704307  0.42679577  0.61216138  0.78448062  0.05953661\n",
      "   0.85474298  0.64121215  0.81886698  0.91898524  0.86150013  0.72187312\n",
      "   0.43687661  0.28416883  0.26265683  0.76281746]\n",
      " [ 0.31453047  0.96016153  0.12381842  0.35548801  0.45792311  0.59845551\n",
      "   0.26837817  0.75141733  0.48398392  0.54882774  0.45672976  0.43971524\n",
      "   1.01499007  1.00957137  0.14245638  0.42088701  0.76595606  0.85031015\n",
      "   0.49547735  0.77192206  1.17720375  0.7975106   0.10807967  0.64258622\n",
      "   0.86079992  0.98819975  1.03284046  1.07412017  0.657796    0.3238362\n",
      "   0.4699502   0.96013268  0.27357221  0.44526435  1.0167156   0.07673837\n",
      "   0.90015951  0.37457627  0.92101282  0.88030518  0.61303156  0.76373216\n",
      "   0.99389909  0.64935899  0.87305338  0.66811215  0.47362756  1.01812573\n",
      "   0.82841044  1.17771207  0.61789519  0.79241385  0.60261     0.81280694\n",
      "   0.3824954   1.16057683  0.76923979  0.98405518  0.18203198  0.65701408\n",
      "   0.4795218   0.74854214  0.24793575  1.14417281  1.11477813  1.18289372\n",
      "   0.09409811  0.86443218  0.7655366   0.9432859   1.15592158  0.\n",
      "   0.74773991  0.22132151  0.95920989  0.48512257  1.10032534  1.01940667\n",
      "   0.59965502  1.13733128  0.65949077  0.49553924  0.81572438  0.76029574\n",
      "   1.06513866  1.02916299  0.80449786  0.56322395  0.37272198  1.10673517\n",
      "   0.33840955  0.52366073  0.35336447  0.54712448  0.82666383  0.44364833\n",
      "   0.87995122  1.05163525  0.95610624  0.53935721]\n",
      " [ 0.66256946  0.60180555  0.63442096  0.77812458  0.62763651  0.20011247\n",
      "   0.69613304  0.57610961  0.44355929  0.20024037  0.38231331  0.30901898\n",
      "   0.29796603  0.59594944  0.60966163  0.36654146  0.465052    0.80483535\n",
      "   0.71383883  0.66724956  0.6917786   0.1415057   0.70999446  0.41865323\n",
      "   0.28659073  0.57873879  0.33027159  0.49928137  0.20499702  0.4789924\n",
      "   0.27788035  0.21473971  0.57857177  0.40301244  0.29152027  0.67132838\n",
      "   0.18076286  0.39553617  0.36639712  0.86547098  0.16802975  0.71957829\n",
      "   0.59015814  0.47645813  0.67626276  0.68444962  0.27627654  0.3165701\n",
      "   0.08666977  0.64448661  0.26181756  0.65103539  0.14728708  0.07907661\n",
      "   0.36592473  0.58767219  0.25582304  0.59161358  0.73225303  0.104991\n",
      "   0.4849198   0.91697651  0.73486278  0.65862944  0.47907126  0.65776966\n",
      "   0.70969585  0.16316452  0.16635009  0.77949639  0.58966525  0.74773991\n",
      "   0.          0.60141798  0.7505106   0.72036625  0.5175612   0.31680718\n",
      "   0.26230873  0.5192447   0.50401519  0.26942072  0.94177501  0.13935437\n",
      "   0.45016408  0.48490439  0.17220861  0.25486355  0.42807372  0.56990048\n",
      "   0.58717948  0.30179352  0.40838626  0.34043979  0.95524986  0.46714556\n",
      "   0.64488222  0.36162434  0.32720126  0.22079247]\n",
      " [ 0.42651132  0.94985515  0.11335662  0.51146209  0.53789785  0.42282655\n",
      "   0.4031923   0.77247173  0.48244195  0.41867868  0.42023601  0.30325031\n",
      "   0.8909521   0.98671281  0.18126367  0.3603922   0.75043082  0.92197165\n",
      "   0.60315675  0.81754684  1.14202415  0.6829059   0.27397543  0.62651134\n",
      "   0.66273208  0.9649975   0.91606666  1.00551554  0.47093248  0.31678399\n",
      "   0.33664087  0.8156461   0.336212    0.23884876  0.888319    0.16643502\n",
      "   0.73025632  0.20598308  0.84887745  0.96337512  0.44520145  0.82681254\n",
      "   0.97282915  0.65235282  0.90237426  0.73725397  0.35442087  0.90142809\n",
      "   0.67278273  1.1273178   0.54660793  0.82939943  0.46941676  0.67534381\n",
      "   0.25424957  1.09640399  0.69056654  0.96558717  0.34987699  0.5001391\n",
      "   0.49687556  0.87303263  0.40525362  1.10742748  1.02702224  1.13533548\n",
      "   0.13759259  0.74188515  0.66178758  0.98852607  1.09378611  0.22132151\n",
      "   0.60141798  0.          0.9926873   0.5968677   1.0303372   0.90228092\n",
      "   0.52711556  1.05670862  0.67060078  0.33241269  0.93363719  0.58271689\n",
      "   0.98273287  0.96788266  0.69749232  0.48177042  0.34163653  1.0519938\n",
      "   0.40873709  0.45716094  0.28516649  0.34176028  0.94609853  0.45181283\n",
      "   0.89863415  0.94081464  0.86339966  0.38084912]\n",
      " [ 0.6547035   0.1924076   0.92864535  0.67973723  0.50687232  0.85723796\n",
      "   0.70936049  0.22120342  0.51095645  0.72134032  0.58308153  0.77675683\n",
      "   0.70371116  0.25229305  0.85060472  0.64997972  0.29075439  0.1882717\n",
      "   0.50285646  0.18910477  0.37815806  0.62637531  0.85544018  0.3872537\n",
      "   1.03680335  0.2500887   0.67561021  0.47058088  0.90978176  0.67672506\n",
      "   0.75738148  0.78338881  0.6887488   0.96242321  0.72498787  0.91773084\n",
      "   0.89028935  0.86696588  0.45457715  0.22694602  0.82893299  0.21842997\n",
      "   0.24165678  0.34622509  0.09058977  0.30782786  0.72434931  0.67032875\n",
      "   0.80103087  0.439636    0.53525197  0.16691334  0.71574994  0.71945263\n",
      "   0.78854719  0.48886984  0.49644599  0.229063    0.80268606  0.78886889\n",
      "   0.49665599  0.42638819  0.74716149  0.36512857  0.57257189  0.43094905\n",
      "   0.99992376  0.66221164  0.58753715  0.05339289  0.4776916   0.95920989\n",
      "   0.7505106   0.9926873   0.          0.51686983  0.48675649  0.67274212\n",
      "   0.54866011  0.55030228  0.32433478  0.824357    0.38941788  0.88788829\n",
      "   0.52904943  0.4241267   0.59655183  0.59118946  0.65293785  0.42258833\n",
      "   0.62085732  0.58294925  0.7171108   0.97491097  0.39614781  0.54107734\n",
      "   0.10745765  0.65437421  0.54654774  0.80376346]\n",
      " [ 0.17456572  0.58431061  0.49953072  0.16299611  0.09333375  0.69557235\n",
      "   0.21681945  0.35541192  0.27683246  0.56280455  0.34760181  0.53278564\n",
      "   0.870877    0.64962511  0.41959727  0.39204412  0.4373187   0.37499239\n",
      "   0.01425192  0.33152821  0.82167353  0.6778538   0.37713222  0.35985023\n",
      "   0.96248898  0.63162098  0.86792055  0.79444132  0.76664562  0.32378123\n",
      "   0.53673973  0.87832478  0.26267545  0.68299847  0.88324307  0.4680606\n",
      "   0.9009958   0.56967483  0.67413992  0.39788933  0.68494043  0.30137524\n",
      "   0.63272243  0.32220259  0.44405706  0.2090768   0.51067809  0.85543547\n",
      "   0.80406782  0.84992789  0.46829887  0.36210042  0.59695197  0.74495266\n",
      "   0.50511225  0.86138738  0.5752088   0.61949121  0.30787362  0.68558208\n",
      "   0.23547778  0.27622516  0.24443243  0.7944613   0.870671    0.84929472\n",
      "   0.55088974  0.74664721  0.62986885  0.48809154  0.85316414  0.48512257\n",
      "   0.72036625  0.5968677   0.51686983  0.          0.82009154  0.85754437\n",
      "   0.46236378  0.87491106  0.31085341  0.60791169  0.33765332  0.81428417\n",
      "   0.81610761  0.74065507  0.66490271  0.46578071  0.34516777  0.79490009\n",
      "   0.19483958  0.42050281  0.40949325  0.74696469  0.34979666  0.25771044\n",
      "   0.46629228  0.86941086  0.74811402  0.61996503]\n",
      " [ 0.87476474  0.29804403  1.01802401  0.95587436  0.75656505  0.70516714\n",
      "   0.92806894  0.48216369  0.63030535  0.62649584  0.64361322  0.73397467\n",
      "   0.29640485  0.2345294   0.96102486  0.68465237  0.38277866  0.6474499\n",
      "   0.80705719  0.55316855  0.20335467  0.38190055  1.02191199  0.48010791\n",
      "   0.75255665  0.2379324   0.25460555  0.02656007  0.72226711  0.77679291\n",
      "   0.70194055  0.41603205  0.84613549  0.88860303  0.31869473  1.03396244\n",
      "   0.56678583  0.83935633  0.18171976  0.70068733  0.67098643  0.61664839\n",
      "   0.24543439  0.50190355  0.47332079  0.6552211   0.67867245  0.25824871\n",
      "   0.51410173  0.13437911  0.48746183  0.51827012  0.58650952  0.44645689\n",
      "   0.77699161  0.0702814   0.33978907  0.2586645   1.00420512  0.60901833\n",
      "   0.65029916  0.86319998  0.97284132  0.18003762  0.09189378  0.15005126\n",
      "   1.09929339  0.35933238  0.38243433  0.53837767  0.07232513  1.10032534\n",
      "   0.5175612   1.0303372   0.48675649  0.82009154  0.          0.2600185\n",
      "   0.50670747  0.06373141  0.5096807   0.73628342  0.84736992  0.64243937\n",
      "   0.0749777   0.07946371  0.35595076  0.54974666  0.72781282  0.07824506\n",
      "   0.80764899  0.58127724  0.75875444  0.84807999  0.85714407  0.67207046\n",
      "   0.43078543  0.21951403  0.19043146  0.69355067]\n",
      " [ 0.85977725  0.48401861  0.91737711  0.961878    0.7755577   0.51691702\n",
      "   0.90566966  0.58400123  0.60860224  0.48391968  0.58602234  0.59973447\n",
      "   0.03644016  0.44229093  0.87706349  0.60282465  0.45945349  0.79571591\n",
      "   0.84689016  0.67349538  0.46244365  0.2223192   0.96135909  0.49865727\n",
      "   0.50424031  0.4347245   0.01379376  0.25423998  0.5142891   0.71258755\n",
      "   0.56638964  0.15928718  0.80157186  0.71850232  0.05903847  0.94576834\n",
      "   0.31493161  0.69789144  0.220985    0.8553522   0.48456047  0.73720741\n",
      "   0.44568501  0.54405103  0.62927424  0.74343577  0.55307501  0.00243262\n",
      "   0.28264715  0.39360921  0.41855596  0.64424798  0.43293192  0.23773334\n",
      "   0.65265124  0.32104295  0.28350536  0.45450157  0.96422684  0.4209095\n",
      "   0.64165953  0.97549634  0.9492275   0.43636101  0.187784    0.40963505\n",
      "   0.99680819  0.16062382  0.2554481   0.71769887  0.32727357  1.01940667\n",
      "   0.31680718  0.90228092  0.67274212  0.85754437  0.2600185   0.\n",
      "   0.43333846  0.2335211   0.56357681  0.57725399  0.97741668  0.4156422\n",
      "   0.18544506  0.27292759  0.21592105  0.4606827   0.65905936  0.33384251\n",
      "   0.78467429  0.50581212  0.66614751  0.65643011  0.98925899  0.6459339\n",
      "   0.58766989  0.04814048  0.12781519  0.52933135]\n",
      " [ 0.43071635  0.44813871  0.51166529  0.53912925  0.37109041  0.31050477\n",
      "   0.47394599  0.34402719  0.18846958  0.17275841  0.15270059  0.24673969\n",
      "   0.43675116  0.47188946  0.45814664  0.17931909  0.26174212  0.56431292\n",
      "   0.45487276  0.42783312  0.61774955  0.2243254   0.53188022  0.17163186\n",
      "   0.5305965   0.45063905  0.44595927  0.48120257  0.36872049  0.28191652\n",
      "   0.22017365  0.42091661  0.36826299  0.42682649  0.44410142  0.53023717\n",
      "   0.44118366  0.34994229  0.32516343  0.62298347  0.28457509  0.4727158\n",
      "   0.45988386  0.22734953  0.46330517  0.42685427  0.18966702  0.43168963\n",
      "   0.34319942  0.60021891  0.01949297  0.41889715  0.17216219  0.28284736\n",
      "   0.27860004  0.57099165  0.16981313  0.45512575  0.53099     0.25601064\n",
      "   0.22801385  0.65629942  0.51692758  0.58290703  0.51525174  0.60839044\n",
      "   0.59295826  0.2955992   0.18067154  0.56586998  0.56783294  0.59965502\n",
      "   0.26230873  0.52711556  0.54866011  0.46236378  0.50670747  0.43333846\n",
      "   0.          0.53923752  0.25542677  0.2795863   0.68443366  0.37608084\n",
      "   0.46631733  0.44133472  0.21978557  0.04770915  0.22924979  0.52491461\n",
      "   0.35458433  0.07599444  0.25220974  0.42718581  0.69806156  0.21971642\n",
      "   0.44175108  0.45935313  0.3569646   0.25529686]\n",
      " [ 0.92238901  0.36176751  1.05054034  1.00710632  0.80852519  0.7131089\n",
      "   0.97480552  0.54187761  0.67469476  0.64588457  0.68167678  0.7567219\n",
      "   0.26860715  0.29801901  0.99671375  0.71845317  0.43812294  0.71092624\n",
      "   0.86210785  0.61495084  0.24806134  0.39064993  1.06248538  0.52880715\n",
      "   0.7363232   0.30166245  0.22528745  0.08422638  0.72397721  0.81504388\n",
      "   0.72402151  0.39278557  0.88857754  0.90326483  0.28954779  1.06918111\n",
      "   0.54773822  0.86127265  0.21702536  0.7643497   0.67913403  0.6787119\n",
      "   0.30911595  0.55454468  0.53673841  0.71481715  0.70284054  0.23219247\n",
      "   0.50511199  0.17014065  0.5204305   0.58028169  0.60251901  0.44418631\n",
      "   0.80251098  0.09301027  0.36968801  0.32238377  1.04838588  0.61592895\n",
      "   0.69710824  0.92538095  1.01961333  0.23033273  0.04596877  0.1867082\n",
      "   1.13180387  0.35687152  0.39900795  0.60202435  0.10189933  1.13733128\n",
      "   0.5192447   1.05670862  0.55030228  0.87491106  0.06373141  0.2335211\n",
      "   0.53923752  0.          0.56406093  0.75279063  0.91045148  0.63652698\n",
      "   0.07400281  0.13826133  0.36803986  0.57995307  0.76471065  0.13478515\n",
      "   0.85352741  0.61487885  0.79112841  0.8560452   0.92032109  0.71619063\n",
      "   0.49412089  0.18777775  0.19734552  0.7082274 ]\n",
      " [ 0.38236178  0.30277977  0.61360672  0.44935414  0.24979011  0.56213478\n",
      "   0.43832059  0.10319349  0.18821095  0.41968815  0.25900904  0.45833534\n",
      "   0.58193807  0.35871179  0.53867868  0.32622074  0.12726084  0.30914871\n",
      "   0.29811657  0.1739945   0.53134655  0.41767466  0.5626964   0.08558844\n",
      "   0.78289632  0.33843952  0.57256715  0.48387474  0.62324079  0.35718283\n",
      "   0.44229774  0.61315521  0.38610509  0.6432901   0.5972761   0.60910358\n",
      "   0.67336022  0.54426031  0.36637026  0.36755934  0.53832391  0.21758316\n",
      "   0.34217398  0.02810469  0.23377598  0.18618517  0.40910475  0.56131447\n",
      "   0.57539642  0.54867705  0.24850133  0.17093894  0.4271375   0.50167537\n",
      "   0.46574949  0.55345182  0.29348498  0.33073091  0.52502219  0.51124911\n",
      "   0.18098633  0.422772    0.48173189  0.50089654  0.56039199  0.54999115\n",
      "   0.68862994  0.47815645  0.36933274  0.3282719   0.54575694  0.65949077\n",
      "   0.50401519  0.67060078  0.32433478  0.31085341  0.5096807   0.56357681\n",
      "   0.25542677  0.56406093  0.          0.51291638  0.43982718  0.62832713\n",
      "   0.50586858  0.43033715  0.39650713  0.288762    0.32947935  0.48859099\n",
      "   0.32792831  0.26901829  0.39280441  0.66574574  0.45307683  0.22204487\n",
      "   0.2281245   0.569281    0.44610055  0.49953065]\n",
      " [ 0.49386545  0.72632981  0.37582877  0.61124114  0.51843839  0.10563025\n",
      "   0.50998543  0.61139575  0.36244068  0.11319813  0.27635661  0.07667262\n",
      "   0.56297129  0.74500445  0.36705282  0.21813341  0.54088772  0.81647885\n",
      "   0.60647784  0.68586589  0.87839552  0.36499653  0.4782419   0.43831161\n",
      "   0.38246617  0.72431858  0.59102169  0.71359688  0.17347985  0.29652536\n",
      "   0.07394309  0.48327585  0.39142695  0.15345582  0.55877912  0.41901304\n",
      "   0.40538786  0.12736463  0.56070674  0.87110195  0.11756255  0.71992455\n",
      "   0.73420792  0.48654875  0.73676765  0.65347584  0.10570412  0.57662668\n",
      "   0.34100203  0.84853407  0.29593891  0.68344049  0.15028001  0.34489064\n",
      "   0.1234748   0.8055125   0.40731635  0.73065805  0.51903698  0.16786972\n",
      "   0.39964721  0.85733455  0.53992465  0.84352661  0.71827007  0.85910041\n",
      "   0.44658732  0.41688934  0.35439404  0.83728972  0.80485125  0.49553924\n",
      "   0.26942072  0.33241269  0.824357    0.60791169  0.73628342  0.57725399\n",
      "   0.2795863   0.75279063  0.51291638  0.          0.90030378  0.26533281\n",
      "   0.67942831  0.68457674  0.3850026   0.23417948  0.26352226  0.77166399\n",
      "   0.42936575  0.24396969  0.20731116  0.15301494  0.91403264  0.36101455\n",
      "   0.71847174  0.61852238  0.55557985  0.04864651]\n",
      " [ 0.51170099  0.55323923  0.83715857  0.46546746  0.40142762  0.97196199\n",
      "   0.5490856   0.39384977  0.53847012  0.82950539  0.62408853  0.8307798\n",
      "   1.00131794  0.62256094  0.75722977  0.68400768  0.51937459  0.2039383\n",
      "   0.33059098  0.30428552  0.76632822  0.85615238  0.70895131  0.5239996\n",
      "   1.21476819  0.61341825  0.98410001  0.82662817  1.0391802   0.64418863\n",
      "   0.82639426  1.04778677  0.5978429   0.99877465  1.01923845  0.80454472\n",
      "   1.11310999  0.88667281  0.76048882  0.16552065  0.95376845  0.24022076\n",
      "   0.60828919  0.46654791  0.37501382  0.2576605   0.79574905  0.97502113\n",
      "   1.01501004  0.82288225  0.68147005  0.33549849  0.84931416  0.94143137\n",
      "   0.81496946  0.86322277  0.72793013  0.59404695  0.63431593  0.93749113\n",
      "   0.50066686  0.07087152  0.5684586   0.75072993  0.92333458  0.81576444\n",
      "   0.88660515  0.91354392  0.80827165  0.33787579  0.85257944  0.81572438\n",
      "   0.94177501  0.93363719  0.38941788  0.33765332  0.84736992  0.97741668\n",
      "   0.68443366  0.91045148  0.43982718  0.90030378  0.          1.06042054\n",
      "   0.87300297  0.77418881  0.8333452   0.70758276  0.65180681  0.79430131\n",
      "   0.52667564  0.67365153  0.72142086  1.04919336  0.01377258  0.54080205\n",
      "   0.41694543  0.97260924  0.85140017  0.90079283]\n",
      " [ 0.73185013  0.74115977  0.63929465  0.84993887  0.72099265  0.16216526\n",
      "   0.75712256  0.70695033  0.54065603  0.25472252  0.46706156  0.33078631\n",
      "   0.38862825  0.73454803  0.63208289  0.43342258  0.60030224  0.93400269\n",
      "   0.80950742  0.79632735  0.82443189  0.27830806  0.74195252  0.54284198\n",
      "   0.15464296  0.71760638  0.42782914  0.62628046  0.1167604   0.53702762\n",
      "   0.30804032  0.27507769  0.63703228  0.35479499  0.37553876  0.68395733\n",
      "   0.15008375  0.38723285  0.50168308  0.99399248  0.14928373  0.84569894\n",
      "   0.72906684  0.60031702  0.8118303   0.80290995  0.32128239  0.41606096\n",
      "   0.13300433  0.77285202  0.38033034  0.78234689  0.21748938  0.1968926\n",
      "   0.38553712  0.71167901  0.39482622  0.73073205  0.77768886  0.12879524\n",
      "   0.58241206  1.03051563  0.79148195  0.79195788  0.59363293  0.78683922\n",
      "   0.70661364  0.28319773  0.30570339  0.91539398  0.71474607  0.76029574\n",
      "   0.13935437  0.58271689  0.88788829  0.81428417  0.64243937  0.4156422\n",
      "   0.37608084  0.63652698  0.62832713  0.26533281  1.06042054  0.\n",
      "   0.57158124  0.61682379  0.30958745  0.35549471  0.49217778  0.69994667\n",
      "   0.65996046  0.39606514  0.45403665  0.26667579  1.07406636  0.55661945\n",
      "   0.78166839  0.46342401  0.45299594  0.2253559 ]\n",
      " [ 0.85598262  0.33678664  0.97724625  0.94378634  0.74636693  0.64184903\n",
      "   0.90765689  0.49358352  0.6064958   0.57209627  0.61024806  0.68274183\n",
      "   0.22187742  0.28130067  0.92419301  0.64562362  0.38241953  0.67764229\n",
      "   0.80365995  0.57237853  0.27706429  0.31862955  0.99169296  0.46447856\n",
      "   0.67860348  0.27959731  0.18062076  0.07024732  0.65515927  0.7435117\n",
      "   0.65006288  0.34105896  0.81885891  0.83031095  0.24431277  0.99649601\n",
      "   0.49222401  0.78734172  0.1475442   0.73361927  0.60777517  0.63687654\n",
      "   0.28898361  0.49417369  0.50398185  0.66518362  0.62883813  0.1836191\n",
      "   0.44190128  0.20930642  0.44765241  0.53885533  0.52914994  0.37686341\n",
      "   0.7285253   0.1408387   0.29656297  0.30059678  0.9794723   0.54491857\n",
      "   0.63053909  0.88308955  0.95243487  0.25175878  0.05456682  0.2250274\n",
      "   1.05848498  0.28937118  0.32534917  0.57871323  0.1452147   1.06513866\n",
      "   0.45016408  0.98273287  0.52904943  0.81610761  0.0749777   0.18544506\n",
      "   0.46631733  0.07400281  0.50586858  0.67942831  0.87300297  0.57158124\n",
      "   0.          0.10514374  0.29509606  0.50650705  0.69274606  0.14897383\n",
      "   0.78594896  0.54211382  0.71792086  0.78488259  0.88353287  0.64772237\n",
      "   0.46099648  0.1467142   0.12478662  0.63517371]\n",
      " [ 0.79742264  0.2320807   0.95040922  0.87710587  0.67765465  0.66285069\n",
      "   0.85110939  0.40377308  0.55505293  0.57273432  0.57272165  0.67605427\n",
      "   0.30846502  0.17651762  0.89105397  0.6169983   0.30335686  0.57639883\n",
      "   0.72760745  0.47700828  0.20764101  0.34443246  0.94840684  0.40279193\n",
      "   0.73841965  0.17446507  0.27145139  0.05446908  0.68679753  0.70532915\n",
      "   0.64487494  0.41694982  0.77167482  0.83788325  0.33124361  0.96421483\n",
      "   0.55868473  0.78167607  0.12409608  0.63131967  0.62877448  0.54095614\n",
      "   0.18385333  0.42294903  0.40222742  0.57678194  0.61973881  0.27074724\n",
      "   0.49436927  0.1640847   0.42187945  0.44252885  0.5366978   0.42015593\n",
      "   0.71620952  0.1314205   0.27974651  0.19547412  0.92852777  0.56889692\n",
      "   0.57361542  0.78765709  0.89583254  0.17575681  0.15012336  0.17544592\n",
      "   1.03153167  0.33626467  0.33586423  0.4741302   0.12704307  1.02916299\n",
      "   0.48490439  0.96788266  0.4241267   0.74065507  0.07946371  0.27292759\n",
      "   0.44133472  0.13826133  0.43033715  0.68457674  0.77418881  0.61682379\n",
      "   0.10514374  0.          0.31548787  0.48611397  0.6575091   0.08726244\n",
      "   0.731241    0.51435836  0.69198278  0.80465407  0.78432945  0.5968872\n",
      "   0.35931942  0.24242221  0.16968699  0.64407878]\n",
      " [ 0.64983558  0.43580856  0.70499015  0.75598578  0.5778348   0.34941242\n",
      "   0.69371215  0.44696331  0.40218186  0.28055605  0.37183126  0.39449565\n",
      "   0.21705375  0.42522581  0.66205824  0.38691848  0.32503967  0.67491651\n",
      "   0.65558541  0.54039123  0.52106323  0.03143514  0.74544323  0.31815711\n",
      "   0.4472922   0.40870541  0.22906988  0.33526519  0.3713979   0.49686278\n",
      "   0.36121489  0.21722714  0.58704757  0.53525638  0.22449921  0.73147593\n",
      "   0.2943004   0.49705668  0.19472792  0.73623397  0.31522502  0.59897533\n",
      "   0.42024416  0.37200493  0.52982934  0.58268491  0.34389341  0.21447405\n",
      "   0.20517985  0.47757673  0.20665766  0.51838241  0.23487129  0.12336736\n",
      "   0.44438794  0.42611024  0.10640884  0.42257082  0.74941038  0.25400438\n",
      "   0.43833926  0.81926955  0.73670618  0.48753606  0.33337364  0.4901045\n",
      "   0.78516546  0.0825277   0.03960087  0.63068535  0.42679577  0.80449786\n",
      "   0.17220861  0.69749232  0.59655183  0.66490271  0.35595076  0.21592105\n",
      "   0.21978557  0.36803986  0.39650713  0.3850026   0.8333452   0.30958745\n",
      "   0.29509606  0.31548787  0.          0.24482539  0.44328516  0.40177557\n",
      "   0.57394434  0.29048954  0.45113687  0.49220256  0.84624415  0.43709101\n",
      "   0.49440762  0.24736285  0.1707003   0.34018757]\n",
      " [ 0.41599664  0.49531555  0.47081812  0.52846887  0.3728748   0.27337407\n",
      "   0.45538499  0.38221426  0.18898167  0.13158807  0.13255501  0.19904241\n",
      "   0.46082943  0.51959505  0.42098548  0.14285848  0.30677652  0.59760036\n",
      "   0.45957912  0.46262354  0.66489022  0.24367671  0.50073596  0.20830451\n",
      "   0.50865451  0.49833709  0.4737348   0.52455298  0.33547754  0.25211332\n",
      "   0.17281202  0.43255863  0.34430282  0.37979727  0.46615593  0.49212356\n",
      "   0.43562486  0.30232124  0.36802884  0.65516065  0.25012418  0.50395114\n",
      "   0.50756118  0.26109246  0.50459849  0.45120897  0.14201592  0.45919658\n",
      "   0.33967308  0.64606941  0.06654064  0.45616587  0.14178511  0.28843678\n",
      "   0.23163886  0.61498357  0.21054137  0.50273482  0.50579043  0.23010058\n",
      "   0.23057684  0.67541972  0.4970542   0.6300186   0.55410951  0.65453036\n",
      "   0.55202022  0.31450784  0.20525039  0.60633152  0.61216138  0.56322395\n",
      "   0.25486355  0.48177042  0.59118946  0.46578071  0.54974666  0.4606827\n",
      "   0.04770915  0.57995307  0.288762    0.23417948  0.70758276  0.35549471\n",
      "   0.50650705  0.48611397  0.24482539  0.          0.19849683  0.57042185\n",
      "   0.33963588  0.04884075  0.21185648  0.38372184  0.72130475  0.21284984\n",
      "   0.48481567  0.48994004  0.39340916  0.21316429]\n",
      " [ 0.23968101  0.6113347   0.29701894  0.35777451  0.25786283  0.35657068\n",
      "   0.26845491  0.43198642  0.14205242  0.23852365  0.08517001  0.18776385\n",
      "   0.65922881  0.65259516  0.2335509   0.06153769  0.41199956  0.59937606\n",
      "   0.34448924  0.48375821  0.81453187  0.44159678  0.3029097   0.28696572\n",
      "   0.63156206  0.63088835  0.67204847  0.70167674  0.42817353  0.05365396\n",
      "   0.19458693  0.62447627  0.1506178   0.34705493  0.66414625  0.30675286\n",
      "   0.60353636  0.23578051  0.54829211  0.6473943   0.35106825  0.50188626\n",
      "   0.63792317  0.3107299   0.56239538  0.42074432  0.17283174  0.657548\n",
      "   0.51463652  0.80915333  0.24671985  0.4921563   0.28466426  0.47700509\n",
      "   0.16333626  0.78881887  0.39764226  0.62967616  0.30876053  0.36564181\n",
      "   0.1637338   0.60311749  0.30680096  0.78063153  0.74289306  0.81526527\n",
      "   0.37696125  0.51192047  0.4036943   0.65190169  0.78448062  0.37272198\n",
      "   0.42807372  0.34163653  0.65293785  0.34516777  0.72781282  0.65905936\n",
      "   0.22924979  0.76471065  0.32947935  0.26352226  0.65180681  0.49217778\n",
      "   0.69274606  0.6575091   0.44328516  0.19849683  0.          0.73670179\n",
      "   0.16888731  0.15398952  0.07042535  0.40261781  0.66532407  0.11796294\n",
      "   0.55724844  0.68738411  0.58607788  0.28043088]\n",
      " [ 0.86440395  0.24106213  1.03140062  0.93792938  0.73827901  0.74982601\n",
      "   0.91905935  0.44637721  0.62796261  0.65965386  0.65159351  0.76207593\n",
      "   0.37026789  0.17243146  0.9700787   0.69856115  0.36196652  0.59182586\n",
      "   0.78138931  0.50853958  0.12921501  0.43021778  1.02306519  0.47201221\n",
      "   0.81711222  0.18101702  0.32950241  0.07969031  0.77271809  0.78316803\n",
      "   0.73114006  0.48670821  0.84519776  0.92501115  0.39285074  1.04334763\n",
      "   0.63405351  0.86766897  0.21135441  0.64235059  0.71572266  0.57022334\n",
      "   0.18607946  0.48502409  0.41938432  0.61800866  0.70554189  0.33193139\n",
      "   0.57502198  0.07687336  0.50542241  0.47290624  0.62394013  0.5030542\n",
      "   0.80127717  0.06941513  0.36604868  0.20026985  0.99938578  0.65554063\n",
      "   0.64331937  0.81505374  0.96353334  0.10279526  0.16957472  0.08838045\n",
      "   1.11231477  0.41761004  0.4229821   0.47527122  0.05953661  1.10673517\n",
      "   0.56990048  1.0519938   0.42258833  0.79490009  0.07824506  0.33384251\n",
      "   0.52491461  0.13478515  0.48859099  0.77166399  0.79430131  0.69994667\n",
      "   0.14897383  0.08726244  0.40177557  0.57042185  0.73670179  0.\n",
      "   0.8009706   0.59674194  0.77399884  0.89177208  0.80338004  0.66972869\n",
      "   0.37807261  0.29557458  0.2481474   0.73131382]\n",
      " [ 0.07640462  0.6307073   0.3207985   0.19121995  0.12969566  0.52509053\n",
      "   0.12213404  0.41471704  0.17982808  0.40542284  0.20715036  0.35275146\n",
      "   0.79037331  0.68525739  0.23969241  0.22655895  0.44449483  0.52140696\n",
      "   0.19856926  0.43412634  0.85671515  0.57865416  0.23651549  0.32909468\n",
      "   0.80043915  0.66450602  0.79678143  0.78109377  0.59666813  0.13436363\n",
      "   0.36276609  0.77197792  0.0733771   0.49059728  0.79843764  0.30039641\n",
      "   0.76580081  0.37753081  0.63841226  0.55831134  0.51994218  0.43031915\n",
      "   0.66895572  0.32232265  0.53471303  0.33633456  0.34171314  0.78288259\n",
      "   0.67371983  0.86700638  0.36734327  0.45402131  0.44857554  0.62785683\n",
      "   0.31773004  0.86096609  0.505892    0.657977    0.19882585  0.53246317\n",
      "   0.15775562  0.46897294  0.16672414  0.82516883  0.83917864  0.87010267\n",
      "   0.38408978  0.64999158  0.53511719  0.60610724  0.85474298  0.33840955\n",
      "   0.58717948  0.40873709  0.62085732  0.19483958  0.80764899  0.78467429\n",
      "   0.35458433  0.85352741  0.32792831  0.42936575  0.52667564  0.65996046\n",
      "   0.78594896  0.731241    0.57394434  0.33963588  0.16888731  0.8009706\n",
      "   0.          0.29079882  0.22356001  0.56008644  0.53944579  0.1396846\n",
      "   0.54267462  0.80647008  0.6940935   0.44901873]\n",
      " [ 0.36716513  0.50250437  0.43674709  0.47972407  0.32728668  0.29950314\n",
      "   0.40687788  0.36771171  0.14473139  0.15619168  0.08376623  0.19449381\n",
      "   0.50723786  0.53283919  0.38219164  0.10359255  0.30732271  0.57453204\n",
      "   0.41486082  0.44236257  0.68495834  0.29106334  0.45689478  0.19572141\n",
      "   0.54755178  0.5112575   0.51868219  0.55557093  0.36559705  0.20715209\n",
      "   0.17459135  0.48132276  0.29690502  0.37991172  0.5132076   0.45438244\n",
      "   0.48245002  0.2913214   0.40006861  0.63048713  0.28012681  0.47895825\n",
      "   0.51977876  0.24257997  0.49434275  0.41953242  0.14146452  0.50425217\n",
      "   0.3872329   0.67130556  0.09446393  0.43947205  0.1790534   0.33724204\n",
      "   0.21561078  0.64471562  0.24572268  0.51371436  0.45898553  0.26846271\n",
      "   0.18653567  0.6383852   0.44878267  0.65031744  0.59121912  0.67884503\n",
      "   0.51801698  0.36216481  0.25091198  0.59392786  0.64121215  0.52366073\n",
      "   0.30179352  0.45716094  0.58294925  0.42050281  0.58127724  0.50581212\n",
      "   0.07599444  0.61487885  0.26901829  0.24396969  0.67365153  0.39606514\n",
      "   0.54211382  0.51435836  0.29048954  0.04884075  0.15398952  0.59674194\n",
      "   0.29079882  0.          0.1776674   0.3967295   0.68741552  0.16535802\n",
      "   0.47839524  0.53347332  0.43280721  0.23221189]\n",
      " [ 0.2865551   0.6648334   0.25947298  0.40405718  0.32494831  0.30739293\n",
      "   0.30476049  0.49590943  0.20837907  0.20939425  0.13610127  0.13079967\n",
      "   0.66245364  0.70179772  0.21094357  0.07593508  0.46552356  0.66902852\n",
      "   0.40985534  0.55150755  0.85905417  0.44453321  0.30235372  0.34229061\n",
      "   0.58561035  0.68007191  0.67955073  0.73312452  0.37829816  0.08952975\n",
      "   0.14663022  0.61471204  0.18508786  0.27739913  0.66498208  0.28080503\n",
      "   0.57648013  0.16551878  0.57733129  0.71753015  0.30735487  0.57142323\n",
      "   0.68779445  0.37218618  0.62652902  0.49106737  0.13474514  0.66484608\n",
      "   0.49338592  0.84816916  0.27134051  0.5584603   0.26117033  0.46632089\n",
      "   0.09562905  0.82238219  0.4214415   0.6804534   0.32594504  0.33249874\n",
      "   0.2333322   0.67170178  0.337604    0.82466356  0.76591162  0.85534429\n",
      "   0.34076341  0.51231747  0.41222225  0.71814123  0.81886698  0.35336447\n",
      "   0.40838626  0.28516649  0.7171108   0.40949325  0.75875444  0.66614751\n",
      "   0.25220974  0.79112841  0.39280441  0.20731116  0.72142086  0.45403665\n",
      "   0.71792086  0.69198278  0.45113687  0.21185648  0.07042535  0.77399884\n",
      "   0.22356001  0.1776674   0.          0.33776977  0.73489532  0.18787092\n",
      "   0.61912168  0.69832911  0.60514876  0.23268884]\n",
      " [ 0.61703292  0.86881428  0.42353383  0.73081494  0.66045879  0.14304324\n",
      "   0.62360241  0.76365457  0.51315727  0.25484579  0.42688291  0.21841584\n",
      "   0.63518755  0.88220145  0.44298875  0.36518577  0.68882239  0.96941792\n",
      "   0.74684914  0.83884474  1.00537484  0.46654984  0.55854504  0.59014138\n",
      "   0.3216355   0.86214667  0.66971482  0.8274213   0.15040817  0.42584581\n",
      "   0.22572337  0.53372994  0.51111313  0.10310341  0.62600715  0.47564457\n",
      "   0.41601206  0.19174266  0.68095126  1.02382177  0.17716982  0.87275412\n",
      "   0.87251675  0.63923116  0.88804327  0.80499979  0.25832088  0.65631363\n",
      "   0.38507161  0.96825808  0.44213809  0.83609233  0.27354394  0.419149\n",
      "   0.24249455  0.91828348  0.53613878  0.87009984  0.61409821  0.24012105\n",
      "   0.54901782  1.00391025  0.64694315  0.97086399  0.81746523  0.98008798\n",
      "   0.47648306  0.50297787  0.46879453  0.98915952  0.91898524  0.54712448\n",
      "   0.34043979  0.34176028  0.97491097  0.74696469  0.84807999  0.65643011\n",
      "   0.42718581  0.8560452   0.66574574  0.15301494  1.04919336  0.26667579\n",
      "   0.78488259  0.80465407  0.49220256  0.38372184  0.40261781  0.89177208\n",
      "   0.56008644  0.3967295   0.33776977  0.          1.0628736   0.5084589\n",
      "   0.86846085  0.70186335  0.66022113  0.1724242 ]\n",
      " [ 0.52360849  0.56234461  0.84920273  0.47557546  0.41454241  0.98573452\n",
      "   0.56041059  0.40597002  0.55222579  0.84327471  0.63782949  0.84445866\n",
      "   1.01334949  0.63143073  0.76939241  0.69768904  0.53157306  0.21212732\n",
      "   0.34296385  0.31589577  0.773632    0.86916951  0.72007724  0.53736016\n",
      "   1.22842894  0.62261852  0.99585526  0.83659296  1.05294774  0.65744755\n",
      "   0.84012594  1.06049583  0.61044098  1.01226411  1.0313614   0.81621515\n",
      "   1.12640366  0.90011204  0.77198381  0.17072176  0.96753375  0.25207937\n",
      "   0.61731413  0.47986562  0.3843329   0.27125257  0.80949567  0.98686047\n",
      "   1.02833546  0.83101495  0.69503703  0.34668234  0.86304172  0.95462205\n",
      "   0.82851206  0.87219286  0.74073983  0.60311085  0.64509179  0.95119843\n",
      "   0.51439153  0.07949344  0.57919146  0.75850818  0.93365189  0.82369451\n",
      "   0.89811765  0.92633148  0.82134095  0.34417204  0.86150013  0.82666383\n",
      "   0.95524986  0.94609853  0.39614781  0.34979666  0.85714407  0.98925899\n",
      "   0.69806156  0.92032109  0.45307683  0.91403264  0.01377258  1.07406636\n",
      "   0.88353287  0.78432945  0.84624415  0.72130475  0.66532407  0.80338004\n",
      "   0.53944579  0.68741552  0.73489532  1.0628736   0.          0.55446539\n",
      "   0.42648858  0.98409427  0.86307954  0.91456073]\n",
      " [ 0.2138852   0.51760755  0.39158883  0.31945894  0.16451749  0.44137449\n",
      "   0.26176286  0.32180669  0.04184146  0.30555984  0.09008642  0.29005424\n",
      "   0.65262187  0.56592313  0.31747395  0.14337091  0.32230933  0.48141402\n",
      "   0.25338992  0.36737429  0.73410914  0.44377468  0.35392068  0.19969741\n",
      "   0.70498563  0.54455624  0.65789493  0.64552037  0.51169383  0.13576563\n",
      "   0.28753367  0.64036415  0.17552455  0.46144294  0.66142423  0.38887529\n",
      "   0.64780607  0.35200639  0.50021311  0.52967154  0.4286938   0.38394438\n",
      "   0.55026941  0.20791947  0.4509576   0.30351935  0.25856162  0.6441055\n",
      "   0.55242719  0.73823822  0.23070367  0.37771377  0.33941208  0.49960279\n",
      "   0.27675786  0.72757423  0.36626153  0.5405299   0.3322901   0.42788843\n",
      "   0.04596202  0.49633424  0.30620998  0.70140335  0.70062713  0.74245147\n",
      "   0.4671866   0.5148963   0.39880922  0.53712901  0.72187312  0.44364833\n",
      "   0.46714556  0.45181283  0.54107734  0.25771044  0.67207046  0.6459339\n",
      "   0.21971642  0.71619063  0.22204487  0.36101455  0.54080205  0.55661945\n",
      "   0.64772237  0.5968872   0.43709101  0.21284984  0.11796294  0.66972869\n",
      "   0.1396846   0.16535802  0.18787092  0.5084589   0.55446539  0.\n",
      "   0.44951662  0.66700977  0.55443348  0.36686816]\n",
      " [ 0.58512092  0.13768551  0.84053087  0.62584571  0.43927296  0.74988008\n",
      "   0.64101788  0.12881023  0.41632704  0.61449983  0.48374424  0.67271595\n",
      "   0.61656898  0.20805553  0.76436621  0.54980296  0.18333494  0.21708863\n",
      "   0.45204155  0.14067989  0.36756064  0.52360414  0.77914581  0.28327396\n",
      "   0.93140981  0.1970758   0.59194385  0.4107113   0.80233742  0.58504477\n",
      "   0.65240154  0.6881527   0.60685019  0.85828404  0.63699247  0.8335789\n",
      "   0.78868961  0.76503515  0.36681163  0.27269383  0.72149437  0.19607893\n",
      "   0.19284161  0.24696661  0.04298547  0.26322433  0.61950486  0.58523782\n",
      "   0.69779515  0.41287145  0.42807435  0.10610557  0.60833012  0.61655915\n",
      "   0.68686267  0.44730092  0.39228548  0.17845376  0.73262212  0.68153177\n",
      "   0.40687039  0.43753501  0.68144947  0.34571093  0.50933107  0.40791259\n",
      "   0.91432882  0.5631887   0.48327746  0.13631219  0.43687661  0.87995122\n",
      "   0.64488222  0.89863415  0.10745765  0.46629228  0.43078543  0.58766989\n",
      "   0.44175108  0.49412089  0.2281245   0.71847174  0.41694543  0.78166839\n",
      "   0.46099648  0.35931942  0.49440762  0.48481567  0.55724844  0.37807261\n",
      "   0.54267462  0.47839524  0.61912168  0.86846085  0.42648858  0.44951662\n",
      "   0.          0.57433225  0.45997954  0.69699695]\n",
      " [ 0.88074437  0.46329335  0.95213268  0.97987059  0.79006494  0.56151653\n",
      "   0.92814647  0.58116817  0.62847401  0.52213893  0.61174326  0.63769553\n",
      "   0.0811554   0.41644749  0.90917936  0.63273392  0.4587299   0.7861576\n",
      "   0.8582572   0.66833979  0.42285023  0.25817496  0.99025651  0.50956155\n",
      "   0.55189534  0.41088665  0.03781723  0.21685976  0.56089991  0.74062406\n",
      "   0.60429537  0.20617062  0.82706288  0.76175902  0.10177005  0.97880861\n",
      "   0.36239845  0.73743345  0.21212052  0.84487703  0.52878802  0.7326518\n",
      "   0.4214028   0.55155565  0.61664536  0.74509341  0.58938642  0.04748054\n",
      "   0.33042091  0.35144791  0.44345195  0.63766403  0.4722667   0.28272486\n",
      "   0.68953032  0.27729474  0.30110402  0.43126652  0.98987536  0.46495592\n",
      "   0.65966622  0.97418134  0.97213516  0.39836669  0.14181925  0.36770239\n",
      "   1.03210475  0.20196787  0.28610707  0.70111717  0.28416883  1.05163525\n",
      "   0.36162434  0.94081464  0.65437421  0.86941086  0.21951403  0.04814048\n",
      "   0.45935313  0.18777775  0.569281    0.61852238  0.97260924  0.46342401\n",
      "   0.1467142   0.24242221  0.24736285  0.48994004  0.68738411  0.29557458\n",
      "   0.80647008  0.53347332  0.69832911  0.70186335  0.98409427  0.66700977\n",
      "   0.57433225  0.          0.12344605  0.5709999 ]\n",
      " [ 0.76708555  0.3599715   0.86330536  0.86284049  0.67054381  0.51717859\n",
      "   0.81619609  0.45885502  0.51466914  0.44956677  0.50648422  0.56173769\n",
      "   0.15720112  0.32414838  0.8141273   0.53522195  0.33564434  0.66810336\n",
      "   0.73671792  0.54718459  0.37537977  0.19384917  0.88813607  0.38851096\n",
      "   0.56949529  0.31415816  0.13308965  0.1732904   0.5320389   0.63831849\n",
      "   0.52875639  0.25045147  0.71983466  0.70592217  0.17847887  0.88551535\n",
      "   0.38901331  0.66560563  0.09319291  0.72762547  0.48308075  0.61121669\n",
      "   0.32550785  0.42885648  0.50149552  0.6217435   0.50898353  0.12538297\n",
      "   0.32688529  0.31991172  0.33937697  0.51734235  0.4053441   0.25644356\n",
      "   0.60925355  0.2604763   0.18972163  0.33304172  0.88221014  0.42037092\n",
      "   0.54362465  0.85151981  0.86061018  0.34472004  0.16379093  0.33408924\n",
      "   0.9442742   0.16990713  0.20260865  0.59069301  0.26265683  0.95610624\n",
      "   0.32720126  0.86339966  0.54654774  0.74811402  0.19043146  0.12781519\n",
      "   0.3569646   0.19734552  0.44610055  0.55557985  0.85140017  0.45299594\n",
      "   0.12478662  0.16968699  0.1707003   0.39340916  0.58607788  0.2481474\n",
      "   0.6940935   0.43280721  0.60514876  0.66022113  0.86307954  0.55443348\n",
      "   0.45997954  0.12344605  0.          0.51088533]\n",
      " [ 0.5170345   0.69683201  0.42111406  0.63516989  0.52858648  0.07615433\n",
      "   0.5374475   0.59508136  0.36270505  0.08258104  0.27850992  0.10559328\n",
      "   0.51462644  0.71196697  0.40776393  0.22800477  0.51665416  0.80657733\n",
      "   0.6174428   0.67344862  0.84059804  0.3190059   0.51669522  0.42114289\n",
      "   0.35306721  0.69163986  0.54308492  0.67134189  0.14775345  0.31951262\n",
      "   0.08662832  0.43479704  0.41765691  0.19519452  0.51025057  0.46265269\n",
      "   0.36081072  0.17534378  0.51999784  0.86269814  0.07615114  0.71116753\n",
      "   0.70183161  0.47236108  0.71765415  0.6497724   0.109295    0.52874011\n",
      "   0.29333461  0.80816277  0.26985957  0.66856842  0.10740131  0.29632263\n",
      "   0.1603523   0.76312679  0.36936767  0.69899992  0.55310017  0.11999217\n",
      "   0.40203601  0.86100209  0.56973773  0.80583516  0.67292748  0.81914351\n",
      "   0.49328165  0.36917051  0.31112494  0.81949569  0.76281746  0.53935721\n",
      "   0.22079247  0.38084912  0.80376346  0.61996503  0.69355067  0.52933135\n",
      "   0.25529686  0.7082274   0.49953065  0.04864651  0.90079283  0.2253559\n",
      "   0.63517371  0.64407878  0.34018757  0.21316429  0.28043088  0.73131382\n",
      "   0.44901873  0.23221189  0.23268884  0.1724242   0.91456073  0.36686816\n",
      "   0.69699695  0.5709999   0.51088533  0.        ]]\n"
     ]
    },
    {
     "name": "stdout",
     "output_type": "stream",
     "text": [
      "[[ 0.          0.45659626  0.63056061  0.67057956  0.4215558   0.7151715\n",
      "   0.32891332  0.85715961  0.69052138  0.09744453]\n",
      " [ 0.45659626  0.          0.46546668  0.32425003  0.08060352  0.37451759\n",
      "   0.27762756  0.78404297  0.58481379  0.45171184]\n",
      " [ 0.63056061  0.46546668  0.          0.2514821   0.3951245   0.82078073\n",
      "   0.68286471  0.32056856  0.12536423  0.6953399 ]\n",
      " [ 0.67057956  0.32425003  0.2514821   0.          0.28941337  0.6180905\n",
      "   0.595274    0.54826936  0.37089159  0.70436392]\n",
      " [ 0.4215558   0.08060352  0.3951245   0.28941337  0.          0.45508042\n",
      "   0.30870221  0.71074049  0.51127078  0.43347129]\n",
      " [ 0.7151715   0.37451759  0.82078073  0.6180905   0.45508042  0.\n",
      "   0.39481034  1.14109562  0.94478705  0.66195931]\n",
      " [ 0.32891332  0.27762756  0.68286471  0.595274    0.30870221  0.39481034\n",
      "   0.          0.98124195  0.78584084  0.26737784]\n",
      " [ 0.85715961  0.78404297  0.32056856  0.54826936  0.71074049  1.14109562\n",
      "   0.98124195  0.          0.19947053  0.93968221]\n",
      " [ 0.69052138  0.58481379  0.12536423  0.37089159  0.51127078  0.94478705\n",
      "   0.78584084  0.19947053  0.          0.76572634]\n",
      " [ 0.09744453  0.45171184  0.6953399   0.70436392  0.43347129  0.66195931\n",
      "   0.26737784  0.93968221  0.76572634  0.        ]]\n"
     ]
    }
   ],
   "source": [
    "v52 = np.random.random((100, 2))\n",
    "X,Y = np.atleast_2d(v52[:,0], v52[:,1])\n",
    "D = np.sqrt( (X-X.T)**2 + (Y-Y.T)**2)\n",
    "print(D)\n",
    "\n",
    "# Much faster with scipy\n",
    "import scipy\n",
    "# Thanks Gavin Heverly-Coulson (#issue 1)\n",
    "import scipy.spatial\n",
    "\n",
    "Z = np.random.random((10,2))\n",
    "D = scipy.spatial.distance.cdist(Z,Z)\n",
    "print(D)"
   ]
  },
  {
   "cell_type": "markdown",
   "metadata": {},
   "source": [
    "### #53 how to convert a float array into an integer in place ?"
   ]
  },
  {
   "cell_type": "code",
   "execution_count": 326,
   "metadata": {},
   "outputs": [
    {
     "name": "stdout",
     "output_type": "stream",
     "text": [
      "[ 0.  1.  2.  3.  4.  5.  6.  7.  8.  9.]\n"
     ]
    }
   ],
   "source": [
    "v53 = np.arange(10, dtype=np.int32)\n",
    "v53 = v53.astype(np.float32)\n",
    "print(v53)"
   ]
  },
  {
   "cell_type": "markdown",
   "metadata": {},
   "source": [
    "### #54 how to read the following file ?"
   ]
  },
  {
   "cell_type": "code",
   "execution_count": 331,
   "metadata": {},
   "outputs": [],
   "source": [
    "from io import StringIO\n",
    " \n",
    "s = StringIO(\"\"\"1, 2, 3, 4, 5\\n\n",
    "                6,  ,  , 7, 8\\n\n",
    "                 ,  , 9,10,11\\n\"\"\")\n",
    "#Z = np.genfromtxt(s, delimiter=\",\", dtype=np.int)\n",
    "#print(Z)"
   ]
  },
  {
   "cell_type": "markdown",
   "metadata": {},
   "source": [
    "### #55 what is the equivalent of enumerate for numpy arrays ?"
   ]
  },
  {
   "cell_type": "code",
   "execution_count": 335,
   "metadata": {},
   "outputs": [
    {
     "name": "stdout",
     "output_type": "stream",
     "text": [
      "(0, 0) 0\n",
      "(0, 1) 1\n",
      "(0, 2) 2\n",
      "(1, 0) 3\n",
      "(1, 1) 4\n",
      "(1, 2) 5\n",
      "(2, 0) 6\n",
      "(2, 1) 7\n",
      "(2, 2) 8\n",
      "--------------\n",
      "(0, 0) 0\n",
      "(0, 1) 1\n",
      "(0, 2) 2\n",
      "(1, 0) 3\n",
      "(1, 1) 4\n",
      "(1, 2) 5\n",
      "(2, 0) 6\n",
      "(2, 1) 7\n",
      "(2, 2) 8\n"
     ]
    }
   ],
   "source": [
    "Z = np.arange(9).reshape(3,3)\n",
    "for index, value in np.ndenumerate(Z):\n",
    "    print(index, value)\n",
    "print(\"--------------\")\n",
    "for index in np.ndindex(Z.shape):\n",
    "    print(index, Z[index])"
   ]
  },
  {
   "cell_type": "markdown",
   "metadata": {},
   "source": [
    "### #55"
   ]
  }
 ],
 "metadata": {
  "kernelspec": {
   "display_name": "Python 3",
   "language": "python",
   "name": "python3"
  },
  "language_info": {
   "codemirror_mode": {
    "name": "ipython",
    "version": 3
   },
   "file_extension": ".py",
   "mimetype": "text/x-python",
   "name": "python",
   "nbconvert_exporter": "python",
   "pygments_lexer": "ipython3",
   "version": "3.6.3"
  }
 },
 "nbformat": 4,
 "nbformat_minor": 2
}
